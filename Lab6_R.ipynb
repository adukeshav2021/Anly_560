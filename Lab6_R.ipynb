{
  "nbformat": 4,
  "nbformat_minor": 0,
  "metadata": {
    "colab": {
      "name": "Lab6_R.ipynb",
      "provenance": [],
      "collapsed_sections": [],
      "authorship_tag": "ABX9TyM7mNKeyLh9mix14dLLlTPF",
      "include_colab_link": true
    },
    "kernelspec": {
      "name": "ir",
      "display_name": "R"
    },
    "language_info": {
      "name": "R"
    }
  },
  "cells": [
    {
      "cell_type": "markdown",
      "metadata": {
        "id": "view-in-github",
        "colab_type": "text"
      },
      "source": [
        "<a href=\"https://colab.research.google.com/github/adukeshav2021/Anly_560/blob/main/Lab6_R.ipynb\" target=\"_parent\"><img src=\"https://colab.research.google.com/assets/colab-badge.svg\" alt=\"Open In Colab\"/></a>"
      ]
    },
    {
      "cell_type": "code",
      "execution_count": 35,
      "metadata": {
        "colab": {
          "base_uri": "https://localhost:8080/"
        },
        "id": "YfVVRarGDtKC",
        "outputId": "99ea986d-42a3-4574-fc83-70b625b2f20f"
      },
      "outputs": [
        {
          "output_type": "stream",
          "name": "stderr",
          "text": [
            "Warning message in system(\"timedatectl\", intern = TRUE):\n",
            "“running command 'timedatectl' had status 1”\n",
            "\n",
            "Attaching package: ‘lubridate’\n",
            "\n",
            "\n",
            "The following objects are masked from ‘package:base’:\n",
            "\n",
            "    date, intersect, setdiff, union\n",
            "\n",
            "\n"
          ]
        }
      ],
      "source": [
        "library(dplyr)\n",
        "library(tidyr)\n",
        "library(stringr)\n",
        "library(lubridate)"
      ]
    },
    {
      "cell_type": "code",
      "source": [
        "religion <- read.csv('/content/lab6.religion.csv')"
      ],
      "metadata": {
        "id": "9tYlMeOpD9Sb"
      },
      "execution_count": 4,
      "outputs": []
    },
    {
      "cell_type": "code",
      "source": [
        "colnames(religion) <- c('religion', '<$10k', '$10-20k', '$20-30k', '$30-40k', '$40-50k', '$50-75k'\n",
        ")"
      ],
      "metadata": {
        "id": "baGLhHNsEhQU"
      },
      "execution_count": 7,
      "outputs": []
    },
    {
      "cell_type": "code",
      "source": [
        "head(religion)\n",
        "str(religion)"
      ],
      "metadata": {
        "colab": {
          "base_uri": "https://localhost:8080/",
          "height": 425
        },
        "id": "uj6ejurYE7QE",
        "outputId": "4ca1c8ba-dfb0-4f1a-aaf6-293d2ba3a547"
      },
      "execution_count": 8,
      "outputs": [
        {
          "output_type": "display_data",
          "data": {
            "text/plain": [
              "  religion           <$10k $10-20k $20-30k $30-40k $40-50k $50-75k\n",
              "1 Agnostic            27    34       60     81      76      137   \n",
              "2 Atheist             12    27       37     52      35       70   \n",
              "3 Buddhist            27    21       30     34      33       58   \n",
              "4 Catholic           418   617      732    670     638     1116   \n",
              "5 Don't know/refused  15    14       15     11      10       35   \n",
              "6 Evangelical Prot   575   869     1064    982     881     1486   "
            ],
            "text/latex": "A data.frame: 6 × 7\n\\begin{tabular}{r|lllllll}\n  & religion & <\\$10k & \\$10-20k & \\$20-30k & \\$30-40k & \\$40-50k & \\$50-75k\\\\\n  & <chr> & <int> & <int> & <int> & <int> & <int> & <int>\\\\\n\\hline\n\t1 & Agnostic           &  27 &  34 &   60 &  81 &  76 &  137\\\\\n\t2 & Atheist            &  12 &  27 &   37 &  52 &  35 &   70\\\\\n\t3 & Buddhist           &  27 &  21 &   30 &  34 &  33 &   58\\\\\n\t4 & Catholic           & 418 & 617 &  732 & 670 & 638 & 1116\\\\\n\t5 & Don't know/refused &  15 &  14 &   15 &  11 &  10 &   35\\\\\n\t6 & Evangelical Prot   & 575 & 869 & 1064 & 982 & 881 & 1486\\\\\n\\end{tabular}\n",
            "text/markdown": "\nA data.frame: 6 × 7\n\n| <!--/--> | religion &lt;chr&gt; | &lt;$10k &lt;int&gt; | $10-20k &lt;int&gt; | $20-30k &lt;int&gt; | $30-40k &lt;int&gt; | $40-50k &lt;int&gt; | $50-75k &lt;int&gt; |\n|---|---|---|---|---|---|---|---|\n| 1 | Agnostic           |  27 |  34 |   60 |  81 |  76 |  137 |\n| 2 | Atheist            |  12 |  27 |   37 |  52 |  35 |   70 |\n| 3 | Buddhist           |  27 |  21 |   30 |  34 |  33 |   58 |\n| 4 | Catholic           | 418 | 617 |  732 | 670 | 638 | 1116 |\n| 5 | Don't know/refused |  15 |  14 |   15 |  11 |  10 |   35 |\n| 6 | Evangelical Prot   | 575 | 869 | 1064 | 982 | 881 | 1486 |\n\n",
            "text/html": [
              "<table class=\"dataframe\">\n",
              "<caption>A data.frame: 6 × 7</caption>\n",
              "<thead>\n",
              "\t<tr><th></th><th scope=col>religion</th><th scope=col>&lt;$10k</th><th scope=col>$10-20k</th><th scope=col>$20-30k</th><th scope=col>$30-40k</th><th scope=col>$40-50k</th><th scope=col>$50-75k</th></tr>\n",
              "\t<tr><th></th><th scope=col>&lt;chr&gt;</th><th scope=col>&lt;int&gt;</th><th scope=col>&lt;int&gt;</th><th scope=col>&lt;int&gt;</th><th scope=col>&lt;int&gt;</th><th scope=col>&lt;int&gt;</th><th scope=col>&lt;int&gt;</th></tr>\n",
              "</thead>\n",
              "<tbody>\n",
              "\t<tr><th scope=row>1</th><td>Agnostic          </td><td> 27</td><td> 34</td><td>  60</td><td> 81</td><td> 76</td><td> 137</td></tr>\n",
              "\t<tr><th scope=row>2</th><td>Atheist           </td><td> 12</td><td> 27</td><td>  37</td><td> 52</td><td> 35</td><td>  70</td></tr>\n",
              "\t<tr><th scope=row>3</th><td>Buddhist          </td><td> 27</td><td> 21</td><td>  30</td><td> 34</td><td> 33</td><td>  58</td></tr>\n",
              "\t<tr><th scope=row>4</th><td>Catholic          </td><td>418</td><td>617</td><td> 732</td><td>670</td><td>638</td><td>1116</td></tr>\n",
              "\t<tr><th scope=row>5</th><td>Don't know/refused</td><td> 15</td><td> 14</td><td>  15</td><td> 11</td><td> 10</td><td>  35</td></tr>\n",
              "\t<tr><th scope=row>6</th><td>Evangelical Prot  </td><td>575</td><td>869</td><td>1064</td><td>982</td><td>881</td><td>1486</td></tr>\n",
              "</tbody>\n",
              "</table>\n"
            ]
          },
          "metadata": {}
        },
        {
          "output_type": "stream",
          "name": "stdout",
          "text": [
            "'data.frame':\t10 obs. of  7 variables:\n",
            " $ religion: chr  \"Agnostic\" \"Atheist\" \"Buddhist\" \"Catholic\" ...\n",
            " $ <$10k   : int  27 12 27 418 15 575 1 228 20 19\n",
            " $ $10-20k : int  34 27 21 617 14 869 9 244 27 19\n",
            " $ $20-30k : int  60 37 30 732 15 1064 7 236 24 25\n",
            " $ $30-40k : int  81 52 34 670 11 982 9 238 24 25\n",
            " $ $40-50k : int  76 35 33 638 10 881 11 197 21 30\n",
            " $ $50-75k : int  137 70 58 1116 35 1486 34 223 30 95\n"
          ]
        }
      ]
    },
    {
      "cell_type": "code",
      "source": [
        "religion[,c(1,2)]"
      ],
      "metadata": {
        "id": "p0hlCLvOFFeb"
      },
      "execution_count": null,
      "outputs": []
    },
    {
      "cell_type": "code",
      "source": [
        "r1 <- religion[,c(1,2)]\n",
        "r2 <- religion[,c(1,3)]\n",
        "r3 <- religion[,c(1,4)]\n",
        "r4 <- religion[,c(1,5)]\n",
        "r5 <- religion[,c(1,5)]\n",
        "r6 <- religion[,c(1,7)]\n",
        "r1$income <- '<$10k'\n",
        "r2$income <- '$10-20k'\n",
        "r3$income <- '$20-30k'\n",
        "r4$income <- '$30-40k'\n",
        "r5$income <- '$40-50k'\n",
        "r6$income <- '$50-75k'\n",
        "colnames(r1) <- c('religion','freq','income')\n",
        "colnames(r2) <- c('religion','freq','income')\n",
        "colnames(r3) <- c('religion','freq','income')\n",
        "colnames(r4) <- c('religion','freq','income')\n",
        "colnames(r5) <- c('religion','freq','income')\n",
        "colnames(r6) <- c('religion','freq','income')\n",
        "religion2 <-rbind(r1,r2,r3,r4,r5,r6)\n",
        "religion2"
      ],
      "metadata": {
        "id": "1kPfpSzOFcIn"
      },
      "execution_count": null,
      "outputs": []
    },
    {
      "cell_type": "code",
      "source": [
        "religion3 <-\n",
        "  religion %>%\n",
        "  pivot_longer(contains('$'),names_to = 'income', values_to = 'freq')"
      ],
      "metadata": {
        "id": "XutfOje7G6Ql"
      },
      "execution_count": 17,
      "outputs": []
    },
    {
      "cell_type": "code",
      "source": [
        "head(religion3)\n",
        "str(religion3)"
      ],
      "metadata": {
        "id": "z_uJVw_gHnPs"
      },
      "execution_count": null,
      "outputs": []
    },
    {
      "cell_type": "code",
      "source": [
        "religion3[19:31,]"
      ],
      "metadata": {
        "id": "6EHGmLdgHtwD"
      },
      "execution_count": null,
      "outputs": []
    },
    {
      "cell_type": "code",
      "source": [
        "tb <- read.csv('/content/lab6.tb.csv')"
      ],
      "metadata": {
        "id": "WtLyyy5gH43Y"
      },
      "execution_count": 20,
      "outputs": []
    },
    {
      "cell_type": "code",
      "source": [
        "head(tb)\n",
        "str(tb)"
      ],
      "metadata": {
        "id": "9462BFT7H_c_"
      },
      "execution_count": null,
      "outputs": []
    },
    {
      "cell_type": "code",
      "source": [
        "tb2 <-\n",
        "  tb %>%\n",
        "  pivot_longer(matches('m|f'),names_to = 'column', values_to = 'freq')"
      ],
      "metadata": {
        "id": "6cN65UUYIHgX"
      },
      "execution_count": 22,
      "outputs": []
    },
    {
      "cell_type": "code",
      "source": [
        "head(tb2)\n",
        "str(tb2)"
      ],
      "metadata": {
        "id": "EC1bD5RsI8nx"
      },
      "execution_count": null,
      "outputs": []
    },
    {
      "cell_type": "code",
      "source": [
        "tb2[tb2$column == 'mu',]\n",
        "tb2[tb2$column == 'f014',]"
      ],
      "metadata": {
        "id": "mh8Z_OTCJDOA"
      },
      "execution_count": null,
      "outputs": []
    },
    {
      "cell_type": "code",
      "source": [
        "tb2 %>%\n",
        "  mutate(\n",
        "    sex = str_sub(column,1,1),\n",
        "    age_range = str_sub(column,2),\n",
        "    column = NULL\n",
        "  )"
      ],
      "metadata": {
        "id": "2rTLiLhjJx7V"
      },
      "execution_count": null,
      "outputs": []
    },
    {
      "cell_type": "code",
      "source": [
        "temp <- read.csv('/content/lab6.temp.csv')"
      ],
      "metadata": {
        "id": "Ga0WrycaKeik"
      },
      "execution_count": 29,
      "outputs": []
    },
    {
      "cell_type": "code",
      "source": [
        "head(temp)\n",
        "str(temp)"
      ],
      "metadata": {
        "colab": {
          "base_uri": "https://localhost:8080/",
          "height": 373
        },
        "id": "J4j7IFwPKj4F",
        "outputId": "7196bdb2-a002-4c08-e6c0-ac47adb4eb73"
      },
      "execution_count": 32,
      "outputs": [
        {
          "output_type": "display_data",
          "data": {
            "text/plain": [
              "  id      date       element value\n",
              "1 MX17004 2010-01-30 tmax    27.8 \n",
              "2 MX17004 2010-01-30 tmin    14.5 \n",
              "3 MX17004 2010-02-02 tmax    27.3 \n",
              "4 MX17004 2010-02-02 tmin    14.4 \n",
              "5 MX17004 2010-02-03 tmax    24.1 \n",
              "6 MX17004 2010-02-03 tmin    14.4 "
            ],
            "text/latex": "A data.frame: 6 × 4\n\\begin{tabular}{r|llll}\n  & id & date & element & value\\\\\n  & <chr> & <chr> & <chr> & <dbl>\\\\\n\\hline\n\t1 & MX17004 & 2010-01-30 & tmax & 27.8\\\\\n\t2 & MX17004 & 2010-01-30 & tmin & 14.5\\\\\n\t3 & MX17004 & 2010-02-02 & tmax & 27.3\\\\\n\t4 & MX17004 & 2010-02-02 & tmin & 14.4\\\\\n\t5 & MX17004 & 2010-02-03 & tmax & 24.1\\\\\n\t6 & MX17004 & 2010-02-03 & tmin & 14.4\\\\\n\\end{tabular}\n",
            "text/markdown": "\nA data.frame: 6 × 4\n\n| <!--/--> | id &lt;chr&gt; | date &lt;chr&gt; | element &lt;chr&gt; | value &lt;dbl&gt; |\n|---|---|---|---|---|\n| 1 | MX17004 | 2010-01-30 | tmax | 27.8 |\n| 2 | MX17004 | 2010-01-30 | tmin | 14.5 |\n| 3 | MX17004 | 2010-02-02 | tmax | 27.3 |\n| 4 | MX17004 | 2010-02-02 | tmin | 14.4 |\n| 5 | MX17004 | 2010-02-03 | tmax | 24.1 |\n| 6 | MX17004 | 2010-02-03 | tmin | 14.4 |\n\n",
            "text/html": [
              "<table class=\"dataframe\">\n",
              "<caption>A data.frame: 6 × 4</caption>\n",
              "<thead>\n",
              "\t<tr><th></th><th scope=col>id</th><th scope=col>date</th><th scope=col>element</th><th scope=col>value</th></tr>\n",
              "\t<tr><th></th><th scope=col>&lt;chr&gt;</th><th scope=col>&lt;chr&gt;</th><th scope=col>&lt;chr&gt;</th><th scope=col>&lt;dbl&gt;</th></tr>\n",
              "</thead>\n",
              "<tbody>\n",
              "\t<tr><th scope=row>1</th><td>MX17004</td><td>2010-01-30</td><td>tmax</td><td>27.8</td></tr>\n",
              "\t<tr><th scope=row>2</th><td>MX17004</td><td>2010-01-30</td><td>tmin</td><td>14.5</td></tr>\n",
              "\t<tr><th scope=row>3</th><td>MX17004</td><td>2010-02-02</td><td>tmax</td><td>27.3</td></tr>\n",
              "\t<tr><th scope=row>4</th><td>MX17004</td><td>2010-02-02</td><td>tmin</td><td>14.4</td></tr>\n",
              "\t<tr><th scope=row>5</th><td>MX17004</td><td>2010-02-03</td><td>tmax</td><td>24.1</td></tr>\n",
              "\t<tr><th scope=row>6</th><td>MX17004</td><td>2010-02-03</td><td>tmin</td><td>14.4</td></tr>\n",
              "</tbody>\n",
              "</table>\n"
            ]
          },
          "metadata": {}
        },
        {
          "output_type": "stream",
          "name": "stdout",
          "text": [
            "'data.frame':\t10 obs. of  4 variables:\n",
            " $ id     : chr  \"MX17004\" \"MX17004\" \"MX17004\" \"MX17004\" ...\n",
            " $ date   : chr  \"2010-01-30\" \"2010-01-30\" \"2010-02-02\" \"2010-02-02\" ...\n",
            " $ element: chr  \"tmax\" \"tmin\" \"tmax\" \"tmin\" ...\n",
            " $ value  : num  27.8 14.5 27.3 14.4 24.1 14.4 29.7 13.4 29.9 10.7\n"
          ]
        }
      ]
    },
    {
      "cell_type": "code",
      "source": [
        "temp2 <-\n",
        "temp %>%\n",
        "  pivot_wider(names_from = 'element',values_from = 'value')"
      ],
      "metadata": {
        "id": "11pxjDewLIwv"
      },
      "execution_count": 33,
      "outputs": []
    },
    {
      "cell_type": "code",
      "source": [
        "head(temp2)\n",
        "str(temp2)"
      ],
      "metadata": {
        "id": "6yu-bKYVLnvp"
      },
      "execution_count": null,
      "outputs": []
    },
    {
      "cell_type": "code",
      "source": [
        "temp3 <-\n",
        "  temp2 %>%\n",
        "    mutate(date = ymd(date))"
      ],
      "metadata": {
        "id": "13W-Wpf_Lw51"
      },
      "execution_count": 36,
      "outputs": []
    },
    {
      "cell_type": "code",
      "source": [
        "head(temp3)\n",
        "str(temp3)"
      ],
      "metadata": {
        "colab": {
          "base_uri": "https://localhost:8080/",
          "height": 342
        },
        "id": "vvoYw9oZL9Dr",
        "outputId": "7848b602-4945-4987-de7e-289ae53f33eb"
      },
      "execution_count": 37,
      "outputs": [
        {
          "output_type": "display_data",
          "data": {
            "text/plain": [
              "  id      date       tmax tmin\n",
              "1 MX17004 2010-01-30 27.8 14.5\n",
              "2 MX17004 2010-02-02 27.3 14.4\n",
              "3 MX17004 2010-02-03 24.1 14.4\n",
              "4 MX17004 2010-02-11 29.7 13.4\n",
              "5 MX17004 2010-02-23 29.9 10.7"
            ],
            "text/latex": "A tibble: 5 × 4\n\\begin{tabular}{llll}\n id & date & tmax & tmin\\\\\n <chr> & <date> & <dbl> & <dbl>\\\\\n\\hline\n\t MX17004 & 2010-01-30 & 27.8 & 14.5\\\\\n\t MX17004 & 2010-02-02 & 27.3 & 14.4\\\\\n\t MX17004 & 2010-02-03 & 24.1 & 14.4\\\\\n\t MX17004 & 2010-02-11 & 29.7 & 13.4\\\\\n\t MX17004 & 2010-02-23 & 29.9 & 10.7\\\\\n\\end{tabular}\n",
            "text/markdown": "\nA tibble: 5 × 4\n\n| id &lt;chr&gt; | date &lt;date&gt; | tmax &lt;dbl&gt; | tmin &lt;dbl&gt; |\n|---|---|---|---|\n| MX17004 | 2010-01-30 | 27.8 | 14.5 |\n| MX17004 | 2010-02-02 | 27.3 | 14.4 |\n| MX17004 | 2010-02-03 | 24.1 | 14.4 |\n| MX17004 | 2010-02-11 | 29.7 | 13.4 |\n| MX17004 | 2010-02-23 | 29.9 | 10.7 |\n\n",
            "text/html": [
              "<table class=\"dataframe\">\n",
              "<caption>A tibble: 5 × 4</caption>\n",
              "<thead>\n",
              "\t<tr><th scope=col>id</th><th scope=col>date</th><th scope=col>tmax</th><th scope=col>tmin</th></tr>\n",
              "\t<tr><th scope=col>&lt;chr&gt;</th><th scope=col>&lt;date&gt;</th><th scope=col>&lt;dbl&gt;</th><th scope=col>&lt;dbl&gt;</th></tr>\n",
              "</thead>\n",
              "<tbody>\n",
              "\t<tr><td>MX17004</td><td>2010-01-30</td><td>27.8</td><td>14.5</td></tr>\n",
              "\t<tr><td>MX17004</td><td>2010-02-02</td><td>27.3</td><td>14.4</td></tr>\n",
              "\t<tr><td>MX17004</td><td>2010-02-03</td><td>24.1</td><td>14.4</td></tr>\n",
              "\t<tr><td>MX17004</td><td>2010-02-11</td><td>29.7</td><td>13.4</td></tr>\n",
              "\t<tr><td>MX17004</td><td>2010-02-23</td><td>29.9</td><td>10.7</td></tr>\n",
              "</tbody>\n",
              "</table>\n"
            ]
          },
          "metadata": {}
        },
        {
          "output_type": "stream",
          "name": "stdout",
          "text": [
            "tibble [5 × 4] (S3: tbl_df/tbl/data.frame)\n",
            " $ id  : chr [1:5] \"MX17004\" \"MX17004\" \"MX17004\" \"MX17004\" ...\n",
            " $ date: Date[1:5], format: \"2010-01-30\" \"2010-02-02\" ...\n",
            " $ tmax: num [1:5] 27.8 27.3 24.1 29.7 29.9\n",
            " $ tmin: num [1:5] 14.5 14.4 14.4 13.4 10.7\n"
          ]
        }
      ]
    }
  ]
}