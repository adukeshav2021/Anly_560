{
  "nbformat": 4,
  "nbformat_minor": 0,
  "metadata": {
    "colab": {
      "name": "Exam1.python.ipynb",
      "provenance": [],
      "collapsed_sections": []
    },
    "kernelspec": {
      "name": "python3",
      "display_name": "Python 3"
    },
    "language_info": {
      "name": "python"
    }
  },
  "cells": [
    {
      "cell_type": "markdown",
      "source": [
        "# **Aditya Keshav**"
      ],
      "metadata": {
        "id": "4PXNkmdZHgGf"
      }
    },
    {
      "cell_type": "markdown",
      "source": [
        "1. What is PA's preferred vaccine brand? (***Pfizer***) How much has been distributed? (***5071510.0***)\n",
        "2. Which county received the most vaccine doses?(**Allegheny**) How much has been distributed? (**1133470.0**)\n",
        "3. On a per county basis, what month received the most vaccine doses?"
      ],
      "metadata": {
        "id": "X0mNXBOIHjMC"
      }
    },
    {
      "cell_type": "code",
      "metadata": {
        "id": "SSpdZyQghipF"
      },
      "source": [
        "import pandas as pd\n",
        "import numpy as np\n",
        "\n"
      ],
      "execution_count": 56,
      "outputs": []
    },
    {
      "cell_type": "code",
      "metadata": {
        "id": "U4d_qIh_hmPH"
      },
      "source": [
        "data_raw = pd.read_csv('/content/covid.csv')\n"
      ],
      "execution_count": 95,
      "outputs": []
    },
    {
      "cell_type": "code",
      "metadata": {
        "id": "UT1KGvdThsFm"
      },
      "source": [
        "data = data_raw\n",
        "\n"
      ],
      "execution_count": 500,
      "outputs": []
    },
    {
      "cell_type": "code",
      "metadata": {
        "id": "Bso6oBdXwF-K",
        "colab": {
          "base_uri": "https://localhost:8080/"
        },
        "outputId": "12784057-68e4-429e-b49d-882150f45fa6"
      },
      "source": [
        "print(len(data))\n",
        "data.dtypes #28393"
      ],
      "execution_count": 501,
      "outputs": [
        {
          "output_type": "stream",
          "name": "stdout",
          "text": [
            "28393\n"
          ]
        },
        {
          "output_type": "execute_result",
          "data": {
            "text/plain": [
              "Pharmacy       object\n",
              "Address 1      object\n",
              "City           object\n",
              "County         object\n",
              "State          object\n",
              "Zip            object\n",
              "Vaccine        object\n",
              "Date           object\n",
              "Doses         float64\n",
              "GeoLatLong     object\n",
              "dtype: object"
            ]
          },
          "metadata": {},
          "execution_count": 501
        }
      ]
    },
    {
      "cell_type": "code",
      "source": [
        "data.columns"
      ],
      "metadata": {
        "colab": {
          "base_uri": "https://localhost:8080/"
        },
        "id": "Wnt2ikfnK9za",
        "outputId": "d88f3dae-a9e7-41ec-feb3-e919605a57b9"
      },
      "execution_count": 502,
      "outputs": [
        {
          "output_type": "execute_result",
          "data": {
            "text/plain": [
              "Index(['Pharmacy', 'Address 1', 'City', 'County', 'State', 'Zip', 'Vaccine',\n",
              "       'Date', 'Doses', 'GeoLatLong'],\n",
              "      dtype='object')"
            ]
          },
          "metadata": {},
          "execution_count": 502
        }
      ]
    },
    {
      "cell_type": "code",
      "source": [
        "dict = {\n",
        "    'Retail Pharmacy Partner Name': 'Pharmacy',\n",
        "    'Address 1': 'Address 1',\n",
        "    'City': 'City',\n",
        "    'County': 'County',\n",
        "    'State': 'State',\n",
        "    'Zip Code': 'Zip',\n",
        "    'Vaccine': 'Vaccine',\n",
        "    'Date': 'Date',\n",
        "    'Doses': 'Doses',\n",
        "    'Georeferenced Latitude & Longitude': 'GeoLatLong'\n",
        "    }\n",
        "data.rename(columns = dict, inplace = True)"
      ],
      "metadata": {
        "id": "1GvbmRkBLKwr"
      },
      "execution_count": 503,
      "outputs": []
    },
    {
      "cell_type": "code",
      "source": [
        "data.columns"
      ],
      "metadata": {
        "colab": {
          "base_uri": "https://localhost:8080/"
        },
        "id": "uDEaib9ELp3m",
        "outputId": "31a63029-2e79-4f10-a898-62e21357ef23"
      },
      "execution_count": 504,
      "outputs": [
        {
          "output_type": "execute_result",
          "data": {
            "text/plain": [
              "Index(['Pharmacy', 'Address 1', 'City', 'County', 'State', 'Zip', 'Vaccine',\n",
              "       'Date', 'Doses', 'GeoLatLong'],\n",
              "      dtype='object')"
            ]
          },
          "metadata": {},
          "execution_count": 504
        }
      ]
    },
    {
      "cell_type": "code",
      "metadata": {
        "id": "AavdFWt_h6Nz"
      },
      "source": [
        "#data = data[~pd.isna(data.Zip)]\n",
        "data = data[~pd.isna(data.Vaccine)]\n",
        "data = data[~pd.isna(data.Doses)]\n",
        "#data = data[~pd.isna(data.GeoLatLong)]\n",
        "data = data[~pd.isna(data.County)]\n",
        "data = data[~pd.isna(data.Date)]\n",
        "\n",
        "data = data[~(data['County'].str.strip() == '')]\n",
        "\n"
      ],
      "execution_count": 505,
      "outputs": []
    },
    {
      "cell_type": "code",
      "source": [
        "data.Date = pd.to_datetime(data.Date, format = '%m/%d/%Y')"
      ],
      "metadata": {
        "id": "peJlFX1nuwky"
      },
      "execution_count": 506,
      "outputs": []
    },
    {
      "cell_type": "code",
      "source": [
        "print(len(data))\n",
        "data.dtypes #28382"
      ],
      "metadata": {
        "colab": {
          "base_uri": "https://localhost:8080/"
        },
        "id": "Sr3KletUwsav",
        "outputId": "362578ee-8953-4af1-c806-487df1d3365e"
      },
      "execution_count": 507,
      "outputs": [
        {
          "output_type": "stream",
          "name": "stdout",
          "text": [
            "28382\n"
          ]
        },
        {
          "output_type": "execute_result",
          "data": {
            "text/plain": [
              "Pharmacy              object\n",
              "Address 1             object\n",
              "City                  object\n",
              "County                object\n",
              "State                 object\n",
              "Zip                   object\n",
              "Vaccine               object\n",
              "Date          datetime64[ns]\n",
              "Doses                float64\n",
              "GeoLatLong            object\n",
              "dtype: object"
            ]
          },
          "metadata": {},
          "execution_count": 507
        }
      ]
    },
    {
      "cell_type": "code",
      "source": [
        "data"
      ],
      "metadata": {
        "colab": {
          "base_uri": "https://localhost:8080/",
          "height": 774
        },
        "id": "MLl-Z_FtQvvq",
        "outputId": "175dfbb0-c679-4891-8ab6-2f20e9f361b1"
      },
      "execution_count": 508,
      "outputs": [
        {
          "output_type": "execute_result",
          "data": {
            "text/html": [
              "<div>\n",
              "<style scoped>\n",
              "    .dataframe tbody tr th:only-of-type {\n",
              "        vertical-align: middle;\n",
              "    }\n",
              "\n",
              "    .dataframe tbody tr th {\n",
              "        vertical-align: top;\n",
              "    }\n",
              "\n",
              "    .dataframe thead th {\n",
              "        text-align: right;\n",
              "    }\n",
              "</style>\n",
              "<table border=\"1\" class=\"dataframe\">\n",
              "  <thead>\n",
              "    <tr style=\"text-align: right;\">\n",
              "      <th></th>\n",
              "      <th>Pharmacy</th>\n",
              "      <th>Address 1</th>\n",
              "      <th>City</th>\n",
              "      <th>County</th>\n",
              "      <th>State</th>\n",
              "      <th>Zip</th>\n",
              "      <th>Vaccine</th>\n",
              "      <th>Date</th>\n",
              "      <th>Doses</th>\n",
              "      <th>GeoLatLong</th>\n",
              "    </tr>\n",
              "  </thead>\n",
              "  <tbody>\n",
              "    <tr>\n",
              "      <th>0</th>\n",
              "      <td>Rite Aid 04965</td>\n",
              "      <td>201 Grace Street</td>\n",
              "      <td>Pittsburgh</td>\n",
              "      <td>Allegheny</td>\n",
              "      <td>PA</td>\n",
              "      <td>15211</td>\n",
              "      <td>Janssen Vaccine</td>\n",
              "      <td>2021-10-26</td>\n",
              "      <td>100.0</td>\n",
              "      <td>NaN</td>\n",
              "    </tr>\n",
              "    <tr>\n",
              "      <th>1</th>\n",
              "      <td>Rite Aid 02277</td>\n",
              "      <td>1799 Third Street</td>\n",
              "      <td>Beaver</td>\n",
              "      <td>Beaver</td>\n",
              "      <td>PA</td>\n",
              "      <td>15009</td>\n",
              "      <td>Moderna Vaccine</td>\n",
              "      <td>2021-08-24</td>\n",
              "      <td>280.0</td>\n",
              "      <td>NaN</td>\n",
              "    </tr>\n",
              "    <tr>\n",
              "      <th>2</th>\n",
              "      <td>Sav-on Pharmacy</td>\n",
              "      <td>567 Sproul Rd</td>\n",
              "      <td>Broomall</td>\n",
              "      <td>Delaware</td>\n",
              "      <td>PA</td>\n",
              "      <td>19008</td>\n",
              "      <td>Pfizer Vaccine</td>\n",
              "      <td>2021-08-31</td>\n",
              "      <td>1170.0</td>\n",
              "      <td>NaN</td>\n",
              "    </tr>\n",
              "    <tr>\n",
              "      <th>3</th>\n",
              "      <td>Cvs Store #01640</td>\n",
              "      <td>4686 Rte 209, Lykens Valley S/c</td>\n",
              "      <td>Elizabethville</td>\n",
              "      <td>Dauphin</td>\n",
              "      <td>PA</td>\n",
              "      <td>17023</td>\n",
              "      <td>Pfizer Vaccine</td>\n",
              "      <td>2021-06-08</td>\n",
              "      <td>1170.0</td>\n",
              "      <td>NaN</td>\n",
              "    </tr>\n",
              "    <tr>\n",
              "      <th>4</th>\n",
              "      <td>Weis Markets Inc</td>\n",
              "      <td>801 Loyalsock Ave</td>\n",
              "      <td>Montoursville</td>\n",
              "      <td>Lycoming</td>\n",
              "      <td>PA</td>\n",
              "      <td>17754</td>\n",
              "      <td>Moderna</td>\n",
              "      <td>2021-01-18</td>\n",
              "      <td>100.0</td>\n",
              "      <td>NaN</td>\n",
              "    </tr>\n",
              "    <tr>\n",
              "      <th>...</th>\n",
              "      <td>...</td>\n",
              "      <td>...</td>\n",
              "      <td>...</td>\n",
              "      <td>...</td>\n",
              "      <td>...</td>\n",
              "      <td>...</td>\n",
              "      <td>...</td>\n",
              "      <td>...</td>\n",
              "      <td>...</td>\n",
              "      <td>...</td>\n",
              "    </tr>\n",
              "    <tr>\n",
              "      <th>28388</th>\n",
              "      <td>Rite Aid 03775</td>\n",
              "      <td>500 North Main Avenue</td>\n",
              "      <td>Scranton</td>\n",
              "      <td>Lackawanna</td>\n",
              "      <td>PA</td>\n",
              "      <td>18504</td>\n",
              "      <td>Janssen Vaccine</td>\n",
              "      <td>2021-12-07</td>\n",
              "      <td>100.0</td>\n",
              "      <td>POINT (-75.675203 41.418016)</td>\n",
              "    </tr>\n",
              "    <tr>\n",
              "      <th>28389</th>\n",
              "      <td>Walgreens Store #10549</td>\n",
              "      <td>2801 Sharkys Dr</td>\n",
              "      <td>Latrobe</td>\n",
              "      <td>Westmoreland</td>\n",
              "      <td>PA</td>\n",
              "      <td>15650</td>\n",
              "      <td>Moderna Vaccine</td>\n",
              "      <td>2021-12-07</td>\n",
              "      <td>200.0</td>\n",
              "      <td>POINT (-79.389794 40.285861)</td>\n",
              "    </tr>\n",
              "    <tr>\n",
              "      <th>28390</th>\n",
              "      <td>Rite Aid 00819</td>\n",
              "      <td>340 East High Street</td>\n",
              "      <td>Pottstown</td>\n",
              "      <td>Montgomery</td>\n",
              "      <td>PA</td>\n",
              "      <td>19464</td>\n",
              "      <td>Moderna Vaccine</td>\n",
              "      <td>2021-12-07</td>\n",
              "      <td>100.0</td>\n",
              "      <td>POINT (-75.646124 40.245125)</td>\n",
              "    </tr>\n",
              "    <tr>\n",
              "      <th>28391</th>\n",
              "      <td>Rite Aid 11075</td>\n",
              "      <td>120 Laurel Plaza</td>\n",
              "      <td>Pittston</td>\n",
              "      <td>Luzerne</td>\n",
              "      <td>PA</td>\n",
              "      <td>18640</td>\n",
              "      <td>Moderna Vaccine</td>\n",
              "      <td>2021-12-07</td>\n",
              "      <td>100.0</td>\n",
              "      <td>POINT (-75.772832 41.320516)</td>\n",
              "    </tr>\n",
              "    <tr>\n",
              "      <th>28392</th>\n",
              "      <td>Walmart Pharmacy #4348</td>\n",
              "      <td>200 Commerce Dr</td>\n",
              "      <td>Duncansville</td>\n",
              "      <td>Blair</td>\n",
              "      <td>PA</td>\n",
              "      <td>16635</td>\n",
              "      <td>Pfizer Vaccine</td>\n",
              "      <td>2021-12-07</td>\n",
              "      <td>1170.0</td>\n",
              "      <td>POINT (-78.432843 40.370159)</td>\n",
              "    </tr>\n",
              "  </tbody>\n",
              "</table>\n",
              "<p>28382 rows × 10 columns</p>\n",
              "</div>"
            ],
            "text/plain": [
              "                     Pharmacy  ...                    GeoLatLong\n",
              "0              Rite Aid 04965  ...                           NaN\n",
              "1              Rite Aid 02277  ...                           NaN\n",
              "2             Sav-on Pharmacy  ...                           NaN\n",
              "3            Cvs Store #01640  ...                           NaN\n",
              "4            Weis Markets Inc  ...                           NaN\n",
              "...                       ...  ...                           ...\n",
              "28388          Rite Aid 03775  ...  POINT (-75.675203 41.418016)\n",
              "28389  Walgreens Store #10549  ...  POINT (-79.389794 40.285861)\n",
              "28390          Rite Aid 00819  ...  POINT (-75.646124 40.245125)\n",
              "28391          Rite Aid 11075  ...  POINT (-75.772832 41.320516)\n",
              "28392  Walmart Pharmacy #4348  ...  POINT (-78.432843 40.370159)\n",
              "\n",
              "[28382 rows x 10 columns]"
            ]
          },
          "metadata": {},
          "execution_count": 508
        }
      ]
    },
    {
      "cell_type": "code",
      "metadata": {
        "id": "D6atcZ-eijLt"
      },
      "source": [
        "cols = ['County','Vaccine','Date','Doses']\n",
        "data = data[cols]"
      ],
      "execution_count": 509,
      "outputs": []
    },
    {
      "cell_type": "code",
      "source": [
        "data"
      ],
      "metadata": {
        "colab": {
          "base_uri": "https://localhost:8080/",
          "height": 424
        },
        "id": "Vrj3E1dPROuu",
        "outputId": "5af6ac03-f7c6-49cb-80b1-6eefaeeb9c7e"
      },
      "execution_count": 510,
      "outputs": [
        {
          "output_type": "execute_result",
          "data": {
            "text/html": [
              "<div>\n",
              "<style scoped>\n",
              "    .dataframe tbody tr th:only-of-type {\n",
              "        vertical-align: middle;\n",
              "    }\n",
              "\n",
              "    .dataframe tbody tr th {\n",
              "        vertical-align: top;\n",
              "    }\n",
              "\n",
              "    .dataframe thead th {\n",
              "        text-align: right;\n",
              "    }\n",
              "</style>\n",
              "<table border=\"1\" class=\"dataframe\">\n",
              "  <thead>\n",
              "    <tr style=\"text-align: right;\">\n",
              "      <th></th>\n",
              "      <th>County</th>\n",
              "      <th>Vaccine</th>\n",
              "      <th>Date</th>\n",
              "      <th>Doses</th>\n",
              "    </tr>\n",
              "  </thead>\n",
              "  <tbody>\n",
              "    <tr>\n",
              "      <th>0</th>\n",
              "      <td>Allegheny</td>\n",
              "      <td>Janssen Vaccine</td>\n",
              "      <td>2021-10-26</td>\n",
              "      <td>100.0</td>\n",
              "    </tr>\n",
              "    <tr>\n",
              "      <th>1</th>\n",
              "      <td>Beaver</td>\n",
              "      <td>Moderna Vaccine</td>\n",
              "      <td>2021-08-24</td>\n",
              "      <td>280.0</td>\n",
              "    </tr>\n",
              "    <tr>\n",
              "      <th>2</th>\n",
              "      <td>Delaware</td>\n",
              "      <td>Pfizer Vaccine</td>\n",
              "      <td>2021-08-31</td>\n",
              "      <td>1170.0</td>\n",
              "    </tr>\n",
              "    <tr>\n",
              "      <th>3</th>\n",
              "      <td>Dauphin</td>\n",
              "      <td>Pfizer Vaccine</td>\n",
              "      <td>2021-06-08</td>\n",
              "      <td>1170.0</td>\n",
              "    </tr>\n",
              "    <tr>\n",
              "      <th>4</th>\n",
              "      <td>Lycoming</td>\n",
              "      <td>Moderna</td>\n",
              "      <td>2021-01-18</td>\n",
              "      <td>100.0</td>\n",
              "    </tr>\n",
              "    <tr>\n",
              "      <th>...</th>\n",
              "      <td>...</td>\n",
              "      <td>...</td>\n",
              "      <td>...</td>\n",
              "      <td>...</td>\n",
              "    </tr>\n",
              "    <tr>\n",
              "      <th>28388</th>\n",
              "      <td>Lackawanna</td>\n",
              "      <td>Janssen Vaccine</td>\n",
              "      <td>2021-12-07</td>\n",
              "      <td>100.0</td>\n",
              "    </tr>\n",
              "    <tr>\n",
              "      <th>28389</th>\n",
              "      <td>Westmoreland</td>\n",
              "      <td>Moderna Vaccine</td>\n",
              "      <td>2021-12-07</td>\n",
              "      <td>200.0</td>\n",
              "    </tr>\n",
              "    <tr>\n",
              "      <th>28390</th>\n",
              "      <td>Montgomery</td>\n",
              "      <td>Moderna Vaccine</td>\n",
              "      <td>2021-12-07</td>\n",
              "      <td>100.0</td>\n",
              "    </tr>\n",
              "    <tr>\n",
              "      <th>28391</th>\n",
              "      <td>Luzerne</td>\n",
              "      <td>Moderna Vaccine</td>\n",
              "      <td>2021-12-07</td>\n",
              "      <td>100.0</td>\n",
              "    </tr>\n",
              "    <tr>\n",
              "      <th>28392</th>\n",
              "      <td>Blair</td>\n",
              "      <td>Pfizer Vaccine</td>\n",
              "      <td>2021-12-07</td>\n",
              "      <td>1170.0</td>\n",
              "    </tr>\n",
              "  </tbody>\n",
              "</table>\n",
              "<p>28382 rows × 4 columns</p>\n",
              "</div>"
            ],
            "text/plain": [
              "             County          Vaccine       Date   Doses\n",
              "0         Allegheny  Janssen Vaccine 2021-10-26   100.0\n",
              "1            Beaver  Moderna Vaccine 2021-08-24   280.0\n",
              "2          Delaware   Pfizer Vaccine 2021-08-31  1170.0\n",
              "3           Dauphin   Pfizer Vaccine 2021-06-08  1170.0\n",
              "4          Lycoming          Moderna 2021-01-18   100.0\n",
              "...             ...              ...        ...     ...\n",
              "28388    Lackawanna  Janssen Vaccine 2021-12-07   100.0\n",
              "28389  Westmoreland  Moderna Vaccine 2021-12-07   200.0\n",
              "28390    Montgomery  Moderna Vaccine 2021-12-07   100.0\n",
              "28391       Luzerne  Moderna Vaccine 2021-12-07   100.0\n",
              "28392         Blair   Pfizer Vaccine 2021-12-07  1170.0\n",
              "\n",
              "[28382 rows x 4 columns]"
            ]
          },
          "metadata": {},
          "execution_count": 510
        }
      ]
    },
    {
      "cell_type": "code",
      "source": [
        "print(len(data))\n",
        "data.dtypes"
      ],
      "metadata": {
        "colab": {
          "base_uri": "https://localhost:8080/"
        },
        "id": "rTFVdWg7RWS2",
        "outputId": "6ab6f43d-8263-4d48-c021-2993a6106790"
      },
      "execution_count": 511,
      "outputs": [
        {
          "output_type": "stream",
          "name": "stdout",
          "text": [
            "28382\n"
          ]
        },
        {
          "output_type": "execute_result",
          "data": {
            "text/plain": [
              "County             object\n",
              "Vaccine            object\n",
              "Date       datetime64[ns]\n",
              "Doses             float64\n",
              "dtype: object"
            ]
          },
          "metadata": {},
          "execution_count": 511
        }
      ]
    },
    {
      "cell_type": "code",
      "source": [
        "data.Vaccine.replace(to_replace='Pfizer Vaccine', value='Pfizer', inplace=True, limit=None, regex=True, method='pad')"
      ],
      "metadata": {
        "colab": {
          "base_uri": "https://localhost:8080/"
        },
        "id": "gk9I4KDQbcWL",
        "outputId": "48ce25d3-3a1a-462c-dafd-a21258681e64"
      },
      "execution_count": 512,
      "outputs": [
        {
          "output_type": "stream",
          "name": "stderr",
          "text": [
            "/usr/local/lib/python3.7/dist-packages/pandas/core/series.py:4582: SettingWithCopyWarning: \n",
            "A value is trying to be set on a copy of a slice from a DataFrame\n",
            "\n",
            "See the caveats in the documentation: https://pandas.pydata.org/pandas-docs/stable/user_guide/indexing.html#returning-a-view-versus-a-copy\n",
            "  method=method,\n"
          ]
        }
      ]
    },
    {
      "cell_type": "code",
      "source": [
        "data.Vaccine.replace(to_replace='Pfizer Pediatric Vaccine', value='Pfizer', inplace=True, limit=None, regex=True, method='pad')"
      ],
      "metadata": {
        "colab": {
          "base_uri": "https://localhost:8080/"
        },
        "id": "8JVYYqBDgARu",
        "outputId": "93a4ac45-55a1-4d76-d177-26482563f202"
      },
      "execution_count": 513,
      "outputs": [
        {
          "output_type": "stream",
          "name": "stderr",
          "text": [
            "/usr/local/lib/python3.7/dist-packages/pandas/core/series.py:4582: SettingWithCopyWarning: \n",
            "A value is trying to be set on a copy of a slice from a DataFrame\n",
            "\n",
            "See the caveats in the documentation: https://pandas.pydata.org/pandas-docs/stable/user_guide/indexing.html#returning-a-view-versus-a-copy\n",
            "  method=method,\n"
          ]
        }
      ]
    },
    {
      "cell_type": "code",
      "source": [
        "data"
      ],
      "metadata": {
        "colab": {
          "base_uri": "https://localhost:8080/",
          "height": 424
        },
        "id": "mZ442jSGex5e",
        "outputId": "723c2989-deb7-464a-8344-700426e4b462"
      },
      "execution_count": 514,
      "outputs": [
        {
          "output_type": "execute_result",
          "data": {
            "text/html": [
              "<div>\n",
              "<style scoped>\n",
              "    .dataframe tbody tr th:only-of-type {\n",
              "        vertical-align: middle;\n",
              "    }\n",
              "\n",
              "    .dataframe tbody tr th {\n",
              "        vertical-align: top;\n",
              "    }\n",
              "\n",
              "    .dataframe thead th {\n",
              "        text-align: right;\n",
              "    }\n",
              "</style>\n",
              "<table border=\"1\" class=\"dataframe\">\n",
              "  <thead>\n",
              "    <tr style=\"text-align: right;\">\n",
              "      <th></th>\n",
              "      <th>County</th>\n",
              "      <th>Vaccine</th>\n",
              "      <th>Date</th>\n",
              "      <th>Doses</th>\n",
              "    </tr>\n",
              "  </thead>\n",
              "  <tbody>\n",
              "    <tr>\n",
              "      <th>0</th>\n",
              "      <td>Allegheny</td>\n",
              "      <td>Janssen Vaccine</td>\n",
              "      <td>2021-10-26</td>\n",
              "      <td>100.0</td>\n",
              "    </tr>\n",
              "    <tr>\n",
              "      <th>1</th>\n",
              "      <td>Beaver</td>\n",
              "      <td>Moderna Vaccine</td>\n",
              "      <td>2021-08-24</td>\n",
              "      <td>280.0</td>\n",
              "    </tr>\n",
              "    <tr>\n",
              "      <th>2</th>\n",
              "      <td>Delaware</td>\n",
              "      <td>Pfizer</td>\n",
              "      <td>2021-08-31</td>\n",
              "      <td>1170.0</td>\n",
              "    </tr>\n",
              "    <tr>\n",
              "      <th>3</th>\n",
              "      <td>Dauphin</td>\n",
              "      <td>Pfizer</td>\n",
              "      <td>2021-06-08</td>\n",
              "      <td>1170.0</td>\n",
              "    </tr>\n",
              "    <tr>\n",
              "      <th>4</th>\n",
              "      <td>Lycoming</td>\n",
              "      <td>Moderna</td>\n",
              "      <td>2021-01-18</td>\n",
              "      <td>100.0</td>\n",
              "    </tr>\n",
              "    <tr>\n",
              "      <th>...</th>\n",
              "      <td>...</td>\n",
              "      <td>...</td>\n",
              "      <td>...</td>\n",
              "      <td>...</td>\n",
              "    </tr>\n",
              "    <tr>\n",
              "      <th>28388</th>\n",
              "      <td>Lackawanna</td>\n",
              "      <td>Janssen Vaccine</td>\n",
              "      <td>2021-12-07</td>\n",
              "      <td>100.0</td>\n",
              "    </tr>\n",
              "    <tr>\n",
              "      <th>28389</th>\n",
              "      <td>Westmoreland</td>\n",
              "      <td>Moderna Vaccine</td>\n",
              "      <td>2021-12-07</td>\n",
              "      <td>200.0</td>\n",
              "    </tr>\n",
              "    <tr>\n",
              "      <th>28390</th>\n",
              "      <td>Montgomery</td>\n",
              "      <td>Moderna Vaccine</td>\n",
              "      <td>2021-12-07</td>\n",
              "      <td>100.0</td>\n",
              "    </tr>\n",
              "    <tr>\n",
              "      <th>28391</th>\n",
              "      <td>Luzerne</td>\n",
              "      <td>Moderna Vaccine</td>\n",
              "      <td>2021-12-07</td>\n",
              "      <td>100.0</td>\n",
              "    </tr>\n",
              "    <tr>\n",
              "      <th>28392</th>\n",
              "      <td>Blair</td>\n",
              "      <td>Pfizer</td>\n",
              "      <td>2021-12-07</td>\n",
              "      <td>1170.0</td>\n",
              "    </tr>\n",
              "  </tbody>\n",
              "</table>\n",
              "<p>28382 rows × 4 columns</p>\n",
              "</div>"
            ],
            "text/plain": [
              "             County          Vaccine       Date   Doses\n",
              "0         Allegheny  Janssen Vaccine 2021-10-26   100.0\n",
              "1            Beaver  Moderna Vaccine 2021-08-24   280.0\n",
              "2          Delaware           Pfizer 2021-08-31  1170.0\n",
              "3           Dauphin           Pfizer 2021-06-08  1170.0\n",
              "4          Lycoming          Moderna 2021-01-18   100.0\n",
              "...             ...              ...        ...     ...\n",
              "28388    Lackawanna  Janssen Vaccine 2021-12-07   100.0\n",
              "28389  Westmoreland  Moderna Vaccine 2021-12-07   200.0\n",
              "28390    Montgomery  Moderna Vaccine 2021-12-07   100.0\n",
              "28391       Luzerne  Moderna Vaccine 2021-12-07   100.0\n",
              "28392         Blair           Pfizer 2021-12-07  1170.0\n",
              "\n",
              "[28382 rows x 4 columns]"
            ]
          },
          "metadata": {},
          "execution_count": 514
        }
      ]
    },
    {
      "cell_type": "code",
      "source": [
        "data.Vaccine.replace(to_replace='Moderna Vaccine', value='Moderna', inplace=True, limit=None, regex=True, method='pad')"
      ],
      "metadata": {
        "colab": {
          "base_uri": "https://localhost:8080/"
        },
        "id": "XCHhacn8gVsz",
        "outputId": "e8eb465c-8736-45a0-a98c-53c123639b45"
      },
      "execution_count": 515,
      "outputs": [
        {
          "output_type": "stream",
          "name": "stderr",
          "text": [
            "/usr/local/lib/python3.7/dist-packages/pandas/core/series.py:4582: SettingWithCopyWarning: \n",
            "A value is trying to be set on a copy of a slice from a DataFrame\n",
            "\n",
            "See the caveats in the documentation: https://pandas.pydata.org/pandas-docs/stable/user_guide/indexing.html#returning-a-view-versus-a-copy\n",
            "  method=method,\n"
          ]
        }
      ]
    },
    {
      "cell_type": "code",
      "source": [
        "data"
      ],
      "metadata": {
        "colab": {
          "base_uri": "https://localhost:8080/",
          "height": 424
        },
        "id": "HvVmYObQhi2A",
        "outputId": "35aecf6e-760f-41ef-8e75-24ab1f7e3f0e"
      },
      "execution_count": 516,
      "outputs": [
        {
          "output_type": "execute_result",
          "data": {
            "text/html": [
              "<div>\n",
              "<style scoped>\n",
              "    .dataframe tbody tr th:only-of-type {\n",
              "        vertical-align: middle;\n",
              "    }\n",
              "\n",
              "    .dataframe tbody tr th {\n",
              "        vertical-align: top;\n",
              "    }\n",
              "\n",
              "    .dataframe thead th {\n",
              "        text-align: right;\n",
              "    }\n",
              "</style>\n",
              "<table border=\"1\" class=\"dataframe\">\n",
              "  <thead>\n",
              "    <tr style=\"text-align: right;\">\n",
              "      <th></th>\n",
              "      <th>County</th>\n",
              "      <th>Vaccine</th>\n",
              "      <th>Date</th>\n",
              "      <th>Doses</th>\n",
              "    </tr>\n",
              "  </thead>\n",
              "  <tbody>\n",
              "    <tr>\n",
              "      <th>0</th>\n",
              "      <td>Allegheny</td>\n",
              "      <td>Janssen Vaccine</td>\n",
              "      <td>2021-10-26</td>\n",
              "      <td>100.0</td>\n",
              "    </tr>\n",
              "    <tr>\n",
              "      <th>1</th>\n",
              "      <td>Beaver</td>\n",
              "      <td>Moderna</td>\n",
              "      <td>2021-08-24</td>\n",
              "      <td>280.0</td>\n",
              "    </tr>\n",
              "    <tr>\n",
              "      <th>2</th>\n",
              "      <td>Delaware</td>\n",
              "      <td>Pfizer</td>\n",
              "      <td>2021-08-31</td>\n",
              "      <td>1170.0</td>\n",
              "    </tr>\n",
              "    <tr>\n",
              "      <th>3</th>\n",
              "      <td>Dauphin</td>\n",
              "      <td>Pfizer</td>\n",
              "      <td>2021-06-08</td>\n",
              "      <td>1170.0</td>\n",
              "    </tr>\n",
              "    <tr>\n",
              "      <th>4</th>\n",
              "      <td>Lycoming</td>\n",
              "      <td>Moderna</td>\n",
              "      <td>2021-01-18</td>\n",
              "      <td>100.0</td>\n",
              "    </tr>\n",
              "    <tr>\n",
              "      <th>...</th>\n",
              "      <td>...</td>\n",
              "      <td>...</td>\n",
              "      <td>...</td>\n",
              "      <td>...</td>\n",
              "    </tr>\n",
              "    <tr>\n",
              "      <th>28388</th>\n",
              "      <td>Lackawanna</td>\n",
              "      <td>Janssen Vaccine</td>\n",
              "      <td>2021-12-07</td>\n",
              "      <td>100.0</td>\n",
              "    </tr>\n",
              "    <tr>\n",
              "      <th>28389</th>\n",
              "      <td>Westmoreland</td>\n",
              "      <td>Moderna</td>\n",
              "      <td>2021-12-07</td>\n",
              "      <td>200.0</td>\n",
              "    </tr>\n",
              "    <tr>\n",
              "      <th>28390</th>\n",
              "      <td>Montgomery</td>\n",
              "      <td>Moderna</td>\n",
              "      <td>2021-12-07</td>\n",
              "      <td>100.0</td>\n",
              "    </tr>\n",
              "    <tr>\n",
              "      <th>28391</th>\n",
              "      <td>Luzerne</td>\n",
              "      <td>Moderna</td>\n",
              "      <td>2021-12-07</td>\n",
              "      <td>100.0</td>\n",
              "    </tr>\n",
              "    <tr>\n",
              "      <th>28392</th>\n",
              "      <td>Blair</td>\n",
              "      <td>Pfizer</td>\n",
              "      <td>2021-12-07</td>\n",
              "      <td>1170.0</td>\n",
              "    </tr>\n",
              "  </tbody>\n",
              "</table>\n",
              "<p>28382 rows × 4 columns</p>\n",
              "</div>"
            ],
            "text/plain": [
              "             County          Vaccine       Date   Doses\n",
              "0         Allegheny  Janssen Vaccine 2021-10-26   100.0\n",
              "1            Beaver          Moderna 2021-08-24   280.0\n",
              "2          Delaware           Pfizer 2021-08-31  1170.0\n",
              "3           Dauphin           Pfizer 2021-06-08  1170.0\n",
              "4          Lycoming          Moderna 2021-01-18   100.0\n",
              "...             ...              ...        ...     ...\n",
              "28388    Lackawanna  Janssen Vaccine 2021-12-07   100.0\n",
              "28389  Westmoreland          Moderna 2021-12-07   200.0\n",
              "28390    Montgomery          Moderna 2021-12-07   100.0\n",
              "28391       Luzerne          Moderna 2021-12-07   100.0\n",
              "28392         Blair           Pfizer 2021-12-07  1170.0\n",
              "\n",
              "[28382 rows x 4 columns]"
            ]
          },
          "metadata": {},
          "execution_count": 516
        }
      ]
    },
    {
      "cell_type": "code",
      "source": [
        "data.County.replace(to_replace=' County', value='', inplace=True, limit=None, regex=True, method='pad')"
      ],
      "metadata": {
        "colab": {
          "base_uri": "https://localhost:8080/"
        },
        "id": "AJiYfo3xpiNS",
        "outputId": "709ca0d2-5d6b-4dfa-e57d-a07892e14515"
      },
      "execution_count": 517,
      "outputs": [
        {
          "output_type": "stream",
          "name": "stderr",
          "text": [
            "/usr/local/lib/python3.7/dist-packages/pandas/core/series.py:4582: SettingWithCopyWarning: \n",
            "A value is trying to be set on a copy of a slice from a DataFrame\n",
            "\n",
            "See the caveats in the documentation: https://pandas.pydata.org/pandas-docs/stable/user_guide/indexing.html#returning-a-view-versus-a-copy\n",
            "  method=method,\n"
          ]
        }
      ]
    },
    {
      "cell_type": "code",
      "source": [
        "data"
      ],
      "metadata": {
        "colab": {
          "base_uri": "https://localhost:8080/",
          "height": 424
        },
        "id": "Ax7dUyeYpzQq",
        "outputId": "9b31f29a-84ab-4b6c-f2ce-c69534d76351"
      },
      "execution_count": 518,
      "outputs": [
        {
          "output_type": "execute_result",
          "data": {
            "text/html": [
              "<div>\n",
              "<style scoped>\n",
              "    .dataframe tbody tr th:only-of-type {\n",
              "        vertical-align: middle;\n",
              "    }\n",
              "\n",
              "    .dataframe tbody tr th {\n",
              "        vertical-align: top;\n",
              "    }\n",
              "\n",
              "    .dataframe thead th {\n",
              "        text-align: right;\n",
              "    }\n",
              "</style>\n",
              "<table border=\"1\" class=\"dataframe\">\n",
              "  <thead>\n",
              "    <tr style=\"text-align: right;\">\n",
              "      <th></th>\n",
              "      <th>County</th>\n",
              "      <th>Vaccine</th>\n",
              "      <th>Date</th>\n",
              "      <th>Doses</th>\n",
              "    </tr>\n",
              "  </thead>\n",
              "  <tbody>\n",
              "    <tr>\n",
              "      <th>0</th>\n",
              "      <td>Allegheny</td>\n",
              "      <td>Janssen Vaccine</td>\n",
              "      <td>2021-10-26</td>\n",
              "      <td>100.0</td>\n",
              "    </tr>\n",
              "    <tr>\n",
              "      <th>1</th>\n",
              "      <td>Beaver</td>\n",
              "      <td>Moderna</td>\n",
              "      <td>2021-08-24</td>\n",
              "      <td>280.0</td>\n",
              "    </tr>\n",
              "    <tr>\n",
              "      <th>2</th>\n",
              "      <td>Delaware</td>\n",
              "      <td>Pfizer</td>\n",
              "      <td>2021-08-31</td>\n",
              "      <td>1170.0</td>\n",
              "    </tr>\n",
              "    <tr>\n",
              "      <th>3</th>\n",
              "      <td>Dauphin</td>\n",
              "      <td>Pfizer</td>\n",
              "      <td>2021-06-08</td>\n",
              "      <td>1170.0</td>\n",
              "    </tr>\n",
              "    <tr>\n",
              "      <th>4</th>\n",
              "      <td>Lycoming</td>\n",
              "      <td>Moderna</td>\n",
              "      <td>2021-01-18</td>\n",
              "      <td>100.0</td>\n",
              "    </tr>\n",
              "    <tr>\n",
              "      <th>...</th>\n",
              "      <td>...</td>\n",
              "      <td>...</td>\n",
              "      <td>...</td>\n",
              "      <td>...</td>\n",
              "    </tr>\n",
              "    <tr>\n",
              "      <th>28388</th>\n",
              "      <td>Lackawanna</td>\n",
              "      <td>Janssen Vaccine</td>\n",
              "      <td>2021-12-07</td>\n",
              "      <td>100.0</td>\n",
              "    </tr>\n",
              "    <tr>\n",
              "      <th>28389</th>\n",
              "      <td>Westmoreland</td>\n",
              "      <td>Moderna</td>\n",
              "      <td>2021-12-07</td>\n",
              "      <td>200.0</td>\n",
              "    </tr>\n",
              "    <tr>\n",
              "      <th>28390</th>\n",
              "      <td>Montgomery</td>\n",
              "      <td>Moderna</td>\n",
              "      <td>2021-12-07</td>\n",
              "      <td>100.0</td>\n",
              "    </tr>\n",
              "    <tr>\n",
              "      <th>28391</th>\n",
              "      <td>Luzerne</td>\n",
              "      <td>Moderna</td>\n",
              "      <td>2021-12-07</td>\n",
              "      <td>100.0</td>\n",
              "    </tr>\n",
              "    <tr>\n",
              "      <th>28392</th>\n",
              "      <td>Blair</td>\n",
              "      <td>Pfizer</td>\n",
              "      <td>2021-12-07</td>\n",
              "      <td>1170.0</td>\n",
              "    </tr>\n",
              "  </tbody>\n",
              "</table>\n",
              "<p>28382 rows × 4 columns</p>\n",
              "</div>"
            ],
            "text/plain": [
              "             County          Vaccine       Date   Doses\n",
              "0         Allegheny  Janssen Vaccine 2021-10-26   100.0\n",
              "1            Beaver          Moderna 2021-08-24   280.0\n",
              "2          Delaware           Pfizer 2021-08-31  1170.0\n",
              "3           Dauphin           Pfizer 2021-06-08  1170.0\n",
              "4          Lycoming          Moderna 2021-01-18   100.0\n",
              "...             ...              ...        ...     ...\n",
              "28388    Lackawanna  Janssen Vaccine 2021-12-07   100.0\n",
              "28389  Westmoreland          Moderna 2021-12-07   200.0\n",
              "28390    Montgomery          Moderna 2021-12-07   100.0\n",
              "28391       Luzerne          Moderna 2021-12-07   100.0\n",
              "28392         Blair           Pfizer 2021-12-07  1170.0\n",
              "\n",
              "[28382 rows x 4 columns]"
            ]
          },
          "metadata": {},
          "execution_count": 518
        }
      ]
    },
    {
      "cell_type": "code",
      "source": [
        "df1 = data.groupby(['Vaccine'],as_index = False).sum({'Doses':['sum','median']})\n",
        "df1 = df1.set_axis(['Vaccine','totalDistribution'],axis = 1)\n",
        "\n"
      ],
      "metadata": {
        "id": "IBbhxkHBz2cO"
      },
      "execution_count": 519,
      "outputs": []
    },
    {
      "cell_type": "code",
      "source": [
        "df1['rank'] = df1.groupby(['Vaccine'])['totalDistribution'].rank(ascending = False, method = 'dense')\n",
        "df1 = df1[df1['rank'] < 4]\n",
        "df1 = df1.sort_values(by = ['Vaccine','rank'])"
      ],
      "metadata": {
        "id": "euj5IKd6nep8"
      },
      "execution_count": 520,
      "outputs": []
    },
    {
      "cell_type": "code",
      "source": [
        "df1.sort_values(by=['totalDistribution'],ascending=False)"
      ],
      "metadata": {
        "colab": {
          "base_uri": "https://localhost:8080/",
          "height": 143
        },
        "id": "F1yhoPfdnpLF",
        "outputId": "39b2ca17-4f5a-49bf-e497-9fcfef25dede"
      },
      "execution_count": 521,
      "outputs": [
        {
          "output_type": "execute_result",
          "data": {
            "text/html": [
              "<div>\n",
              "<style scoped>\n",
              "    .dataframe tbody tr th:only-of-type {\n",
              "        vertical-align: middle;\n",
              "    }\n",
              "\n",
              "    .dataframe tbody tr th {\n",
              "        vertical-align: top;\n",
              "    }\n",
              "\n",
              "    .dataframe thead th {\n",
              "        text-align: right;\n",
              "    }\n",
              "</style>\n",
              "<table border=\"1\" class=\"dataframe\">\n",
              "  <thead>\n",
              "    <tr style=\"text-align: right;\">\n",
              "      <th></th>\n",
              "      <th>Vaccine</th>\n",
              "      <th>totalDistribution</th>\n",
              "      <th>rank</th>\n",
              "    </tr>\n",
              "  </thead>\n",
              "  <tbody>\n",
              "    <tr>\n",
              "      <th>2</th>\n",
              "      <td>Pfizer</td>\n",
              "      <td>5071510.0</td>\n",
              "      <td>1.0</td>\n",
              "    </tr>\n",
              "    <tr>\n",
              "      <th>1</th>\n",
              "      <td>Moderna</td>\n",
              "      <td>3348420.0</td>\n",
              "      <td>1.0</td>\n",
              "    </tr>\n",
              "    <tr>\n",
              "      <th>0</th>\n",
              "      <td>Janssen Vaccine</td>\n",
              "      <td>391900.0</td>\n",
              "      <td>1.0</td>\n",
              "    </tr>\n",
              "  </tbody>\n",
              "</table>\n",
              "</div>"
            ],
            "text/plain": [
              "           Vaccine  totalDistribution  rank\n",
              "2           Pfizer          5071510.0   1.0\n",
              "1          Moderna          3348420.0   1.0\n",
              "0  Janssen Vaccine           391900.0   1.0"
            ]
          },
          "metadata": {},
          "execution_count": 521
        }
      ]
    },
    {
      "cell_type": "code",
      "source": [
        "df2 = data.groupby(['County'],as_index = False).agg({'Doses':['sum','median']})\n",
        "df2 = df2.set_axis(['County','totalDistribution','avg'],axis = 1)\n",
        "\n"
      ],
      "metadata": {
        "id": "sRdTLy6dX4JG"
      },
      "execution_count": 522,
      "outputs": []
    },
    {
      "cell_type": "code",
      "source": [
        "df2['rank'] = df2.groupby(['County'])['totalDistribution'].rank(ascending = False, method = 'dense')\n",
        "df2 = df2[df2['rank'] < 4]\n",
        "df2 = df2.sort_values(by = ['County','rank'])"
      ],
      "metadata": {
        "id": "IMpRbHgysaIJ"
      },
      "execution_count": 523,
      "outputs": []
    },
    {
      "cell_type": "code",
      "source": [
        "df2.sort_values(by=['totalDistribution'],ascending=False)\n"
      ],
      "metadata": {
        "id": "E3jsNDvi3cq9",
        "colab": {
          "base_uri": "https://localhost:8080/",
          "height": 424
        },
        "outputId": "e0d2ff69-2281-4ac9-c40b-3f17e034c776"
      },
      "execution_count": 524,
      "outputs": [
        {
          "output_type": "execute_result",
          "data": {
            "text/html": [
              "<div>\n",
              "<style scoped>\n",
              "    .dataframe tbody tr th:only-of-type {\n",
              "        vertical-align: middle;\n",
              "    }\n",
              "\n",
              "    .dataframe tbody tr th {\n",
              "        vertical-align: top;\n",
              "    }\n",
              "\n",
              "    .dataframe thead th {\n",
              "        text-align: right;\n",
              "    }\n",
              "</style>\n",
              "<table border=\"1\" class=\"dataframe\">\n",
              "  <thead>\n",
              "    <tr style=\"text-align: right;\">\n",
              "      <th></th>\n",
              "      <th>County</th>\n",
              "      <th>totalDistribution</th>\n",
              "      <th>avg</th>\n",
              "      <th>rank</th>\n",
              "    </tr>\n",
              "  </thead>\n",
              "  <tbody>\n",
              "    <tr>\n",
              "      <th>1</th>\n",
              "      <td>Allegheny</td>\n",
              "      <td>1133470.0</td>\n",
              "      <td>140.0</td>\n",
              "      <td>1.0</td>\n",
              "    </tr>\n",
              "    <tr>\n",
              "      <th>47</th>\n",
              "      <td>Montgomery</td>\n",
              "      <td>815013.0</td>\n",
              "      <td>140.0</td>\n",
              "      <td>1.0</td>\n",
              "    </tr>\n",
              "    <tr>\n",
              "      <th>23</th>\n",
              "      <td>Delaware</td>\n",
              "      <td>527470.0</td>\n",
              "      <td>200.0</td>\n",
              "      <td>1.0</td>\n",
              "    </tr>\n",
              "    <tr>\n",
              "      <th>9</th>\n",
              "      <td>Bucks</td>\n",
              "      <td>480587.0</td>\n",
              "      <td>140.0</td>\n",
              "      <td>1.0</td>\n",
              "    </tr>\n",
              "    <tr>\n",
              "      <th>15</th>\n",
              "      <td>Chester</td>\n",
              "      <td>420660.0</td>\n",
              "      <td>140.0</td>\n",
              "      <td>1.0</td>\n",
              "    </tr>\n",
              "    <tr>\n",
              "      <th>...</th>\n",
              "      <td>...</td>\n",
              "      <td>...</td>\n",
              "      <td>...</td>\n",
              "      <td>...</td>\n",
              "    </tr>\n",
              "    <tr>\n",
              "      <th>53</th>\n",
              "      <td>Philadelphia</td>\n",
              "      <td>500.0</td>\n",
              "      <td>200.0</td>\n",
              "      <td>1.0</td>\n",
              "    </tr>\n",
              "    <tr>\n",
              "      <th>28</th>\n",
              "      <td>Fulton</td>\n",
              "      <td>400.0</td>\n",
              "      <td>100.0</td>\n",
              "      <td>1.0</td>\n",
              "    </tr>\n",
              "    <tr>\n",
              "      <th>8</th>\n",
              "      <td>Buck</td>\n",
              "      <td>400.0</td>\n",
              "      <td>100.0</td>\n",
              "      <td>1.0</td>\n",
              "    </tr>\n",
              "    <tr>\n",
              "      <th>60</th>\n",
              "      <td>Tioa</td>\n",
              "      <td>100.0</td>\n",
              "      <td>100.0</td>\n",
              "      <td>1.0</td>\n",
              "    </tr>\n",
              "    <tr>\n",
              "      <th>41</th>\n",
              "      <td>Lzuerne</td>\n",
              "      <td>100.0</td>\n",
              "      <td>100.0</td>\n",
              "      <td>1.0</td>\n",
              "    </tr>\n",
              "  </tbody>\n",
              "</table>\n",
              "<p>71 rows × 4 columns</p>\n",
              "</div>"
            ],
            "text/plain": [
              "          County  totalDistribution    avg  rank\n",
              "1      Allegheny          1133470.0  140.0   1.0\n",
              "47    Montgomery           815013.0  140.0   1.0\n",
              "23      Delaware           527470.0  200.0   1.0\n",
              "9          Bucks           480587.0  140.0   1.0\n",
              "15       Chester           420660.0  140.0   1.0\n",
              "..           ...                ...    ...   ...\n",
              "53  Philadelphia              500.0  200.0   1.0\n",
              "28        Fulton              400.0  100.0   1.0\n",
              "8           Buck              400.0  100.0   1.0\n",
              "60          Tioa              100.0  100.0   1.0\n",
              "41       Lzuerne              100.0  100.0   1.0\n",
              "\n",
              "[71 rows x 4 columns]"
            ]
          },
          "metadata": {},
          "execution_count": 524
        }
      ]
    },
    {
      "cell_type": "code",
      "source": [
        "df2['Month'] = (data['Date']).dt.month"
      ],
      "metadata": {
        "id": "1Wi7qyAvxT0U"
      },
      "execution_count": 534,
      "outputs": []
    },
    {
      "cell_type": "code",
      "source": [
        "df3 = data.groupby(['County','Month'],as_index=False).agg({'Doses':['sum','median']})\n",
        "df3 = df3.set_axis(['County','Month','totalDistribution','avg'],axis=1)\n",
        "df3['rank'] = df3.groupby(['County'])['totalDistribution'].rank('dense', ascending=False)\n",
        "df3 = df3[df3['rank']<2]"
      ],
      "metadata": {
        "id": "CNVv5ghJxqqj"
      },
      "execution_count": 543,
      "outputs": []
    },
    {
      "cell_type": "code",
      "source": [
        "df3.sort_values(by=['totalDistribution'],ascending=False)"
      ],
      "metadata": {
        "colab": {
          "base_uri": "https://localhost:8080/",
          "height": 424
        },
        "id": "xurflGQQyN36",
        "outputId": "a4d22e81-b046-4106-9ceb-008de687fcaa"
      },
      "execution_count": 544,
      "outputs": [
        {
          "output_type": "execute_result",
          "data": {
            "text/html": [
              "<div>\n",
              "<style scoped>\n",
              "    .dataframe tbody tr th:only-of-type {\n",
              "        vertical-align: middle;\n",
              "    }\n",
              "\n",
              "    .dataframe tbody tr th {\n",
              "        vertical-align: top;\n",
              "    }\n",
              "\n",
              "    .dataframe thead th {\n",
              "        text-align: right;\n",
              "    }\n",
              "</style>\n",
              "<table border=\"1\" class=\"dataframe\">\n",
              "  <thead>\n",
              "    <tr style=\"text-align: right;\">\n",
              "      <th></th>\n",
              "      <th>County</th>\n",
              "      <th>Month</th>\n",
              "      <th>totalDistribution</th>\n",
              "      <th>avg</th>\n",
              "      <th>rank</th>\n",
              "    </tr>\n",
              "  </thead>\n",
              "  <tbody>\n",
              "    <tr>\n",
              "      <th>22</th>\n",
              "      <td>Allegheny</td>\n",
              "      <td>11</td>\n",
              "      <td>172700.0</td>\n",
              "      <td>200.0</td>\n",
              "      <td>1.0</td>\n",
              "    </tr>\n",
              "    <tr>\n",
              "      <th>532</th>\n",
              "      <td>Montgomery</td>\n",
              "      <td>11</td>\n",
              "      <td>150090.0</td>\n",
              "      <td>200.0</td>\n",
              "      <td>1.0</td>\n",
              "    </tr>\n",
              "    <tr>\n",
              "      <th>275</th>\n",
              "      <td>Delaware</td>\n",
              "      <td>11</td>\n",
              "      <td>96610.0</td>\n",
              "      <td>200.0</td>\n",
              "      <td>1.0</td>\n",
              "    </tr>\n",
              "    <tr>\n",
              "      <th>45</th>\n",
              "      <td>Beaver</td>\n",
              "      <td>10</td>\n",
              "      <td>88900.0</td>\n",
              "      <td>140.0</td>\n",
              "      <td>1.0</td>\n",
              "    </tr>\n",
              "    <tr>\n",
              "      <th>109</th>\n",
              "      <td>Bucks</td>\n",
              "      <td>11</td>\n",
              "      <td>74910.0</td>\n",
              "      <td>140.0</td>\n",
              "      <td>1.0</td>\n",
              "    </tr>\n",
              "    <tr>\n",
              "      <th>...</th>\n",
              "      <td>...</td>\n",
              "      <td>...</td>\n",
              "      <td>...</td>\n",
              "      <td>...</td>\n",
              "      <td>...</td>\n",
              "    </tr>\n",
              "    <tr>\n",
              "      <th>326</th>\n",
              "      <td>Fulton</td>\n",
              "      <td>9</td>\n",
              "      <td>200.0</td>\n",
              "      <td>200.0</td>\n",
              "      <td>1.0</td>\n",
              "    </tr>\n",
              "    <tr>\n",
              "      <th>325</th>\n",
              "      <td>Fulton</td>\n",
              "      <td>4</td>\n",
              "      <td>200.0</td>\n",
              "      <td>100.0</td>\n",
              "      <td>1.0</td>\n",
              "    </tr>\n",
              "    <tr>\n",
              "      <th>98</th>\n",
              "      <td>Buck</td>\n",
              "      <td>3</td>\n",
              "      <td>200.0</td>\n",
              "      <td>100.0</td>\n",
              "      <td>1.0</td>\n",
              "    </tr>\n",
              "    <tr>\n",
              "      <th>656</th>\n",
              "      <td>Tioa</td>\n",
              "      <td>2</td>\n",
              "      <td>100.0</td>\n",
              "      <td>100.0</td>\n",
              "      <td>1.0</td>\n",
              "    </tr>\n",
              "    <tr>\n",
              "      <th>470</th>\n",
              "      <td>Lzuerne</td>\n",
              "      <td>2</td>\n",
              "      <td>100.0</td>\n",
              "      <td>100.0</td>\n",
              "      <td>1.0</td>\n",
              "    </tr>\n",
              "  </tbody>\n",
              "</table>\n",
              "<p>73 rows × 5 columns</p>\n",
              "</div>"
            ],
            "text/plain": [
              "         County  Month  totalDistribution    avg  rank\n",
              "22    Allegheny     11           172700.0  200.0   1.0\n",
              "532  Montgomery     11           150090.0  200.0   1.0\n",
              "275    Delaware     11            96610.0  200.0   1.0\n",
              "45       Beaver     10            88900.0  140.0   1.0\n",
              "109       Bucks     11            74910.0  140.0   1.0\n",
              "..          ...    ...                ...    ...   ...\n",
              "326      Fulton      9              200.0  200.0   1.0\n",
              "325      Fulton      4              200.0  100.0   1.0\n",
              "98         Buck      3              200.0  100.0   1.0\n",
              "656        Tioa      2              100.0  100.0   1.0\n",
              "470     Lzuerne      2              100.0  100.0   1.0\n",
              "\n",
              "[73 rows x 5 columns]"
            ]
          },
          "metadata": {},
          "execution_count": 544
        }
      ]
    },
    {
      "cell_type": "code",
      "source": [
        "df4 = df3.filter(['County','Month'], axis=1)"
      ],
      "metadata": {
        "id": "em7tlSn23Pvk"
      },
      "execution_count": 551,
      "outputs": []
    },
    {
      "cell_type": "code",
      "source": [
        "df4"
      ],
      "metadata": {
        "colab": {
          "base_uri": "https://localhost:8080/",
          "height": 424
        },
        "id": "9scAlGSi3uJx",
        "outputId": "e46c00f1-4849-4b8b-9652-fdddc585bdce"
      },
      "execution_count": 552,
      "outputs": [
        {
          "output_type": "execute_result",
          "data": {
            "text/html": [
              "<div>\n",
              "<style scoped>\n",
              "    .dataframe tbody tr th:only-of-type {\n",
              "        vertical-align: middle;\n",
              "    }\n",
              "\n",
              "    .dataframe tbody tr th {\n",
              "        vertical-align: top;\n",
              "    }\n",
              "\n",
              "    .dataframe thead th {\n",
              "        text-align: right;\n",
              "    }\n",
              "</style>\n",
              "<table border=\"1\" class=\"dataframe\">\n",
              "  <thead>\n",
              "    <tr style=\"text-align: right;\">\n",
              "      <th></th>\n",
              "      <th>County</th>\n",
              "      <th>Month</th>\n",
              "    </tr>\n",
              "  </thead>\n",
              "  <tbody>\n",
              "    <tr>\n",
              "      <th>7</th>\n",
              "      <td>Adams</td>\n",
              "      <td>8</td>\n",
              "    </tr>\n",
              "    <tr>\n",
              "      <th>22</th>\n",
              "      <td>Allegheny</td>\n",
              "      <td>11</td>\n",
              "    </tr>\n",
              "    <tr>\n",
              "      <th>28</th>\n",
              "      <td>Armstrong</td>\n",
              "      <td>5</td>\n",
              "    </tr>\n",
              "    <tr>\n",
              "      <th>45</th>\n",
              "      <td>Beaver</td>\n",
              "      <td>10</td>\n",
              "    </tr>\n",
              "    <tr>\n",
              "      <th>57</th>\n",
              "      <td>Bedford</td>\n",
              "      <td>10</td>\n",
              "    </tr>\n",
              "    <tr>\n",
              "      <th>...</th>\n",
              "      <td>...</td>\n",
              "      <td>...</td>\n",
              "    </tr>\n",
              "    <tr>\n",
              "      <th>716</th>\n",
              "      <td>Washington</td>\n",
              "      <td>10</td>\n",
              "    </tr>\n",
              "    <tr>\n",
              "      <th>722</th>\n",
              "      <td>Wayne</td>\n",
              "      <td>4</td>\n",
              "    </tr>\n",
              "    <tr>\n",
              "      <th>741</th>\n",
              "      <td>Westmoreland</td>\n",
              "      <td>11</td>\n",
              "    </tr>\n",
              "    <tr>\n",
              "      <th>751</th>\n",
              "      <td>Wyoming</td>\n",
              "      <td>9</td>\n",
              "    </tr>\n",
              "    <tr>\n",
              "      <th>762</th>\n",
              "      <td>York</td>\n",
              "      <td>8</td>\n",
              "    </tr>\n",
              "  </tbody>\n",
              "</table>\n",
              "<p>73 rows × 2 columns</p>\n",
              "</div>"
            ],
            "text/plain": [
              "           County  Month\n",
              "7           Adams      8\n",
              "22      Allegheny     11\n",
              "28      Armstrong      5\n",
              "45         Beaver     10\n",
              "57        Bedford     10\n",
              "..            ...    ...\n",
              "716    Washington     10\n",
              "722         Wayne      4\n",
              "741  Westmoreland     11\n",
              "751       Wyoming      9\n",
              "762          York      8\n",
              "\n",
              "[73 rows x 2 columns]"
            ]
          },
          "metadata": {},
          "execution_count": 552
        }
      ]
    },
    {
      "cell_type": "code",
      "metadata": {
        "id": "PzF1fxsurzbU"
      },
      "source": [
        "df4.to_csv('/content/result.python.csv', index=False,encoding='utf-8')"
      ],
      "execution_count": 553,
      "outputs": []
    }
  ]
}