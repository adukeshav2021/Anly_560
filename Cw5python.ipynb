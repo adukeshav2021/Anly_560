{
  "nbformat": 4,
  "nbformat_minor": 0,
  "metadata": {
    "colab": {
      "name": "Cw5python.ipynb",
      "provenance": [],
      "collapsed_sections": [],
      "mount_file_id": "1ySALW2StYc7dvjDnIdwAbaV-w37BRpb5",
      "authorship_tag": "ABX9TyOmJH5+fVpUwr3xhxp/ltKe",
      "include_colab_link": true
    },
    "kernelspec": {
      "name": "python3",
      "display_name": "Python 3"
    },
    "language_info": {
      "name": "python"
    }
  },
  "cells": [
    {
      "cell_type": "markdown",
      "metadata": {
        "id": "view-in-github",
        "colab_type": "text"
      },
      "source": [
        "<a href=\"https://colab.research.google.com/github/adukeshav2021/Anly_560/blob/main/Cw5python.ipynb\" target=\"_parent\"><img src=\"https://colab.research.google.com/assets/colab-badge.svg\" alt=\"Open In Colab\"/></a>"
      ]
    },
    {
      "cell_type": "code",
      "metadata": {
        "id": "SSpdZyQghipF"
      },
      "source": [
        "import pandas as pd\n",
        "import numpy as np\n",
        "\n"
      ],
      "execution_count": null,
      "outputs": []
    },
    {
      "cell_type": "code",
      "metadata": {
        "id": "U4d_qIh_hmPH"
      },
      "source": [
        "data_raw = pd.read_csv('/content/drive/MyDrive/ANLY560/lab4.csv')\n"
      ],
      "execution_count": null,
      "outputs": []
    },
    {
      "cell_type": "code",
      "metadata": {
        "id": "UT1KGvdThsFm"
      },
      "source": [
        "data = data_raw\n",
        "\n"
      ],
      "execution_count": null,
      "outputs": []
    },
    {
      "cell_type": "code",
      "metadata": {
        "id": "Bso6oBdXwF-K"
      },
      "source": [
        "print(len(data))\n",
        "data.dtypes"
      ],
      "execution_count": null,
      "outputs": []
    },
    {
      "cell_type": "code",
      "metadata": {
        "colab": {
          "base_uri": "https://localhost:8080/"
        },
        "id": "YPNB4pd2sVIO",
        "outputId": "9e4b4918-f4f1-41d5-d70b-3fbe6c2d8bc2"
      },
      "source": [
        "data.is_actionable.unique()"
      ],
      "execution_count": null,
      "outputs": [
        {
          "output_type": "execute_result",
          "data": {
            "text/plain": [
              "array([False,  True])"
            ]
          },
          "metadata": {},
          "execution_count": 41
        }
      ]
    },
    {
      "cell_type": "code",
      "metadata": {
        "id": "K6MjLCPCh3MA"
      },
      "source": [
        "data = data[data.is_actionable]\n"
      ],
      "execution_count": null,
      "outputs": []
    },
    {
      "cell_type": "code",
      "source": [
        "print(len(data))\n",
        "data.dtypes"
      ],
      "metadata": {
        "colab": {
          "base_uri": "https://localhost:8080/"
        },
        "id": "tl4ruDW5wPzf",
        "outputId": "53a5615e-e5f6-4a87-b6ab-55182744f815"
      },
      "execution_count": null,
      "outputs": [
        {
          "output_type": "stream",
          "name": "stdout",
          "text": [
            "35887\n"
          ]
        },
        {
          "output_type": "execute_result",
          "data": {
            "text/plain": [
              "objectid                           int64\n",
              "opa_number                       float64\n",
              "street_address                    object\n",
              "zip_code                         float64\n",
              "zip_4                            float64\n",
              "unit_type                         object\n",
              "unit_num                          object\n",
              "owner                             object\n",
              "co_owner                          object\n",
              "principal_due                    float64\n",
              "penalty_due                      float64\n",
              "interest_due                     float64\n",
              "other_charges_due                float64\n",
              "total_due                        float64\n",
              "is_actionable                       bool\n",
              "payment_agreement                   bool\n",
              "num_years_owed                     int64\n",
              "most_recent_year_owed              int64\n",
              "oldest_year_owed                   int64\n",
              "most_recent_payment_date          object\n",
              "year_of_last_assessment          float64\n",
              "total_assessment                 float64\n",
              "taxable_assessment               float64\n",
              "mailing_address                   object\n",
              "mailing_city                      object\n",
              "mailing_state                     object\n",
              "mailing_zip                      float64\n",
              "return_mail                       object\n",
              "building_code                     object\n",
              "detail_building_description       object\n",
              "general_building_description      object\n",
              "building_category                 object\n",
              "coll_agency_num_years              int64\n",
              "coll_agency_most_recent_year     float64\n",
              "coll_agency_oldest_year          float64\n",
              "coll_agency_principal_owed       float64\n",
              "coll_agency_total_owed           float64\n",
              "exempt_abatement_assessment      float64\n",
              "homestead_value                  float64\n",
              "net_tax_value_after_homestead    float64\n",
              "agreement_agency                  object\n",
              "sequestration_enforcement           bool\n",
              "bankruptcy                          bool\n",
              "years_in_bankruptcy              float64\n",
              "most_recent_bankrupt_year        float64\n",
              "oldest_bankrupt_year             float64\n",
              "principal_sum_bankrupt_years     float64\n",
              "total_amount_bankrupt_years      float64\n",
              "sheriff_sale                      object\n",
              "liens_sold_1990s                    bool\n",
              "liens_sold_2015                   object\n",
              "assessment_under_appeal             bool\n",
              "year_month                         int64\n",
              "lat                              float64\n",
              "lng                              float64\n",
              "dtype: object"
            ]
          },
          "metadata": {},
          "execution_count": 43
        }
      ]
    },
    {
      "cell_type": "code",
      "metadata": {
        "id": "AavdFWt_h6Nz"
      },
      "source": [
        "data = data[~pd.isna(data.zip_code)]\n",
        "data = data[~pd.isna(data.zip_4)]\n"
      ],
      "execution_count": null,
      "outputs": []
    },
    {
      "cell_type": "code",
      "source": [
        "print(len(data))\n",
        "data.dtypes"
      ],
      "metadata": {
        "colab": {
          "base_uri": "https://localhost:8080/"
        },
        "id": "Sr3KletUwsav",
        "outputId": "bdb53d60-9b67-4dfa-8745-763c84758313"
      },
      "execution_count": null,
      "outputs": [
        {
          "output_type": "stream",
          "name": "stdout",
          "text": [
            "33353\n"
          ]
        },
        {
          "output_type": "execute_result",
          "data": {
            "text/plain": [
              "objectid                           int64\n",
              "opa_number                       float64\n",
              "street_address                    object\n",
              "zip_code                         float64\n",
              "zip_4                            float64\n",
              "unit_type                         object\n",
              "unit_num                          object\n",
              "owner                             object\n",
              "co_owner                          object\n",
              "principal_due                    float64\n",
              "penalty_due                      float64\n",
              "interest_due                     float64\n",
              "other_charges_due                float64\n",
              "total_due                        float64\n",
              "is_actionable                       bool\n",
              "payment_agreement                   bool\n",
              "num_years_owed                     int64\n",
              "most_recent_year_owed              int64\n",
              "oldest_year_owed                   int64\n",
              "most_recent_payment_date          object\n",
              "year_of_last_assessment          float64\n",
              "total_assessment                 float64\n",
              "taxable_assessment               float64\n",
              "mailing_address                   object\n",
              "mailing_city                      object\n",
              "mailing_state                     object\n",
              "mailing_zip                      float64\n",
              "return_mail                       object\n",
              "building_code                     object\n",
              "detail_building_description       object\n",
              "general_building_description      object\n",
              "building_category                 object\n",
              "coll_agency_num_years              int64\n",
              "coll_agency_most_recent_year     float64\n",
              "coll_agency_oldest_year          float64\n",
              "coll_agency_principal_owed       float64\n",
              "coll_agency_total_owed           float64\n",
              "exempt_abatement_assessment      float64\n",
              "homestead_value                  float64\n",
              "net_tax_value_after_homestead    float64\n",
              "agreement_agency                  object\n",
              "sequestration_enforcement           bool\n",
              "bankruptcy                          bool\n",
              "years_in_bankruptcy              float64\n",
              "most_recent_bankrupt_year        float64\n",
              "oldest_bankrupt_year             float64\n",
              "principal_sum_bankrupt_years     float64\n",
              "total_amount_bankrupt_years      float64\n",
              "sheriff_sale                      object\n",
              "liens_sold_1990s                    bool\n",
              "liens_sold_2015                   object\n",
              "assessment_under_appeal             bool\n",
              "year_month                         int64\n",
              "lat                              float64\n",
              "lng                              float64\n",
              "dtype: object"
            ]
          },
          "metadata": {},
          "execution_count": 45
        }
      ]
    },
    {
      "cell_type": "code",
      "metadata": {
        "id": "D6atcZ-eijLt"
      },
      "source": [
        "cols = ['objectid','total_due','zip_code','zip_4']\n",
        "data = data[cols]"
      ],
      "execution_count": null,
      "outputs": []
    },
    {
      "cell_type": "code",
      "source": [
        "data.zip_code = data.zip_code.astype(int)\n",
        "data.zip_4 = data.zip_4.astype(int)\n",
        "\n",
        "print(any(pd.isna(data.zip_code)))\n",
        "print(any(pd.isna(data.zip_4)))"
      ],
      "metadata": {
        "colab": {
          "base_uri": "https://localhost:8080/"
        },
        "id": "aLDuXHC6yh55",
        "outputId": "6cc3dec4-b95f-4e61-86c7-c1649c90a5bc"
      },
      "execution_count": null,
      "outputs": [
        {
          "output_type": "stream",
          "name": "stdout",
          "text": [
            "False\n",
            "False\n"
          ]
        }
      ]
    },
    {
      "cell_type": "code",
      "metadata": {
        "id": "B7A_1vJEim9a",
        "colab": {
          "base_uri": "https://localhost:8080/"
        },
        "outputId": "a65656a7-3366-45f5-bfab-4aa7e97f22c9"
      },
      "source": [
        "print(len(data))\n",
        "data.dtypes\n"
      ],
      "execution_count": null,
      "outputs": [
        {
          "output_type": "stream",
          "name": "stdout",
          "text": [
            "33353\n"
          ]
        },
        {
          "output_type": "execute_result",
          "data": {
            "text/plain": [
              "objectid       int64\n",
              "total_due    float64\n",
              "zip_code       int64\n",
              "zip_4          int64\n",
              "dtype: object"
            ]
          },
          "metadata": {},
          "execution_count": 48
        }
      ]
    },
    {
      "cell_type": "code",
      "metadata": {
        "id": "-6uEwymuruj-",
        "colab": {
          "base_uri": "https://localhost:8080/"
        },
        "outputId": "a842ad39-df90-4d8f-e8ae-ba3e8f2f8e7f"
      },
      "source": [
        "len(data) == len(data.objectid.unique())"
      ],
      "execution_count": null,
      "outputs": [
        {
          "output_type": "execute_result",
          "data": {
            "text/plain": [
              "True"
            ]
          },
          "metadata": {},
          "execution_count": 49
        }
      ]
    },
    {
      "cell_type": "code",
      "metadata": {
        "id": "CM_aT-dUx-nJ",
        "colab": {
          "base_uri": "https://localhost:8080/"
        },
        "outputId": "9c6c6435-c6d1-452c-aadc-cf65568a8bef"
      },
      "source": [
        "sum(data.total_due)"
      ],
      "execution_count": null,
      "outputs": [
        {
          "output_type": "execute_result",
          "data": {
            "text/plain": [
              "210983873.40999743"
            ]
          },
          "metadata": {},
          "execution_count": 50
        }
      ]
    },
    {
      "cell_type": "code",
      "source": [
        "#data.groupby(['zip_code','zip_4']).agg({'total_due':['sum','median']})\n",
        "df1 = data.groupby(['zip_code','zip_4'],as_index = False).agg({'total_due':['sum','median']})\n",
        "df1 = df1.set_axis(['zip_code','zip_4','total','avg'],axis = 1)\n",
        "\n",
        "data = df1\n",
        "del df1"
      ],
      "metadata": {
        "id": "IBbhxkHBz2cO"
      },
      "execution_count": null,
      "outputs": []
    },
    {
      "cell_type": "code",
      "metadata": {
        "id": "XPhkN-0J1rqX"
      },
      "source": [
        "data\n"
      ],
      "execution_count": null,
      "outputs": []
    },
    {
      "cell_type": "code",
      "metadata": {
        "id": "db5-ZDTpvFGr"
      },
      "source": [
        "%%R\n",
        "data <-\n",
        " data %>%\n",
        "  group_by(zip_code) %>%\n",
        "  mutate(\n",
        "      rank = row_number(-total)) %>%\n",
        "  filter(rank < 4)  %>%  \n",
        "  arrange(zip_code, rank)\n",
        "  "
      ],
      "execution_count": null,
      "outputs": []
    },
    {
      "cell_type": "code",
      "source": [
        "data['rank'] = data.groupby(['zip_code'])['total'].rank(ascending = False, method = 'dense')\n",
        "data = data[data['rank'] < 4]\n",
        "data = data.sort_values(by = ['zip_code','rank'])\n"
      ],
      "metadata": {
        "id": "E3jsNDvi3cq9"
      },
      "execution_count": null,
      "outputs": []
    },
    {
      "cell_type": "code",
      "metadata": {
        "id": "uaIYPMK5z-Xi"
      },
      "source": [
        "data.head(15)"
      ],
      "execution_count": null,
      "outputs": []
    },
    {
      "cell_type": "code",
      "metadata": {
        "id": "NgP0a9I14Hwv"
      },
      "source": [
        "data[data['rank']==1]"
      ],
      "execution_count": null,
      "outputs": []
    },
    {
      "cell_type": "code",
      "metadata": {
        "id": "j-nBcVXC4UwR",
        "colab": {
          "base_uri": "https://localhost:8080/",
          "height": 424
        },
        "outputId": "907a8ff4-7e3b-4d4d-95f2-42c8e187aa0f"
      },
      "source": [
        "data\n"
      ],
      "execution_count": null,
      "outputs": [
        {
          "output_type": "execute_result",
          "data": {
            "text/html": [
              "<div>\n",
              "<style scoped>\n",
              "    .dataframe tbody tr th:only-of-type {\n",
              "        vertical-align: middle;\n",
              "    }\n",
              "\n",
              "    .dataframe tbody tr th {\n",
              "        vertical-align: top;\n",
              "    }\n",
              "\n",
              "    .dataframe thead th {\n",
              "        text-align: right;\n",
              "    }\n",
              "</style>\n",
              "<table border=\"1\" class=\"dataframe\">\n",
              "  <thead>\n",
              "    <tr style=\"text-align: right;\">\n",
              "      <th></th>\n",
              "      <th>zip_code</th>\n",
              "      <th>zip_4</th>\n",
              "      <th>total</th>\n",
              "      <th>avg</th>\n",
              "      <th>rank</th>\n",
              "    </tr>\n",
              "  </thead>\n",
              "  <tbody>\n",
              "    <tr>\n",
              "      <th>13</th>\n",
              "      <td>19102</td>\n",
              "      <td>4223</td>\n",
              "      <td>461709.21</td>\n",
              "      <td>4233.01</td>\n",
              "      <td>1.0</td>\n",
              "    </tr>\n",
              "    <tr>\n",
              "      <th>8</th>\n",
              "      <td>19102</td>\n",
              "      <td>3724</td>\n",
              "      <td>326588.73</td>\n",
              "      <td>326588.73</td>\n",
              "      <td>2.0</td>\n",
              "    </tr>\n",
              "    <tr>\n",
              "      <th>0</th>\n",
              "      <td>19102</td>\n",
              "      <td>1101</td>\n",
              "      <td>166976.02</td>\n",
              "      <td>83488.01</td>\n",
              "      <td>3.0</td>\n",
              "    </tr>\n",
              "    <tr>\n",
              "      <th>65</th>\n",
              "      <td>19103</td>\n",
              "      <td>6305</td>\n",
              "      <td>247298.25</td>\n",
              "      <td>247298.25</td>\n",
              "      <td>1.0</td>\n",
              "    </tr>\n",
              "    <tr>\n",
              "      <th>50</th>\n",
              "      <td>19103</td>\n",
              "      <td>4902</td>\n",
              "      <td>201414.62</td>\n",
              "      <td>201414.62</td>\n",
              "      <td>2.0</td>\n",
              "    </tr>\n",
              "    <tr>\n",
              "      <th>...</th>\n",
              "      <td>...</td>\n",
              "      <td>...</td>\n",
              "      <td>...</td>\n",
              "      <td>...</td>\n",
              "      <td>...</td>\n",
              "    </tr>\n",
              "    <tr>\n",
              "      <th>15621</th>\n",
              "      <td>19153</td>\n",
              "      <td>3516</td>\n",
              "      <td>46277.89</td>\n",
              "      <td>46277.89</td>\n",
              "      <td>3.0</td>\n",
              "    </tr>\n",
              "    <tr>\n",
              "      <th>15722</th>\n",
              "      <td>19154</td>\n",
              "      <td>3707</td>\n",
              "      <td>68446.98</td>\n",
              "      <td>68446.98</td>\n",
              "      <td>1.0</td>\n",
              "    </tr>\n",
              "    <tr>\n",
              "      <th>15744</th>\n",
              "      <td>19154</td>\n",
              "      <td>4337</td>\n",
              "      <td>52404.98</td>\n",
              "      <td>26202.49</td>\n",
              "      <td>2.0</td>\n",
              "    </tr>\n",
              "    <tr>\n",
              "      <th>15664</th>\n",
              "      <td>19154</td>\n",
              "      <td>1908</td>\n",
              "      <td>46801.23</td>\n",
              "      <td>46801.23</td>\n",
              "      <td>3.0</td>\n",
              "    </tr>\n",
              "    <tr>\n",
              "      <th>15747</th>\n",
              "      <td>19192</td>\n",
              "      <td>3</td>\n",
              "      <td>343154.95</td>\n",
              "      <td>343154.95</td>\n",
              "      <td>1.0</td>\n",
              "    </tr>\n",
              "  </tbody>\n",
              "</table>\n",
              "<p>140 rows × 5 columns</p>\n",
              "</div>"
            ],
            "text/plain": [
              "       zip_code  zip_4      total        avg  rank\n",
              "13        19102   4223  461709.21    4233.01   1.0\n",
              "8         19102   3724  326588.73  326588.73   2.0\n",
              "0         19102   1101  166976.02   83488.01   3.0\n",
              "65        19103   6305  247298.25  247298.25   1.0\n",
              "50        19103   4902  201414.62  201414.62   2.0\n",
              "...         ...    ...        ...        ...   ...\n",
              "15621     19153   3516   46277.89   46277.89   3.0\n",
              "15722     19154   3707   68446.98   68446.98   1.0\n",
              "15744     19154   4337   52404.98   26202.49   2.0\n",
              "15664     19154   1908   46801.23   46801.23   3.0\n",
              "15747     19192      3  343154.95  343154.95   1.0\n",
              "\n",
              "[140 rows x 5 columns]"
            ]
          },
          "metadata": {},
          "execution_count": 64
        }
      ]
    },
    {
      "cell_type": "code",
      "metadata": {
        "id": "PzF1fxsurzbU"
      },
      "source": [
        "write.csv(result[,c(\"row_number\",\"label\")], '/content/drive/MyDrive/ANLY560/results.csv')"
      ],
      "execution_count": null,
      "outputs": []
    }
  ]
}