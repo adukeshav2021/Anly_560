{
  "nbformat": 4,
  "nbformat_minor": 0,
  "metadata": {
    "colab": {
      "name": "Exam1.r.ipynb",
      "provenance": [],
      "collapsed_sections": []
    },
    "kernelspec": {
      "name": "python3",
      "display_name": "Python 3"
    },
    "language_info": {
      "name": "python"
    }
  },
  "cells": [
    {
      "cell_type": "markdown",
      "source": [
        "# **Aditya Keshav**"
      ],
      "metadata": {
        "id": "BtEshdRJqYNP"
      }
    },
    {
      "cell_type": "markdown",
      "source": [
        "1. What county has the highest average weekly wage? ***(Philadelphia County)*** What is this wage? (***1266***)\n",
        "2. What sector has the highest average weekly wage? (***Utilities***) What is this wage? (***1587***)\n",
        "3. On a per county basis, what is the most common sector? ***(Result in CSV)***"
      ],
      "metadata": {
        "id": "z0orsZ8Oqf0E"
      }
    },
    {
      "cell_type": "code",
      "metadata": {
        "id": "ghcF6x-MhUYM"
      },
      "source": [
        "%load_ext rpy2.ipython"
      ],
      "execution_count": 1,
      "outputs": []
    },
    {
      "cell_type": "code",
      "metadata": {
        "id": "SSpdZyQghipF",
        "colab": {
          "base_uri": "https://localhost:8080/"
        },
        "outputId": "bdcc20a7-ade3-4dc4-d62c-13b1f82c8871"
      },
      "source": [
        "%%R\n",
        "library(dplyr)\n",
        "library(lubridate)\n",
        "library(stringr)"
      ],
      "execution_count": 2,
      "outputs": [
        {
          "output_type": "stream",
          "name": "stderr",
          "text": [
            "R[write to console]: \n",
            "Attaching package: ‘dplyr’\n",
            "\n",
            "\n",
            "R[write to console]: The following objects are masked from ‘package:stats’:\n",
            "\n",
            "    filter, lag\n",
            "\n",
            "\n",
            "R[write to console]: The following objects are masked from ‘package:base’:\n",
            "\n",
            "    intersect, setdiff, setequal, union\n",
            "\n",
            "\n",
            "R[write to console]: \n",
            "Attaching package: ‘lubridate’\n",
            "\n",
            "\n",
            "R[write to console]: The following objects are masked from ‘package:base’:\n",
            "\n",
            "    date, intersect, setdiff, union\n",
            "\n",
            "\n"
          ]
        }
      ]
    },
    {
      "cell_type": "code",
      "metadata": {
        "id": "U4d_qIh_hmPH"
      },
      "source": [
        "%%R\n",
        "data_raw <- read.csv('/content/wages.csv')"
      ],
      "execution_count": 3,
      "outputs": []
    },
    {
      "cell_type": "code",
      "source": [
        "%%R\n",
        "data <- data_raw"
      ],
      "metadata": {
        "id": "sI2yz1w0rbxr"
      },
      "execution_count": 4,
      "outputs": []
    },
    {
      "cell_type": "code",
      "source": [
        "%%R\n",
        "str(data)"
      ],
      "metadata": {
        "colab": {
          "base_uri": "https://localhost:8080/"
        },
        "id": "XC9nAjs3riPK",
        "outputId": "99b2386e-a5b0-4df0-9382-19d8fef56fff"
      },
      "execution_count": 5,
      "outputs": [
        {
          "output_type": "stream",
          "name": "stdout",
          "text": [
            "'data.frame':\t1428 obs. of  13 variables:\n",
            " $ Area.Name                         : chr  \"Greene County\" \"McKean County\" \"Armstrong County\" \"Warren County\" ...\n",
            " $ County.Code                       : int  30 42 3 62 49 38 63 67 29 48 ...\n",
            " $ State.FIPS.Code                   : int  42 42 42 42 42 42 42 42 42 42 ...\n",
            " $ County.FIPS.Code                  : int  59 83 5 123 97 75 125 133 57 95 ...\n",
            " $ Calendar.Year                     : int  2018 2018 2018 2018 2018 2018 2018 2018 2018 2018 ...\n",
            " $ NAICS                             : chr  \"61\" \"52\" \"42\" \"92\" ...\n",
            " $ NAICS.Title                       : chr  \"Educational Services\" \"Finance and Insurance\" \"Wholesale Trade\" \"Public Administration\" ...\n",
            " $ Establishments                    : int  20 50 32 38 269 72 254 846 19 975 ...\n",
            " $ Employment                        : int  NA 276 399 587 2794 324 3261 11177 221 14692 ...\n",
            " $ Weekly.Wages                      : int  NA 795 949 861 502 652 721 1197 681 843 ...\n",
            " $ Longitude                         : num  -80.2 -78.6 -79.5 -79.3 -76.7 ...\n",
            " $ Latitude                          : num  39.9 41.8 40.8 41.8 40.9 ...\n",
            " $ Georeferenced.Latitude...Longitude: chr  \"POINT (-80.22943817 39.85480393)\" \"POINT (-78.5712202 41.81037074)\" \"POINT (-79.47316899 40.81509526)\" \"POINT (-79.27858158 41.81675237)\" ...\n"
          ]
        }
      ]
    },
    {
      "cell_type": "code",
      "metadata": {
        "id": "UT1KGvdThsFm"
      },
      "source": [
        "%%R\n",
        "\n",
        "data <- \n",
        "  data %>%\n",
        "  select(\n",
        "      County = Area.Name,\n",
        "      CountyCd = County.Code,\n",
        "      StateFIPS = State.FIPS.Code,\n",
        "      CountyFIPS = County.FIPS.Code,\n",
        "      Year = Calendar.Year,\n",
        "      NAICS = NAICS,\n",
        "      Sector = NAICS.Title,\n",
        "      Establishments = Establishments,\n",
        "      Employment = Employment,\n",
        "      Wages = Weekly.Wages,\n",
        "      Longitude = Longitude,\n",
        "      Latitude = Latitude,\n",
        "      GeoLatLong = Georeferenced.Latitude...Longitude)"
      ],
      "execution_count": 6,
      "outputs": []
    },
    {
      "cell_type": "code",
      "source": [
        "%%R\n",
        "str(data)"
      ],
      "metadata": {
        "colab": {
          "base_uri": "https://localhost:8080/"
        },
        "id": "vdaEU87BuZyx",
        "outputId": "37e6a2a1-6b06-45da-9be0-bea5003f956f"
      },
      "execution_count": 7,
      "outputs": [
        {
          "output_type": "stream",
          "name": "stdout",
          "text": [
            "'data.frame':\t1428 obs. of  13 variables:\n",
            " $ County        : chr  \"Greene County\" \"McKean County\" \"Armstrong County\" \"Warren County\" ...\n",
            " $ CountyCd      : int  30 42 3 62 49 38 63 67 29 48 ...\n",
            " $ StateFIPS     : int  42 42 42 42 42 42 42 42 42 42 ...\n",
            " $ CountyFIPS    : int  59 83 5 123 97 75 125 133 57 95 ...\n",
            " $ Year          : int  2018 2018 2018 2018 2018 2018 2018 2018 2018 2018 ...\n",
            " $ NAICS         : chr  \"61\" \"52\" \"42\" \"92\" ...\n",
            " $ Sector        : chr  \"Educational Services\" \"Finance and Insurance\" \"Wholesale Trade\" \"Public Administration\" ...\n",
            " $ Establishments: int  20 50 32 38 269 72 254 846 19 975 ...\n",
            " $ Employment    : int  NA 276 399 587 2794 324 3261 11177 221 14692 ...\n",
            " $ Wages         : int  NA 795 949 861 502 652 721 1197 681 843 ...\n",
            " $ Longitude     : num  -80.2 -78.6 -79.5 -79.3 -76.7 ...\n",
            " $ Latitude      : num  39.9 41.8 40.8 41.8 40.9 ...\n",
            " $ GeoLatLong    : chr  \"POINT (-80.22943817 39.85480393)\" \"POINT (-78.5712202 41.81037074)\" \"POINT (-79.47316899 40.81509526)\" \"POINT (-79.27858158 41.81675237)\" ...\n"
          ]
        }
      ]
    },
    {
      "cell_type": "code",
      "source": [
        "%%R\n",
        "nrow(data) #1428"
      ],
      "metadata": {
        "colab": {
          "base_uri": "https://localhost:8080/"
        },
        "id": "L06-yGklxsmI",
        "outputId": "babb5d9f-c29a-4b2d-ed68-03c572f4eaf4"
      },
      "execution_count": 8,
      "outputs": [
        {
          "output_type": "stream",
          "name": "stdout",
          "text": [
            "[1] 1428\n"
          ]
        }
      ]
    },
    {
      "cell_type": "code",
      "metadata": {
        "id": "K6MjLCPCh3MA"
      },
      "source": [
        "%%R\n",
        "data <-\n",
        "  data%>%\n",
        "  filter(!is.na(Wages)) %>%\n",
        "  filter(!is.na(Employment))"
      ],
      "execution_count": 9,
      "outputs": []
    },
    {
      "cell_type": "code",
      "source": [
        "%%R\n",
        "nrow(data) #1336"
      ],
      "metadata": {
        "colab": {
          "base_uri": "https://localhost:8080/"
        },
        "id": "6UvtwsLjxnAv",
        "outputId": "413920d2-0ed9-49c8-ce01-eb7367ca2f6d"
      },
      "execution_count": 10,
      "outputs": [
        {
          "output_type": "stream",
          "name": "stdout",
          "text": [
            "[1] 1336\n"
          ]
        }
      ]
    },
    {
      "cell_type": "code",
      "source": [
        "%%R\n",
        "weird <- data[F,]\n",
        "indx <- str_trim(data$County) == ''\n",
        "weird <- rbind(weird, data[indx,])\n",
        "data <- data[!indx,]\n",
        "indx <- is.na(data$County)\n",
        "weird <- rbind(weird, data[indx,])\n",
        "data <- data[!indx,]\n",
        "\n",
        "indx <- str_trim(data$Sector) == ''\n",
        "weird <- rbind(weird, data[indx,])\n",
        "data <- data[!indx,]\n",
        "indx <- is.na(data$Sector)\n",
        "weird <- rbind(weird, data[indx,])\n",
        "data <- data[!indx,]\n",
        "\n"
      ],
      "metadata": {
        "id": "HFOeUONyx2oO"
      },
      "execution_count": 11,
      "outputs": []
    },
    {
      "cell_type": "code",
      "source": [
        "%%R\n",
        "nrow(data) #1336"
      ],
      "metadata": {
        "colab": {
          "base_uri": "https://localhost:8080/"
        },
        "id": "u2eJGR7WzBOf",
        "outputId": "2737f365-f0f6-4788-b09e-10a916414f45"
      },
      "execution_count": 12,
      "outputs": [
        {
          "output_type": "stream",
          "name": "stdout",
          "text": [
            "[1] 1336\n"
          ]
        }
      ]
    },
    {
      "cell_type": "code",
      "metadata": {
        "id": "AavdFWt_h6Nz"
      },
      "source": [
        "%%R\n",
        "data <- \n",
        "  data %>%\n",
        "  select(\n",
        "      County,\n",
        "      Sector,\n",
        "      Employment,\n",
        "      Wages)"
      ],
      "execution_count": 13,
      "outputs": []
    },
    {
      "cell_type": "code",
      "source": [
        "%%R\n",
        "str(data)"
      ],
      "metadata": {
        "colab": {
          "base_uri": "https://localhost:8080/"
        },
        "id": "RpveBtZEz00g",
        "outputId": "45b70cfb-4acb-4880-e106-750fba4bf423"
      },
      "execution_count": 14,
      "outputs": [
        {
          "output_type": "stream",
          "name": "stdout",
          "text": [
            "'data.frame':\t1336 obs. of  4 variables:\n",
            " $ County    : chr  \"McKean County\" \"Armstrong County\" \"Warren County\" \"Northumberland County\" ...\n",
            " $ Sector    : chr  \"Finance and Insurance\" \"Wholesale Trade\" \"Public Administration\" \"Retail Trade\" ...\n",
            " $ Employment: int  276 399 587 2794 324 3261 11177 221 14692 3144 ...\n",
            " $ Wages     : int  795 949 861 502 652 721 1197 681 843 888 ...\n"
          ]
        }
      ]
    },
    {
      "cell_type": "code",
      "metadata": {
        "id": "D6atcZ-eijLt"
      },
      "source": [
        "%%R\n",
        "dataWages <-\n",
        "  data %>%\n",
        "  group_by(County) %>%\n",
        "  summarise(\n",
        "       total = sum(Wages),\n",
        "      avg = median(Wages)\n",
        "  )"
      ],
      "execution_count": 25,
      "outputs": []
    },
    {
      "cell_type": "code",
      "source": [
        "%%R\n",
        "dataWages"
      ],
      "metadata": {
        "colab": {
          "base_uri": "https://localhost:8080/"
        },
        "id": "c9qENxcYhgEF",
        "outputId": "ba24e59f-c271-42d7-8686-c21b922eb4b4"
      },
      "execution_count": 26,
      "outputs": [
        {
          "output_type": "stream",
          "name": "stdout",
          "text": [
            "# A tibble: 68 × 3\n",
            "   County           total   avg\n",
            "   <chr>            <int> <dbl>\n",
            " 1 Adams County     16235   858\n",
            " 2 Allegheny County 27202  1178\n",
            " 3 Armstrong County 19017   785\n",
            " 4 Beaver County    21006   921\n",
            " 5 Bedford County   15231   738\n",
            " 6 Berks County     22093  1045\n",
            " 7 Blair County     18434   892\n",
            " 8 Bradford County  18612   961\n",
            " 9 Bucks County     24781  1023\n",
            "10 Butler County    22663   987\n",
            "# … with 58 more rows\n"
          ]
        }
      ]
    },
    {
      "cell_type": "code",
      "source": [
        "%%R\n",
        "dataCounty <-\n",
        " dataWages %>%\n",
        "  group_by(County) %>%\n",
        "  mutate(\n",
        "      rank = row_number(-total)) %>%\n",
        "  filter(rank < 4)  %>%  \n",
        "  arrange(County, rank)"
      ],
      "metadata": {
        "id": "rG8WqsjS03h_"
      },
      "execution_count": 27,
      "outputs": []
    },
    {
      "cell_type": "code",
      "source": [
        "%%R\n",
        "dataCounty %>%\n",
        "  filter(rank == 1) %>%\n",
        "  arrange(desc(avg, County))"
      ],
      "metadata": {
        "colab": {
          "base_uri": "https://localhost:8080/"
        },
        "id": "3r_XYDxv1sRX",
        "outputId": "6644701e-112a-483e-fb33-1bf38c2386ff"
      },
      "execution_count": 28,
      "outputs": [
        {
          "output_type": "stream",
          "name": "stdout",
          "text": [
            "# A tibble: 68 × 4\n",
            "# Groups:   County [68]\n",
            "   County              total   avg  rank\n",
            "   <chr>               <int> <dbl> <int>\n",
            " 1 Philadelphia County 27824  1266     1\n",
            " 2 Montgomery County   28449  1255     1\n",
            " 3 Allegheny County    27202  1178     1\n",
            " 4 Pennsylvania        25464  1172     1\n",
            " 5 Chester County      29914  1153     1\n",
            " 6 Delaware County     28100  1151     1\n",
            " 7 Dauphin County      22129  1144     1\n",
            " 8 Lehigh County       21421  1119     1\n",
            " 9 Washington County   26798  1092     1\n",
            "10 Centre County       19164  1052     1\n",
            "# … with 58 more rows\n"
          ]
        }
      ]
    },
    {
      "cell_type": "code",
      "source": [
        "%%R\n",
        "dataWages <-\n",
        "  data %>%\n",
        "  group_by(Sector) %>%\n",
        "  summarise(\n",
        "       total = sum(Wages),\n",
        "      avg = median(Wages)\n",
        "  )"
      ],
      "metadata": {
        "id": "nAJ3B9MMkwJZ"
      },
      "execution_count": 33,
      "outputs": []
    },
    {
      "cell_type": "code",
      "source": [
        "%%R\n",
        "dataSector <-\n",
        " dataWages %>%\n",
        "  group_by(Sector) %>%\n",
        "  mutate(\n",
        "      rank = row_number(-total)) %>%\n",
        "  filter(rank < 4)  %>%  \n",
        "  arrange(Sector, rank)"
      ],
      "metadata": {
        "id": "4BPp17xR44MV"
      },
      "execution_count": 34,
      "outputs": []
    },
    {
      "cell_type": "code",
      "source": [
        "%%R\n",
        "dataSector %>%\n",
        "  filter(rank == 1) %>%\n",
        "  arrange(desc(avg, Sector))"
      ],
      "metadata": {
        "colab": {
          "base_uri": "https://localhost:8080/"
        },
        "id": "9LQt4gau4viM",
        "outputId": "d3859d9c-cf81-4ca1-a5a6-6529ab48d479"
      },
      "execution_count": 35,
      "outputs": [
        {
          "output_type": "stream",
          "name": "stdout",
          "text": [
            "# A tibble: 21 × 4\n",
            "# Groups:   Sector [21]\n",
            "   Sector                                           total   avg  rank\n",
            "   <chr>                                            <int> <dbl> <int>\n",
            " 1 Utilities                                        88954  1587     1\n",
            " 2 Management of Companies and Enterprises          96871  1570     1\n",
            " 3 Mining, Quarrying, and Oil and Gas Extraction    67497  1290     1\n",
            " 4 Finance and Insurance                            78406  1083     1\n",
            " 5 Professional, Scientific, and Technical Services 76964  1069     1\n",
            " 6 Construction                                     71134  1017     1\n",
            " 7 Manufacturing                                    68656  1011     1\n",
            " 8 Wholesale Trade                                  72675   998     1\n",
            " 9 Public Administration                            65385   977     1\n",
            "10 Educational Services                             48242   954     1\n",
            "# … with 11 more rows\n"
          ]
        }
      ]
    },
    {
      "cell_type": "code",
      "source": [
        "%%R\n",
        "dataEmployment <-\n",
        "  data %>%\n",
        "  filter(!Sector == \"Total, All Industries\")\n"
      ],
      "metadata": {
        "id": "W9Hqv04iBIoA"
      },
      "execution_count": 36,
      "outputs": []
    },
    {
      "cell_type": "code",
      "source": [
        "%%R\n",
        "str(dataEmployment)"
      ],
      "metadata": {
        "colab": {
          "base_uri": "https://localhost:8080/"
        },
        "id": "IRtLLE5_D7yi",
        "outputId": "15209696-be94-4cf0-89de-5b5e90f11436"
      },
      "execution_count": 37,
      "outputs": [
        {
          "output_type": "stream",
          "name": "stdout",
          "text": [
            "'data.frame':\t1268 obs. of  4 variables:\n",
            " $ County    : chr  \"McKean County\" \"Armstrong County\" \"Warren County\" \"Northumberland County\" ...\n",
            " $ Sector    : chr  \"Finance and Insurance\" \"Wholesale Trade\" \"Public Administration\" \"Retail Trade\" ...\n",
            " $ Employment: int  276 399 587 2794 324 3261 11177 221 14692 3144 ...\n",
            " $ Wages     : int  795 949 861 502 652 721 1197 681 843 888 ...\n"
          ]
        }
      ]
    },
    {
      "cell_type": "code",
      "source": [
        "%%R\n",
        "dataEmployment <-\n",
        "  dataEmployment %>%\n",
        "  group_by(County,Sector) %>%\n",
        "  summarise(\n",
        "      common = median(Employment)\n",
        "  )"
      ],
      "metadata": {
        "colab": {
          "base_uri": "https://localhost:8080/"
        },
        "id": "mtRg-yl359fd",
        "outputId": "6a405ca6-0c0c-4705-a122-5cd17332941b"
      },
      "execution_count": 38,
      "outputs": [
        {
          "output_type": "stream",
          "name": "stdout",
          "text": [
            "`summarise()` has grouped output by 'County'. You can override using the `.groups` argument.\n"
          ]
        }
      ]
    },
    {
      "cell_type": "code",
      "source": [
        "%%R\n",
        "dataCountySector <-\n",
        " dataEmployment %>%\n",
        "  group_by(County) %>%\n",
        "  mutate(\n",
        "      rank = row_number(-common)) %>%\n",
        "  filter(rank < 4)  %>%  \n",
        "  arrange(County, rank)"
      ],
      "metadata": {
        "id": "K1PHHIG4_V0-"
      },
      "execution_count": 39,
      "outputs": []
    },
    {
      "cell_type": "code",
      "source": [
        "%%R\n",
        "df1 <- dataCountySector %>%\n",
        "  filter(rank == 1) %>%\n",
        "  arrange(desc(common, Sector))"
      ],
      "metadata": {
        "id": "mM7RT5MP_nqd"
      },
      "execution_count": 40,
      "outputs": []
    },
    {
      "cell_type": "code",
      "source": [
        "%%R\n",
        "df1"
      ],
      "metadata": {
        "colab": {
          "base_uri": "https://localhost:8080/"
        },
        "id": "5ZaPtEJdHKmw",
        "outputId": "0e115505-fae3-4a52-8e3f-96d5b79d42d2"
      },
      "execution_count": 41,
      "outputs": [
        {
          "output_type": "stream",
          "name": "stdout",
          "text": [
            "# A tibble: 68 × 4\n",
            "# Groups:   County [68]\n",
            "   County              Sector                             common  rank\n",
            "   <chr>               <chr>                               <int> <int>\n",
            " 1 Pennsylvania        Health Care and Social Assistance 1068610     1\n",
            " 2 Philadelphia County Health Care and Social Assistance  169596     1\n",
            " 3 Allegheny County    Health Care and Social Assistance  139010     1\n",
            " 4 Montgomery County   Health Care and Social Assistance   79356     1\n",
            " 5 Bucks County        Health Care and Social Assistance   53243     1\n",
            " 6 Delaware County     Health Care and Social Assistance   44113     1\n",
            " 7 Lehigh County       Health Care and Social Assistance   43063     1\n",
            " 8 Lancaster County    Health Care and Social Assistance   39349     1\n",
            " 9 Chester County      Health Care and Social Assistance   37022     1\n",
            "10 Dauphin County      Health Care and Social Assistance   31995     1\n",
            "# … with 58 more rows\n"
          ]
        }
      ]
    },
    {
      "cell_type": "code",
      "metadata": {
        "id": "PzF1fxsurzbU"
      },
      "source": [
        "%%R\n",
        "write.csv(df1[,c(\"County\",\"Sector\")], '/content/result.r.csv',row.names=FALSE)"
      ],
      "execution_count": 42,
      "outputs": []
    }
  ]
}