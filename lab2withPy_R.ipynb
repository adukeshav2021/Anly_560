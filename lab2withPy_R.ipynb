{
  "nbformat": 4,
  "nbformat_minor": 0,
  "metadata": {
    "colab": {
      "name": "Copy of lab2.ipynb",
      "provenance": [],
      "collapsed_sections": []
    },
    "kernelspec": {
      "display_name": "Python 3",
      "name": "python3"
    },
    "language_info": {
      "name": "python"
    }
  },
  "cells": [
    {
      "cell_type": "code",
      "metadata": {
        "colab": {
          "base_uri": "https://localhost:8080/"
        },
        "id": "HC5W0WUx0qhR",
        "outputId": "6432b4ec-47ba-4ca7-ff90-9528a22f83c9"
      },
      "source": [
        "pip uninstall -y enum34"
      ],
      "execution_count": 2,
      "outputs": [
        {
          "output_type": "stream",
          "name": "stdout",
          "text": [
            "\u001b[33mWARNING: Skipping enum34 as it is not installed.\u001b[0m\n"
          ]
        }
      ]
    },
    {
      "cell_type": "code",
      "metadata": {
        "id": "gQUmoj0P02dc"
      },
      "source": [
        "pip install scikit-learn-extra"
      ],
      "execution_count": null,
      "outputs": []
    },
    {
      "cell_type": "code",
      "metadata": {
        "id": "9CEMaC424uqL"
      },
      "source": [
        "from sklearn_extra.cluster import KMedoids\n",
        "import pandas as pd"
      ],
      "execution_count": 4,
      "outputs": []
    },
    {
      "cell_type": "code",
      "metadata": {
        "id": "7_2-vzoarrTq"
      },
      "source": [
        "dataPath = '/content/drive/MyDrive/ANLY560/hw2.csv'"
      ],
      "execution_count": 5,
      "outputs": []
    },
    {
      "cell_type": "code",
      "metadata": {
        "id": "fFgbW5qer3Xj"
      },
      "source": [
        "def my_pam_Python(dataPath,cl_size):\n",
        "  data = pd.read_csv(dataPath)\n",
        "  kmed = KMedoids(n_clusters=cl_size,random_state = 0).fit(data.values.tolist())\n",
        "  kmed.labels_\n",
        "  if cl_size == 2:\n",
        "    data['cluster_size_2'] = kmed.labels_\n",
        "    kmed = KMedoids( n_clusters=2,random_state=0).fit(data.values.tolist())\n",
        "    data.to_csv('/content/drive/MyDrive/ANLY560/P_hw2.results_2.csv',index=False)\n",
        "  elif cl_size == 4:\n",
        "    data['cluster_size_4'] = kmed.labels_\n",
        "    kmed = KMedoids( n_clusters=4,random_state=0).fit(data.values.tolist())\n",
        "    data.to_csv('/content/drive/MyDrive/ANLY560/P_hw2.results_4.csv',index=False)"
      ],
      "execution_count": 7,
      "outputs": []
    },
    {
      "cell_type": "code",
      "metadata": {
        "id": "uE4yKUqo_6F5"
      },
      "source": [
        "my_pam_Python(dataPath,4)"
      ],
      "execution_count": 8,
      "outputs": []
    },
    {
      "cell_type": "code",
      "metadata": {
        "id": "ZZ1HjBZsAW9S"
      },
      "source": [
        "my_pam_Python(dataPath,2)\n",
        "\n"
      ],
      "execution_count": 9,
      "outputs": []
    },
    {
      "cell_type": "code",
      "metadata": {
        "id": "Ssea33yJp6NS"
      },
      "source": [
        "%load_ext rpy2.ipython"
      ],
      "execution_count": null,
      "outputs": []
    },
    {
      "cell_type": "code",
      "metadata": {
        "id": "y4qjH0tusNxp"
      },
      "source": [
        "%%R\n",
        " install.packages('cluster')"
      ],
      "execution_count": null,
      "outputs": []
    },
    {
      "cell_type": "markdown",
      "metadata": {
        "id": "sUxEgt5VqN6n"
      },
      "source": [
        "%%R\n",
        "install.packages('cluster')\n",
        "install.packages('factoextra')"
      ]
    },
    {
      "cell_type": "code",
      "metadata": {
        "id": "0gbNNE87qGtT"
      },
      "source": [
        "%%R\n",
        "library(cluster)\n",
        "#library(factoextra)"
      ],
      "execution_count": null,
      "outputs": []
    },
    {
      "cell_type": "code",
      "metadata": {
        "id": "GdvPblMttYLq"
      },
      "source": [
        "%%R\n",
        "my_pam_R <- function(dataPath,cl_size){\n",
        "  df = read.csv(dataPath)\n",
        "  \n",
        "  fit_n = pam(df,cl_size)\n",
        "  df$label = fit_n$clustering\n",
        "  \n",
        "  write.csv(df,'/content/drive/MyDrive/ANLY560/R_hw2.results_4.csv')\n",
        "  \n",
        "}"
      ],
      "execution_count": null,
      "outputs": []
    },
    {
      "cell_type": "code",
      "metadata": {
        "id": "xxYXfYcdtwG2"
      },
      "source": [
        "%%R\n",
        "my_pam_R('/content/drive/MyDrive/ANLY560/hw2.csv',4)"
      ],
      "execution_count": null,
      "outputs": []
    }
  ]
}