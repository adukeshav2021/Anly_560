{
  "nbformat": 4,
  "nbformat_minor": 0,
  "metadata": {
    "colab": {
      "name": "Cw5.ipynb",
      "provenance": [],
      "collapsed_sections": [],
      "mount_file_id": "1j3KAxHEARxKvKGwtNLZ2pediW6x6Qtfm",
      "authorship_tag": "ABX9TyO2uqNXIOscm4AFNwbvSKIk",
      "include_colab_link": true
    },
    "kernelspec": {
      "name": "python3",
      "display_name": "Python 3"
    },
    "language_info": {
      "name": "python"
    }
  },
  "cells": [
    {
      "cell_type": "markdown",
      "metadata": {
        "id": "view-in-github",
        "colab_type": "text"
      },
      "source": [
        "<a href=\"https://colab.research.google.com/github/adukeshav2021/Anly_560/blob/main/Cw5.ipynb\" target=\"_parent\"><img src=\"https://colab.research.google.com/assets/colab-badge.svg\" alt=\"Open In Colab\"/></a>"
      ]
    },
    {
      "cell_type": "code",
      "metadata": {
        "id": "ghcF6x-MhUYM"
      },
      "source": [
        "%load_ext rpy2.ipython"
      ],
      "execution_count": null,
      "outputs": []
    },
    {
      "cell_type": "code",
      "metadata": {
        "id": "SSpdZyQghipF"
      },
      "source": [
        "%%R\n",
        "library(dplyr)\n"
      ],
      "execution_count": null,
      "outputs": []
    },
    {
      "cell_type": "code",
      "metadata": {
        "id": "U4d_qIh_hmPH"
      },
      "source": [
        "%%R\n",
        "data_raw <- read.csv('/content/drive/MyDrive/ANLY560/lab4.csv')\n"
      ],
      "execution_count": null,
      "outputs": []
    },
    {
      "cell_type": "code",
      "metadata": {
        "id": "UT1KGvdThsFm"
      },
      "source": [
        "%%R\n",
        "data <- data_raw\n",
        "\n"
      ],
      "execution_count": null,
      "outputs": []
    },
    {
      "cell_type": "code",
      "metadata": {
        "id": "Bso6oBdXwF-K"
      },
      "source": [
        "%%R\n",
        "str(data)"
      ],
      "execution_count": null,
      "outputs": []
    },
    {
      "cell_type": "code",
      "metadata": {
        "colab": {
          "base_uri": "https://localhost:8080/"
        },
        "id": "YPNB4pd2sVIO",
        "outputId": "525d17db-363f-4946-b299-ba993a452632"
      },
      "source": [
        "%%R\n",
        "unique(data$is_actionable)"
      ],
      "execution_count": null,
      "outputs": [
        {
          "output_type": "stream",
          "name": "stdout",
          "text": [
            "[1] \"false\" \"true\" \n"
          ]
        }
      ]
    },
    {
      "cell_type": "code",
      "metadata": {
        "id": "K6MjLCPCh3MA"
      },
      "source": [
        "%%R\n",
        "data <-\n",
        "  data%>%\n",
        "  filter(is_actionable == 'true')"
      ],
      "execution_count": null,
      "outputs": []
    },
    {
      "cell_type": "code",
      "metadata": {
        "id": "AavdFWt_h6Nz"
      },
      "source": [
        "%%R\n",
        "data <-\n",
        "  data%>%\n",
        "  filter(!is.na(zip_code))%>%\n",
        "  filter(!is.na(zip_4))"
      ],
      "execution_count": null,
      "outputs": []
    },
    {
      "cell_type": "code",
      "metadata": {
        "id": "D6atcZ-eijLt"
      },
      "source": [
        "%%R\n",
        "data <- \n",
        "  data %>%\n",
        "  select(\n",
        "      objectid,\n",
        "      total_due,\n",
        "      zip_code,\n",
        "      zip_4)"
      ],
      "execution_count": null,
      "outputs": []
    },
    {
      "cell_type": "code",
      "metadata": {
        "id": "B7A_1vJEim9a",
        "colab": {
          "base_uri": "https://localhost:8080/"
        },
        "outputId": "6d171358-7ad4-4286-c0dc-518920d106e5"
      },
      "source": [
        "%%R\n",
        "str(data)\n"
      ],
      "execution_count": null,
      "outputs": [
        {
          "output_type": "stream",
          "name": "stdout",
          "text": [
            "'data.frame':\t33353 obs. of  4 variables:\n",
            " $ objectid : int  2479710 2479711 2479712 2479722 2479724 2479728 2479730 2479732 2479733 2479735 ...\n",
            " $ total_due: num  449.8 8507.4 918.5 66.2 1087.1 ...\n",
            " $ zip_code : int  19134 19134 19134 19134 19134 19134 19134 19134 19134 19134 ...\n",
            " $ zip_4    : int  4038 3923 3923 4003 4029 4115 3553 3612 3626 4114 ...\n"
          ]
        }
      ]
    },
    {
      "cell_type": "code",
      "metadata": {
        "id": "-6uEwymuruj-",
        "colab": {
          "base_uri": "https://localhost:8080/"
        },
        "outputId": "16e62c30-f8af-4e92-f787-326e229d4835"
      },
      "source": [
        "%%R\n",
        "nrow(data) == length(unique(data$objectid))"
      ],
      "execution_count": null,
      "outputs": [
        {
          "output_type": "stream",
          "name": "stdout",
          "text": [
            "[1] TRUE\n"
          ]
        }
      ]
    },
    {
      "cell_type": "code",
      "metadata": {
        "id": "CM_aT-dUx-nJ",
        "colab": {
          "base_uri": "https://localhost:8080/"
        },
        "outputId": "5237fd63-86d5-4a2a-b28e-bbbcf0b6cd8d"
      },
      "source": [
        "%%R\n",
        "sum(data$total_due)"
      ],
      "execution_count": null,
      "outputs": [
        {
          "output_type": "stream",
          "name": "stdout",
          "text": [
            "[1] 210983873\n"
          ]
        }
      ]
    },
    {
      "cell_type": "code",
      "metadata": {
        "id": "PMk4XdXUu5J-",
        "colab": {
          "base_uri": "https://localhost:8080/"
        },
        "outputId": "9f431995-79c2-4886-fdef-b6406de7e027"
      },
      "source": [
        "%%R\n",
        "data <-\n",
        "  data %>%\n",
        "  group_by(zip_code,zip_4) %>%\n",
        "  summarise(\n",
        "      total = sum(total_due),\n",
        "      avg = median(total_due)\n",
        "  )"
      ],
      "execution_count": null,
      "outputs": [
        {
          "output_type": "stream",
          "name": "stdout",
          "text": [
            "`summarise()` has grouped output by 'zip_code'. You can override using the `.groups` argument.\n"
          ]
        }
      ]
    },
    {
      "cell_type": "code",
      "metadata": {
        "id": "XPhkN-0J1rqX",
        "colab": {
          "base_uri": "https://localhost:8080/"
        },
        "outputId": "2ad41866-3fd3-481b-dc2a-af2ff2d0a8c1"
      },
      "source": [
        "%%R\n",
        "data\n"
      ],
      "execution_count": null,
      "outputs": [
        {
          "output_type": "stream",
          "name": "stdout",
          "text": [
            "# A tibble: 15,748 × 4\n",
            "# Groups:   zip_code [48]\n",
            "   zip_code zip_4   total     avg\n",
            "      <int> <int>   <dbl>   <dbl>\n",
            " 1    19102  1101 166976.  83488.\n",
            " 2    19102  1110  16320.  16320.\n",
            " 3    19102  1121 161887. 161887.\n",
            " 4    19102  1421   6226.   6226.\n",
            " 5    19102  1505  52450.  52450.\n",
            " 6    19102  2545  73048.  73048.\n",
            " 7    19102  2548  14959.  14959.\n",
            " 8    19102  2549  34048.  17024.\n",
            " 9    19102  3724 326589. 326589.\n",
            "10    19102  3810  60903.  30451.\n",
            "# … with 15,738 more rows\n"
          ]
        }
      ]
    },
    {
      "cell_type": "code",
      "metadata": {
        "id": "db5-ZDTpvFGr"
      },
      "source": [
        "%%R\n",
        "data <-\n",
        " data %>%\n",
        "  group_by(zip_code) %>%\n",
        "  mutate(\n",
        "      rank = row_number(-total)) %>%\n",
        "  filter(rank < 4)  %>%  \n",
        "  arrange(zip_code, rank)\n",
        "  "
      ],
      "execution_count": null,
      "outputs": []
    },
    {
      "cell_type": "code",
      "metadata": {
        "id": "uaIYPMK5z-Xi",
        "colab": {
          "base_uri": "https://localhost:8080/"
        },
        "outputId": "4317a06d-08af-4053-f4b6-3cebf71dea2d"
      },
      "source": [
        "%%R\n",
        "data %>%\n",
        "  filter(rank == 1)"
      ],
      "execution_count": null,
      "outputs": [
        {
          "output_type": "stream",
          "name": "stdout",
          "text": [
            "# A tibble: 48 × 5\n",
            "# Groups:   zip_code [48]\n",
            "   zip_code zip_4    total      avg  rank\n",
            "      <int> <int>    <dbl>    <dbl> <int>\n",
            " 1    19102  4223  461709.    4233.     1\n",
            " 2    19103  6305  247298.  247298.     1\n",
            " 3    19104  3104 1296604. 1296604.     1\n",
            " 4    19106  2104  292604.  292604.     1\n",
            " 5    19107  1301  539223.  269611.     1\n",
            " 6    19111  4629  128625.  128625.     1\n",
            " 7    19112  1612  136407.  136407.     1\n",
            " 8    19114  3232   63684.   31842.     1\n",
            " 9    19115  3801   80012.   19656.     1\n",
            "10    19116  2108   68465.   18856.     1\n",
            "# … with 38 more rows\n"
          ]
        }
      ]
    },
    {
      "cell_type": "code",
      "metadata": {
        "id": "NgP0a9I14Hwv",
        "colab": {
          "base_uri": "https://localhost:8080/"
        },
        "outputId": "c9aede5c-90d1-4ec1-8528-68b5829d4f2e"
      },
      "source": [
        "%%R\n",
        "data"
      ],
      "execution_count": null,
      "outputs": [
        {
          "output_type": "stream",
          "name": "stdout",
          "text": [
            "# A tibble: 140 × 5\n",
            "# Groups:   zip_code [48]\n",
            "   zip_code zip_4    total      avg  rank\n",
            "      <int> <int>    <dbl>    <dbl> <int>\n",
            " 1    19102  4223  461709.    4233.     1\n",
            " 2    19102  3724  326589.  326589.     2\n",
            " 3    19102  1101  166976.   83488.     3\n",
            " 4    19103  6305  247298.  247298.     1\n",
            " 5    19103  4902  201415.  201415.     2\n",
            " 6    19103  4808  172279.   86140.     3\n",
            " 7    19104  3104 1296604. 1296604.     1\n",
            " 8    19104  1415  441423.  220712.     2\n",
            " 9    19104  1857  152865.  152865.     3\n",
            "10    19106  2104  292604.  292604.     1\n",
            "# … with 130 more rows\n"
          ]
        }
      ]
    },
    {
      "cell_type": "code",
      "metadata": {
        "id": "j-nBcVXC4UwR"
      },
      "source": [
        "%%R\n"
      ],
      "execution_count": null,
      "outputs": []
    },
    {
      "cell_type": "code",
      "metadata": {
        "id": "PzF1fxsurzbU"
      },
      "source": [
        "%%R\n",
        "write.csv(result[,c(\"row_number\",\"label\")], '/content/drive/MyDrive/ANLY560/results.csv')"
      ],
      "execution_count": null,
      "outputs": []
    }
  ]
}