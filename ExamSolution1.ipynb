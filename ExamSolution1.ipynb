{
  "nbformat": 4,
  "nbformat_minor": 0,
  "metadata": {
    "colab": {
      "name": "ExamSolution1.ipynb",
      "provenance": [],
      "collapsed_sections": [],
      "authorship_tag": "ABX9TyOn8mEketxNB3zszjLmABWN",
      "include_colab_link": true
    },
    "kernelspec": {
      "name": "ir",
      "display_name": "R"
    },
    "language_info": {
      "name": "R"
    }
  },
  "cells": [
    {
      "cell_type": "markdown",
      "metadata": {
        "id": "view-in-github",
        "colab_type": "text"
      },
      "source": [
        "<a href=\"https://colab.research.google.com/github/adukeshav2021/Anly_560/blob/main/ExamSolution1.ipynb\" target=\"_parent\"><img src=\"https://colab.research.google.com/assets/colab-badge.svg\" alt=\"Open In Colab\"/></a>"
      ]
    },
    {
      "cell_type": "code",
      "source": [
        "library(dplyr)\n",
        "library(stringr)\n",
        "library(forcats)\n",
        "library(lubridate)"
      ],
      "metadata": {
        "id": "dcx2JWa2wBId"
      },
      "execution_count": 41,
      "outputs": []
    },
    {
      "cell_type": "code",
      "execution_count": 42,
      "metadata": {
        "id": "JnRqUcPAvBKO"
      },
      "outputs": [],
      "source": [
        "raw_data <- read.csv('/content/covid.csv')"
      ]
    },
    {
      "cell_type": "code",
      "source": [
        "data <- raw_data"
      ],
      "metadata": {
        "id": "Wj7CP3-yv5Qm"
      },
      "execution_count": 43,
      "outputs": []
    },
    {
      "cell_type": "code",
      "source": [
        "head(data)"
      ],
      "metadata": {
        "id": "kW2r6s5Fv7tR"
      },
      "execution_count": null,
      "outputs": []
    },
    {
      "cell_type": "code",
      "source": [
        "data <- \n",
        "data %>%\n",
        "select(Vaccine,\n",
        "Doses,\n",
        "County,\n",
        "Date)"
      ],
      "metadata": {
        "id": "AkB8a-wgwY2e"
      },
      "execution_count": 45,
      "outputs": []
    },
    {
      "cell_type": "code",
      "source": [
        "head(data)"
      ],
      "metadata": {
        "colab": {
          "base_uri": "https://localhost:8080/",
          "height": 286
        },
        "id": "4sGQW16Jwl_F",
        "outputId": "37211274-6f4a-48d1-d29a-a1ca735b9ca6"
      },
      "execution_count": 46,
      "outputs": [
        {
          "output_type": "display_data",
          "data": {
            "text/plain": [
              "  Vaccine         Doses County    Date      \n",
              "1 Janssen Vaccine  100  Allegheny 10/26/2021\n",
              "2 Moderna Vaccine  280  Beaver    08/24/2021\n",
              "3 Pfizer Vaccine  1170  Delaware  08/31/2021\n",
              "4 Pfizer Vaccine  1170  Dauphin   06/08/2021\n",
              "5 Moderna          100  Lycoming  01/18/2021\n",
              "6 Moderna Vaccine  280  York      06/22/2021"
            ],
            "text/latex": "A data.frame: 6 × 4\n\\begin{tabular}{r|llll}\n  & Vaccine & Doses & County & Date\\\\\n  & <chr> & <int> & <chr> & <chr>\\\\\n\\hline\n\t1 & Janssen Vaccine &  100 & Allegheny & 10/26/2021\\\\\n\t2 & Moderna Vaccine &  280 & Beaver    & 08/24/2021\\\\\n\t3 & Pfizer Vaccine  & 1170 & Delaware  & 08/31/2021\\\\\n\t4 & Pfizer Vaccine  & 1170 & Dauphin   & 06/08/2021\\\\\n\t5 & Moderna         &  100 & Lycoming  & 01/18/2021\\\\\n\t6 & Moderna Vaccine &  280 & York      & 06/22/2021\\\\\n\\end{tabular}\n",
            "text/markdown": "\nA data.frame: 6 × 4\n\n| <!--/--> | Vaccine &lt;chr&gt; | Doses &lt;int&gt; | County &lt;chr&gt; | Date &lt;chr&gt; |\n|---|---|---|---|---|\n| 1 | Janssen Vaccine |  100 | Allegheny | 10/26/2021 |\n| 2 | Moderna Vaccine |  280 | Beaver    | 08/24/2021 |\n| 3 | Pfizer Vaccine  | 1170 | Delaware  | 08/31/2021 |\n| 4 | Pfizer Vaccine  | 1170 | Dauphin   | 06/08/2021 |\n| 5 | Moderna         |  100 | Lycoming  | 01/18/2021 |\n| 6 | Moderna Vaccine |  280 | York      | 06/22/2021 |\n\n",
            "text/html": [
              "<table class=\"dataframe\">\n",
              "<caption>A data.frame: 6 × 4</caption>\n",
              "<thead>\n",
              "\t<tr><th></th><th scope=col>Vaccine</th><th scope=col>Doses</th><th scope=col>County</th><th scope=col>Date</th></tr>\n",
              "\t<tr><th></th><th scope=col>&lt;chr&gt;</th><th scope=col>&lt;int&gt;</th><th scope=col>&lt;chr&gt;</th><th scope=col>&lt;chr&gt;</th></tr>\n",
              "</thead>\n",
              "<tbody>\n",
              "\t<tr><th scope=row>1</th><td>Janssen Vaccine</td><td> 100</td><td>Allegheny</td><td>10/26/2021</td></tr>\n",
              "\t<tr><th scope=row>2</th><td>Moderna Vaccine</td><td> 280</td><td>Beaver   </td><td>08/24/2021</td></tr>\n",
              "\t<tr><th scope=row>3</th><td>Pfizer Vaccine </td><td>1170</td><td>Delaware </td><td>08/31/2021</td></tr>\n",
              "\t<tr><th scope=row>4</th><td>Pfizer Vaccine </td><td>1170</td><td>Dauphin  </td><td>06/08/2021</td></tr>\n",
              "\t<tr><th scope=row>5</th><td>Moderna        </td><td> 100</td><td>Lycoming </td><td>01/18/2021</td></tr>\n",
              "\t<tr><th scope=row>6</th><td>Moderna Vaccine</td><td> 280</td><td>York     </td><td>06/22/2021</td></tr>\n",
              "</tbody>\n",
              "</table>\n"
            ]
          },
          "metadata": {}
        }
      ]
    },
    {
      "cell_type": "code",
      "source": [
        "#print(sum(is.na(data$County)))\n",
        "#print(sum(str_trim(data$County) !=''))\n",
        "#xtabs(~data$County)\n",
        "data <-\n",
        "  data %>%\n",
        "  mutate(County = str_trim(County)) %>%\n",
        "  filter(County !='') %>%\n",
        "  mutate(County = str_replace(County,' County','')) %>%\n",
        "  mutate(\n",
        "    County = fct_collapse(\n",
        "      County,\n",
        "      Bucks = c('Buck','Bucks'),\n",
        "      Tioga = c('Tioa','Tioga'),\n",
        "      Luzerne = c('Luzerne','Lzuerne'),\n",
        "      McKean = c('McKean','Mckean'),\n",
        "      Northampton = c('Northampton','North Hampton'),\n",
        "      Venango = c('Venango','Venego')\n",
        "    )\n",
        "  )\n"
      ],
      "metadata": {
        "id": "ua1JP1mDwttY"
      },
      "execution_count": 47,
      "outputs": []
    },
    {
      "cell_type": "code",
      "source": [
        "#xtabs(~data$County)\n",
        "\n",
        "t1<-xtabs(~data$County)\n",
        "unique(names(t1))\n",
        "length(t1)"
      ],
      "metadata": {
        "colab": {
          "base_uri": "https://localhost:8080/",
          "height": 173
        },
        "id": "Ya4NaD_JxVoe",
        "outputId": "e60ec2e8-2dfe-4059-fec8-2b64f92bfa8a"
      },
      "execution_count": 48,
      "outputs": [
        {
          "output_type": "display_data",
          "data": {
            "text/plain": [
              " [1] \"Adams\"          \"Allegheny\"      \"Armstrong\"      \"Beaver\"        \n",
              " [5] \"Bedford\"        \"Berks\"          \"Blair\"          \"Bradford\"      \n",
              " [9] \"Bucks\"          \"Butler\"         \"Cambria\"        \"Cameron\"       \n",
              "[13] \"Carbon\"         \"Centre\"         \"Chester\"        \"Clarion\"       \n",
              "[17] \"Clearfield\"     \"Clinton\"        \"Columbia\"       \"Crawford\"      \n",
              "[21] \"Cumberland\"     \"Dauphin\"        \"Delaware\"       \"Elk\"           \n",
              "[25] \"Erie\"           \"Fayette\"        \"Franklin\"       \"Fulton\"        \n",
              "[29] \"Greene\"         \"Huntingdon\"     \"Indiana\"        \"Jefferson\"     \n",
              "[33] \"Juniata\"        \"Lackawanna\"     \"Lancaster\"      \"Lawrence\"      \n",
              "[37] \"Lebanon\"        \"Lehigh\"         \"Luzerne\"        \"Lycoming\"      \n",
              "[41] \"McKean\"         \"Mercer\"         \"Mifflin\"        \"Monroe\"        \n",
              "[45] \"Montgomery\"     \"Montour\"        \"Northampton\"    \"Northumberland\"\n",
              "[49] \"Perry\"          \"Philadelphia\"   \"Pike\"           \"Potter\"        \n",
              "[53] \"Schuylkill\"     \"Snyder\"         \"Somerset\"       \"Susquehanna\"   \n",
              "[57] \"Tioga\"          \"Union\"          \"Venango\"        \"Warren\"        \n",
              "[61] \"Washington\"     \"Wayne\"          \"Westmoreland\"   \"Wyoming\"       \n",
              "[65] \"York\"          "
            ],
            "text/latex": "\\begin{enumerate*}\n\\item 'Adams'\n\\item 'Allegheny'\n\\item 'Armstrong'\n\\item 'Beaver'\n\\item 'Bedford'\n\\item 'Berks'\n\\item 'Blair'\n\\item 'Bradford'\n\\item 'Bucks'\n\\item 'Butler'\n\\item 'Cambria'\n\\item 'Cameron'\n\\item 'Carbon'\n\\item 'Centre'\n\\item 'Chester'\n\\item 'Clarion'\n\\item 'Clearfield'\n\\item 'Clinton'\n\\item 'Columbia'\n\\item 'Crawford'\n\\item 'Cumberland'\n\\item 'Dauphin'\n\\item 'Delaware'\n\\item 'Elk'\n\\item 'Erie'\n\\item 'Fayette'\n\\item 'Franklin'\n\\item 'Fulton'\n\\item 'Greene'\n\\item 'Huntingdon'\n\\item 'Indiana'\n\\item 'Jefferson'\n\\item 'Juniata'\n\\item 'Lackawanna'\n\\item 'Lancaster'\n\\item 'Lawrence'\n\\item 'Lebanon'\n\\item 'Lehigh'\n\\item 'Luzerne'\n\\item 'Lycoming'\n\\item 'McKean'\n\\item 'Mercer'\n\\item 'Mifflin'\n\\item 'Monroe'\n\\item 'Montgomery'\n\\item 'Montour'\n\\item 'Northampton'\n\\item 'Northumberland'\n\\item 'Perry'\n\\item 'Philadelphia'\n\\item 'Pike'\n\\item 'Potter'\n\\item 'Schuylkill'\n\\item 'Snyder'\n\\item 'Somerset'\n\\item 'Susquehanna'\n\\item 'Tioga'\n\\item 'Union'\n\\item 'Venango'\n\\item 'Warren'\n\\item 'Washington'\n\\item 'Wayne'\n\\item 'Westmoreland'\n\\item 'Wyoming'\n\\item 'York'\n\\end{enumerate*}\n",
            "text/markdown": "1. 'Adams'\n2. 'Allegheny'\n3. 'Armstrong'\n4. 'Beaver'\n5. 'Bedford'\n6. 'Berks'\n7. 'Blair'\n8. 'Bradford'\n9. 'Bucks'\n10. 'Butler'\n11. 'Cambria'\n12. 'Cameron'\n13. 'Carbon'\n14. 'Centre'\n15. 'Chester'\n16. 'Clarion'\n17. 'Clearfield'\n18. 'Clinton'\n19. 'Columbia'\n20. 'Crawford'\n21. 'Cumberland'\n22. 'Dauphin'\n23. 'Delaware'\n24. 'Elk'\n25. 'Erie'\n26. 'Fayette'\n27. 'Franklin'\n28. 'Fulton'\n29. 'Greene'\n30. 'Huntingdon'\n31. 'Indiana'\n32. 'Jefferson'\n33. 'Juniata'\n34. 'Lackawanna'\n35. 'Lancaster'\n36. 'Lawrence'\n37. 'Lebanon'\n38. 'Lehigh'\n39. 'Luzerne'\n40. 'Lycoming'\n41. 'McKean'\n42. 'Mercer'\n43. 'Mifflin'\n44. 'Monroe'\n45. 'Montgomery'\n46. 'Montour'\n47. 'Northampton'\n48. 'Northumberland'\n49. 'Perry'\n50. 'Philadelphia'\n51. 'Pike'\n52. 'Potter'\n53. 'Schuylkill'\n54. 'Snyder'\n55. 'Somerset'\n56. 'Susquehanna'\n57. 'Tioga'\n58. 'Union'\n59. 'Venango'\n60. 'Warren'\n61. 'Washington'\n62. 'Wayne'\n63. 'Westmoreland'\n64. 'Wyoming'\n65. 'York'\n\n\n",
            "text/html": [
              "<style>\n",
              ".list-inline {list-style: none; margin:0; padding: 0}\n",
              ".list-inline>li {display: inline-block}\n",
              ".list-inline>li:not(:last-child)::after {content: \"\\00b7\"; padding: 0 .5ex}\n",
              "</style>\n",
              "<ol class=list-inline><li>'Adams'</li><li>'Allegheny'</li><li>'Armstrong'</li><li>'Beaver'</li><li>'Bedford'</li><li>'Berks'</li><li>'Blair'</li><li>'Bradford'</li><li>'Bucks'</li><li>'Butler'</li><li>'Cambria'</li><li>'Cameron'</li><li>'Carbon'</li><li>'Centre'</li><li>'Chester'</li><li>'Clarion'</li><li>'Clearfield'</li><li>'Clinton'</li><li>'Columbia'</li><li>'Crawford'</li><li>'Cumberland'</li><li>'Dauphin'</li><li>'Delaware'</li><li>'Elk'</li><li>'Erie'</li><li>'Fayette'</li><li>'Franklin'</li><li>'Fulton'</li><li>'Greene'</li><li>'Huntingdon'</li><li>'Indiana'</li><li>'Jefferson'</li><li>'Juniata'</li><li>'Lackawanna'</li><li>'Lancaster'</li><li>'Lawrence'</li><li>'Lebanon'</li><li>'Lehigh'</li><li>'Luzerne'</li><li>'Lycoming'</li><li>'McKean'</li><li>'Mercer'</li><li>'Mifflin'</li><li>'Monroe'</li><li>'Montgomery'</li><li>'Montour'</li><li>'Northampton'</li><li>'Northumberland'</li><li>'Perry'</li><li>'Philadelphia'</li><li>'Pike'</li><li>'Potter'</li><li>'Schuylkill'</li><li>'Snyder'</li><li>'Somerset'</li><li>'Susquehanna'</li><li>'Tioga'</li><li>'Union'</li><li>'Venango'</li><li>'Warren'</li><li>'Washington'</li><li>'Wayne'</li><li>'Westmoreland'</li><li>'Wyoming'</li><li>'York'</li></ol>\n"
            ]
          },
          "metadata": {}
        },
        {
          "output_type": "display_data",
          "data": {
            "text/plain": [
              "[1] 65"
            ],
            "text/latex": "65",
            "text/markdown": "65",
            "text/html": [
              "65"
            ]
          },
          "metadata": {}
        }
      ]
    },
    {
      "cell_type": "code",
      "source": [
        "#print(sum(is.na(data$Vaccine)))\n",
        "#print(sum(str_trim(data$Vaccine) !=''))\n",
        "#xtabs(~data$Vaccine)"
      ],
      "metadata": {
        "id": "odQVXPXC0Cfi"
      },
      "execution_count": 49,
      "outputs": []
    },
    {
      "cell_type": "code",
      "source": [
        "data <-\n",
        "  data %>%\n",
        "  mutate(Vaccine = str_trim(Vaccine)) %>%\n",
        "  filter(Vaccine !='') %>%\n",
        "  mutate(\n",
        "    Vaccine = fct_collapse(\n",
        "      Vaccine,\n",
        "      Janssen = c('Janssen Vaccine'),\n",
        "      Moderna = c('Moderna Vaccine','Moderna'),\n",
        "      Pfizer = c('Pfizer','Pfizer Pediatric Vaccine','Pfizer Vaccine')\n",
        "          )\n",
        "  )"
      ],
      "metadata": {
        "id": "RlbQHytr0KJr"
      },
      "execution_count": 50,
      "outputs": []
    },
    {
      "cell_type": "code",
      "source": [
        "xtabs(~data$Vaccine)"
      ],
      "metadata": {
        "colab": {
          "base_uri": "https://localhost:8080/",
          "height": 69
        },
        "id": "PgQqxzuc0RKb",
        "outputId": "bc6ae66f-bfb0-4361-ca9e-79c7c8dd3703"
      },
      "execution_count": 51,
      "outputs": [
        {
          "output_type": "display_data",
          "data": {
            "text/plain": [
              "data$Vaccine\n",
              "Janssen Moderna  Pfizer \n",
              "   2843   20659    4888 "
            ]
          },
          "metadata": {}
        }
      ]
    },
    {
      "cell_type": "code",
      "source": [
        "#print(sum(is.na(data$Doses)))\n",
        "data <- \n",
        "  data %>%\n",
        "  filter(!is.na(data$Doses))"
      ],
      "metadata": {
        "id": "7DZh2qAx1LP1"
      },
      "execution_count": 52,
      "outputs": []
    },
    {
      "cell_type": "code",
      "source": [
        "#print(sum(is.na(data$Date)))\n",
        "data <- \n",
        "  data %>%\n",
        "  mutate(Date = mdy(Date)) %>%\n",
        "  filter(!is.na(Date)) %>%\n",
        "  mutate(Month = month(Date,label = T, abbr = F))"
      ],
      "metadata": {
        "id": "QVYgFI9K1ecK"
      },
      "execution_count": 53,
      "outputs": []
    },
    {
      "cell_type": "code",
      "source": [
        "head(data)"
      ],
      "metadata": {
        "colab": {
          "base_uri": "https://localhost:8080/",
          "height": 286
        },
        "id": "TXQbM2_o2EEI",
        "outputId": "161b498f-169b-4e2f-e2d1-34029cd079a6"
      },
      "execution_count": 54,
      "outputs": [
        {
          "output_type": "display_data",
          "data": {
            "text/plain": [
              "  Vaccine Doses County    Date       Month  \n",
              "1 Janssen  100  Allegheny 2021-10-26 October\n",
              "2 Moderna  280  Beaver    2021-08-24 August \n",
              "3 Pfizer  1170  Delaware  2021-08-31 August \n",
              "4 Pfizer  1170  Dauphin   2021-06-08 June   \n",
              "5 Moderna  100  Lycoming  2021-01-18 January\n",
              "6 Moderna  280  York      2021-06-22 June   "
            ],
            "text/latex": "A data.frame: 6 × 5\n\\begin{tabular}{r|lllll}\n  & Vaccine & Doses & County & Date & Month\\\\\n  & <fct> & <int> & <fct> & <date> & <ord>\\\\\n\\hline\n\t1 & Janssen &  100 & Allegheny & 2021-10-26 & October\\\\\n\t2 & Moderna &  280 & Beaver    & 2021-08-24 & August \\\\\n\t3 & Pfizer  & 1170 & Delaware  & 2021-08-31 & August \\\\\n\t4 & Pfizer  & 1170 & Dauphin   & 2021-06-08 & June   \\\\\n\t5 & Moderna &  100 & Lycoming  & 2021-01-18 & January\\\\\n\t6 & Moderna &  280 & York      & 2021-06-22 & June   \\\\\n\\end{tabular}\n",
            "text/markdown": "\nA data.frame: 6 × 5\n\n| <!--/--> | Vaccine &lt;fct&gt; | Doses &lt;int&gt; | County &lt;fct&gt; | Date &lt;date&gt; | Month &lt;ord&gt; |\n|---|---|---|---|---|---|\n| 1 | Janssen |  100 | Allegheny | 2021-10-26 | October |\n| 2 | Moderna |  280 | Beaver    | 2021-08-24 | August  |\n| 3 | Pfizer  | 1170 | Delaware  | 2021-08-31 | August  |\n| 4 | Pfizer  | 1170 | Dauphin   | 2021-06-08 | June    |\n| 5 | Moderna |  100 | Lycoming  | 2021-01-18 | January |\n| 6 | Moderna |  280 | York      | 2021-06-22 | June    |\n\n",
            "text/html": [
              "<table class=\"dataframe\">\n",
              "<caption>A data.frame: 6 × 5</caption>\n",
              "<thead>\n",
              "\t<tr><th></th><th scope=col>Vaccine</th><th scope=col>Doses</th><th scope=col>County</th><th scope=col>Date</th><th scope=col>Month</th></tr>\n",
              "\t<tr><th></th><th scope=col>&lt;fct&gt;</th><th scope=col>&lt;int&gt;</th><th scope=col>&lt;fct&gt;</th><th scope=col>&lt;date&gt;</th><th scope=col>&lt;ord&gt;</th></tr>\n",
              "</thead>\n",
              "<tbody>\n",
              "\t<tr><th scope=row>1</th><td>Janssen</td><td> 100</td><td>Allegheny</td><td>2021-10-26</td><td>October</td></tr>\n",
              "\t<tr><th scope=row>2</th><td>Moderna</td><td> 280</td><td>Beaver   </td><td>2021-08-24</td><td>August </td></tr>\n",
              "\t<tr><th scope=row>3</th><td>Pfizer </td><td>1170</td><td>Delaware </td><td>2021-08-31</td><td>August </td></tr>\n",
              "\t<tr><th scope=row>4</th><td>Pfizer </td><td>1170</td><td>Dauphin  </td><td>2021-06-08</td><td>June   </td></tr>\n",
              "\t<tr><th scope=row>5</th><td>Moderna</td><td> 100</td><td>Lycoming </td><td>2021-01-18</td><td>January</td></tr>\n",
              "\t<tr><th scope=row>6</th><td>Moderna</td><td> 280</td><td>York     </td><td>2021-06-22</td><td>June   </td></tr>\n",
              "</tbody>\n",
              "</table>\n"
            ]
          },
          "metadata": {}
        }
      ]
    },
    {
      "cell_type": "code",
      "source": [
        "data %>%\n",
        "group_by(Vaccine) %>%\n",
        "summarize(Total = sum(Doses)) %>%\n",
        "arrange(-Total)"
      ],
      "metadata": {
        "colab": {
          "base_uri": "https://localhost:8080/",
          "height": 192
        },
        "id": "3BybYJ2E2ZBE",
        "outputId": "418152ed-cd2d-498d-df3d-2f9ec85bc6d7"
      },
      "execution_count": 55,
      "outputs": [
        {
          "output_type": "display_data",
          "data": {
            "text/plain": [
              "  Vaccine Total  \n",
              "1 Pfizer  5071510\n",
              "2 Moderna 3348420\n",
              "3 Janssen  391900"
            ],
            "text/latex": "A tibble: 3 × 2\n\\begin{tabular}{ll}\n Vaccine & Total\\\\\n <fct> & <int>\\\\\n\\hline\n\t Pfizer  & 5071510\\\\\n\t Moderna & 3348420\\\\\n\t Janssen &  391900\\\\\n\\end{tabular}\n",
            "text/markdown": "\nA tibble: 3 × 2\n\n| Vaccine &lt;fct&gt; | Total &lt;int&gt; |\n|---|---|\n| Pfizer  | 5071510 |\n| Moderna | 3348420 |\n| Janssen |  391900 |\n\n",
            "text/html": [
              "<table class=\"dataframe\">\n",
              "<caption>A tibble: 3 × 2</caption>\n",
              "<thead>\n",
              "\t<tr><th scope=col>Vaccine</th><th scope=col>Total</th></tr>\n",
              "\t<tr><th scope=col>&lt;fct&gt;</th><th scope=col>&lt;int&gt;</th></tr>\n",
              "</thead>\n",
              "<tbody>\n",
              "\t<tr><td>Pfizer </td><td>5071510</td></tr>\n",
              "\t<tr><td>Moderna</td><td>3348420</td></tr>\n",
              "\t<tr><td>Janssen</td><td> 391900</td></tr>\n",
              "</tbody>\n",
              "</table>\n"
            ]
          },
          "metadata": {}
        }
      ]
    },
    {
      "cell_type": "code",
      "source": [
        "data %>%\n",
        "group_by(County) %>%\n",
        "summarize(Total = sum(Doses)) %>%\n",
        "arrange(-Total)"
      ],
      "metadata": {
        "colab": {
          "base_uri": "https://localhost:8080/",
          "height": 1000
        },
        "id": "GCRPjs5L2yRa",
        "outputId": "93e505f9-86f1-43a3-bfa6-60008fffe8b6"
      },
      "execution_count": 56,
      "outputs": [
        {
          "output_type": "display_data",
          "data": {
            "text/plain": [
              "   County         Total  \n",
              "1  Allegheny      1133470\n",
              "2  Montgomery      815013\n",
              "3  Delaware        527470\n",
              "4  Bucks           480987\n",
              "5  Chester         420660\n",
              "6  Beaver          394500\n",
              "7  York            337560\n",
              "8  Berks           285540\n",
              "9  Lehigh          282360\n",
              "10 Luzerne         277540\n",
              "11 Cumberland      268790\n",
              "12 Westmoreland    245300\n",
              "13 Erie            241154\n",
              "14 Dauphin         232050\n",
              "15 Lancaster       205710\n",
              "16 Lackawanna      201300\n",
              "17 Northampton     161460\n",
              "18 Monroe          153170\n",
              "19 Northumberland  138370\n",
              "20 Butler          126270\n",
              "21 Snyder          121760\n",
              "22 Schuylkill      119440\n",
              "23 Washington      116660\n",
              "24 Cambria         108830\n",
              "25 Mercer          108380\n",
              "26 Blair           105270\n",
              "27 Centre           95050\n",
              "28 Fayette          86920\n",
              "29 Lycoming         72510\n",
              "30 Lebanon          69090\n",
              "⋮  ⋮              ⋮      \n",
              "36 Columbia       46380  \n",
              "37 Clearfield     45210  \n",
              "38 Bradford       37430  \n",
              "39 Venango        36610  \n",
              "40 Crawford       35606  \n",
              "41 Carbon         30020  \n",
              "42 Armstrong      29180  \n",
              "43 Elk            26610  \n",
              "44 Somerset       26610  \n",
              "45 Huntingdon     25320  \n",
              "46 Perry          24450  \n",
              "47 McKean         22970  \n",
              "48 Tioga          21410  \n",
              "49 Montour        19880  \n",
              "50 Susquehanna    18080  \n",
              "51 Greene         17500  \n",
              "52 Mifflin        16660  \n",
              "53 Bedford        16270  \n",
              "54 Jefferson      13770  \n",
              "55 Clinton        13640  \n",
              "56 Union          13620  \n",
              "57 Wyoming        13280  \n",
              "58 Warren         12940  \n",
              "59 Pike           12360  \n",
              "60 Clarion        11500  \n",
              "61 Potter          7190  \n",
              "62 Cameron         5510  \n",
              "63 Juniata         2880  \n",
              "64 Philadelphia     500  \n",
              "65 Fulton           400  "
            ],
            "text/latex": "A tibble: 65 × 2\n\\begin{tabular}{ll}\n County & Total\\\\\n <fct> & <int>\\\\\n\\hline\n\t Allegheny      & 1133470\\\\\n\t Montgomery     &  815013\\\\\n\t Delaware       &  527470\\\\\n\t Bucks          &  480987\\\\\n\t Chester        &  420660\\\\\n\t Beaver         &  394500\\\\\n\t York           &  337560\\\\\n\t Berks          &  285540\\\\\n\t Lehigh         &  282360\\\\\n\t Luzerne        &  277540\\\\\n\t Cumberland     &  268790\\\\\n\t Westmoreland   &  245300\\\\\n\t Erie           &  241154\\\\\n\t Dauphin        &  232050\\\\\n\t Lancaster      &  205710\\\\\n\t Lackawanna     &  201300\\\\\n\t Northampton    &  161460\\\\\n\t Monroe         &  153170\\\\\n\t Northumberland &  138370\\\\\n\t Butler         &  126270\\\\\n\t Snyder         &  121760\\\\\n\t Schuylkill     &  119440\\\\\n\t Washington     &  116660\\\\\n\t Cambria        &  108830\\\\\n\t Mercer         &  108380\\\\\n\t Blair          &  105270\\\\\n\t Centre         &   95050\\\\\n\t Fayette        &   86920\\\\\n\t Lycoming       &   72510\\\\\n\t Lebanon        &   69090\\\\\n\t ⋮ & ⋮\\\\\n\t Columbia     & 46380\\\\\n\t Clearfield   & 45210\\\\\n\t Bradford     & 37430\\\\\n\t Venango      & 36610\\\\\n\t Crawford     & 35606\\\\\n\t Carbon       & 30020\\\\\n\t Armstrong    & 29180\\\\\n\t Elk          & 26610\\\\\n\t Somerset     & 26610\\\\\n\t Huntingdon   & 25320\\\\\n\t Perry        & 24450\\\\\n\t McKean       & 22970\\\\\n\t Tioga        & 21410\\\\\n\t Montour      & 19880\\\\\n\t Susquehanna  & 18080\\\\\n\t Greene       & 17500\\\\\n\t Mifflin      & 16660\\\\\n\t Bedford      & 16270\\\\\n\t Jefferson    & 13770\\\\\n\t Clinton      & 13640\\\\\n\t Union        & 13620\\\\\n\t Wyoming      & 13280\\\\\n\t Warren       & 12940\\\\\n\t Pike         & 12360\\\\\n\t Clarion      & 11500\\\\\n\t Potter       &  7190\\\\\n\t Cameron      &  5510\\\\\n\t Juniata      &  2880\\\\\n\t Philadelphia &   500\\\\\n\t Fulton       &   400\\\\\n\\end{tabular}\n",
            "text/markdown": "\nA tibble: 65 × 2\n\n| County &lt;fct&gt; | Total &lt;int&gt; |\n|---|---|\n| Allegheny      | 1133470 |\n| Montgomery     |  815013 |\n| Delaware       |  527470 |\n| Bucks          |  480987 |\n| Chester        |  420660 |\n| Beaver         |  394500 |\n| York           |  337560 |\n| Berks          |  285540 |\n| Lehigh         |  282360 |\n| Luzerne        |  277540 |\n| Cumberland     |  268790 |\n| Westmoreland   |  245300 |\n| Erie           |  241154 |\n| Dauphin        |  232050 |\n| Lancaster      |  205710 |\n| Lackawanna     |  201300 |\n| Northampton    |  161460 |\n| Monroe         |  153170 |\n| Northumberland |  138370 |\n| Butler         |  126270 |\n| Snyder         |  121760 |\n| Schuylkill     |  119440 |\n| Washington     |  116660 |\n| Cambria        |  108830 |\n| Mercer         |  108380 |\n| Blair          |  105270 |\n| Centre         |   95050 |\n| Fayette        |   86920 |\n| Lycoming       |   72510 |\n| Lebanon        |   69090 |\n| ⋮ | ⋮ |\n| Columbia     | 46380 |\n| Clearfield   | 45210 |\n| Bradford     | 37430 |\n| Venango      | 36610 |\n| Crawford     | 35606 |\n| Carbon       | 30020 |\n| Armstrong    | 29180 |\n| Elk          | 26610 |\n| Somerset     | 26610 |\n| Huntingdon   | 25320 |\n| Perry        | 24450 |\n| McKean       | 22970 |\n| Tioga        | 21410 |\n| Montour      | 19880 |\n| Susquehanna  | 18080 |\n| Greene       | 17500 |\n| Mifflin      | 16660 |\n| Bedford      | 16270 |\n| Jefferson    | 13770 |\n| Clinton      | 13640 |\n| Union        | 13620 |\n| Wyoming      | 13280 |\n| Warren       | 12940 |\n| Pike         | 12360 |\n| Clarion      | 11500 |\n| Potter       |  7190 |\n| Cameron      |  5510 |\n| Juniata      |  2880 |\n| Philadelphia |   500 |\n| Fulton       |   400 |\n\n",
            "text/html": [
              "<table class=\"dataframe\">\n",
              "<caption>A tibble: 65 × 2</caption>\n",
              "<thead>\n",
              "\t<tr><th scope=col>County</th><th scope=col>Total</th></tr>\n",
              "\t<tr><th scope=col>&lt;fct&gt;</th><th scope=col>&lt;int&gt;</th></tr>\n",
              "</thead>\n",
              "<tbody>\n",
              "\t<tr><td>Allegheny     </td><td>1133470</td></tr>\n",
              "\t<tr><td>Montgomery    </td><td> 815013</td></tr>\n",
              "\t<tr><td>Delaware      </td><td> 527470</td></tr>\n",
              "\t<tr><td>Bucks         </td><td> 480987</td></tr>\n",
              "\t<tr><td>Chester       </td><td> 420660</td></tr>\n",
              "\t<tr><td>Beaver        </td><td> 394500</td></tr>\n",
              "\t<tr><td>York          </td><td> 337560</td></tr>\n",
              "\t<tr><td>Berks         </td><td> 285540</td></tr>\n",
              "\t<tr><td>Lehigh        </td><td> 282360</td></tr>\n",
              "\t<tr><td>Luzerne       </td><td> 277540</td></tr>\n",
              "\t<tr><td>Cumberland    </td><td> 268790</td></tr>\n",
              "\t<tr><td>Westmoreland  </td><td> 245300</td></tr>\n",
              "\t<tr><td>Erie          </td><td> 241154</td></tr>\n",
              "\t<tr><td>Dauphin       </td><td> 232050</td></tr>\n",
              "\t<tr><td>Lancaster     </td><td> 205710</td></tr>\n",
              "\t<tr><td>Lackawanna    </td><td> 201300</td></tr>\n",
              "\t<tr><td>Northampton   </td><td> 161460</td></tr>\n",
              "\t<tr><td>Monroe        </td><td> 153170</td></tr>\n",
              "\t<tr><td>Northumberland</td><td> 138370</td></tr>\n",
              "\t<tr><td>Butler        </td><td> 126270</td></tr>\n",
              "\t<tr><td>Snyder        </td><td> 121760</td></tr>\n",
              "\t<tr><td>Schuylkill    </td><td> 119440</td></tr>\n",
              "\t<tr><td>Washington    </td><td> 116660</td></tr>\n",
              "\t<tr><td>Cambria       </td><td> 108830</td></tr>\n",
              "\t<tr><td>Mercer        </td><td> 108380</td></tr>\n",
              "\t<tr><td>Blair         </td><td> 105270</td></tr>\n",
              "\t<tr><td>Centre        </td><td>  95050</td></tr>\n",
              "\t<tr><td>Fayette       </td><td>  86920</td></tr>\n",
              "\t<tr><td>Lycoming      </td><td>  72510</td></tr>\n",
              "\t<tr><td>Lebanon       </td><td>  69090</td></tr>\n",
              "\t<tr><td>⋮</td><td>⋮</td></tr>\n",
              "\t<tr><td>Columbia    </td><td>46380</td></tr>\n",
              "\t<tr><td>Clearfield  </td><td>45210</td></tr>\n",
              "\t<tr><td>Bradford    </td><td>37430</td></tr>\n",
              "\t<tr><td>Venango     </td><td>36610</td></tr>\n",
              "\t<tr><td>Crawford    </td><td>35606</td></tr>\n",
              "\t<tr><td>Carbon      </td><td>30020</td></tr>\n",
              "\t<tr><td>Armstrong   </td><td>29180</td></tr>\n",
              "\t<tr><td>Elk         </td><td>26610</td></tr>\n",
              "\t<tr><td>Somerset    </td><td>26610</td></tr>\n",
              "\t<tr><td>Huntingdon  </td><td>25320</td></tr>\n",
              "\t<tr><td>Perry       </td><td>24450</td></tr>\n",
              "\t<tr><td>McKean      </td><td>22970</td></tr>\n",
              "\t<tr><td>Tioga       </td><td>21410</td></tr>\n",
              "\t<tr><td>Montour     </td><td>19880</td></tr>\n",
              "\t<tr><td>Susquehanna </td><td>18080</td></tr>\n",
              "\t<tr><td>Greene      </td><td>17500</td></tr>\n",
              "\t<tr><td>Mifflin     </td><td>16660</td></tr>\n",
              "\t<tr><td>Bedford     </td><td>16270</td></tr>\n",
              "\t<tr><td>Jefferson   </td><td>13770</td></tr>\n",
              "\t<tr><td>Clinton     </td><td>13640</td></tr>\n",
              "\t<tr><td>Union       </td><td>13620</td></tr>\n",
              "\t<tr><td>Wyoming     </td><td>13280</td></tr>\n",
              "\t<tr><td>Warren      </td><td>12940</td></tr>\n",
              "\t<tr><td>Pike        </td><td>12360</td></tr>\n",
              "\t<tr><td>Clarion     </td><td>11500</td></tr>\n",
              "\t<tr><td>Potter      </td><td> 7190</td></tr>\n",
              "\t<tr><td>Cameron     </td><td> 5510</td></tr>\n",
              "\t<tr><td>Juniata     </td><td> 2880</td></tr>\n",
              "\t<tr><td>Philadelphia</td><td>  500</td></tr>\n",
              "\t<tr><td>Fulton      </td><td>  400</td></tr>\n",
              "</tbody>\n",
              "</table>\n"
            ]
          },
          "metadata": {}
        }
      ]
    },
    {
      "cell_type": "code",
      "source": [
        "t1<-\n",
        "  data %>%\n",
        "  group_by(County,Month) %>%\n",
        "  #filter(County == 'York') %>%\n",
        "  summarize(Total = sum(Doses)) %>%\n",
        "  #as.data.frame() %>% #For two levels of grouping\n",
        "  group_by(County) %>%\n",
        "  mutate(rank = row_number(-Total)) %>%\n",
        "  filter(rank == 1) %>%\n",
        "  select(County,Month) %>%\n",
        "  arrange(County)\n",
        "\n",
        "  write.csv(t1,'covid.results.csv', row.names =F)"
      ],
      "metadata": {
        "colab": {
          "base_uri": "https://localhost:8080/"
        },
        "id": "DEKCNs-Q33JR",
        "outputId": "fff4010c-0140-40cc-fbd2-15d54b980bc1"
      },
      "execution_count": 69,
      "outputs": [
        {
          "output_type": "stream",
          "name": "stderr",
          "text": [
            "`summarise()` has grouped output by 'County'. You can override using the `.groups` argument.\n",
            "\n"
          ]
        }
      ]
    }
  ]
}