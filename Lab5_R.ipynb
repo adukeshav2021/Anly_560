{
  "nbformat": 4,
  "nbformat_minor": 0,
  "metadata": {
    "colab": {
      "name": "Lab5-R.ipynb",
      "provenance": [],
      "collapsed_sections": [],
      "authorship_tag": "ABX9TyO070oQhH7RqKGexkkJu+Fb",
      "include_colab_link": true
    },
    "kernelspec": {
      "name": "ir",
      "display_name": "R"
    },
    "language_info": {
      "name": "R"
    }
  },
  "cells": [
    {
      "cell_type": "markdown",
      "metadata": {
        "id": "view-in-github",
        "colab_type": "text"
      },
      "source": [
        "<a href=\"https://colab.research.google.com/github/adukeshav2021/Anly_560/blob/main/Lab5_R.ipynb\" target=\"_parent\"><img src=\"https://colab.research.google.com/assets/colab-badge.svg\" alt=\"Open In Colab\"/></a>"
      ]
    },
    {
      "cell_type": "code",
      "execution_count": 1,
      "metadata": {
        "colab": {
          "base_uri": "https://localhost:8080/"
        },
        "id": "2KOVhQiQ-c8P",
        "outputId": "db5987ae-7332-434a-a66e-193f1a306ecb"
      },
      "outputs": [
        {
          "output_type": "stream",
          "name": "stderr",
          "text": [
            "\n",
            "Attaching package: ‘dplyr’\n",
            "\n",
            "\n",
            "The following objects are masked from ‘package:stats’:\n",
            "\n",
            "    filter, lag\n",
            "\n",
            "\n",
            "The following objects are masked from ‘package:base’:\n",
            "\n",
            "    intersect, setdiff, setequal, union\n",
            "\n",
            "\n"
          ]
        }
      ],
      "source": [
        "library(dplyr)\n",
        "library(stringr)"
      ]
    },
    {
      "cell_type": "code",
      "source": [
        "text <- \"42 COMMERCE\"\n",
        "str_split(text,' ',simplify = T)[1]"
      ],
      "metadata": {
        "id": "Xqsf3JSJ-uzw"
      },
      "execution_count": null,
      "outputs": []
    },
    {
      "cell_type": "code",
      "source": [
        "text <- \"42 COMMERCE\"\n",
        "pattern <- \"\\\\d{2}\"\n",
        "r1 <- regex(pattern)\n",
        "str_extract(text, r1)"
      ],
      "metadata": {
        "id": "V9Wi7WNd_HjE"
      },
      "execution_count": null,
      "outputs": []
    },
    {
      "cell_type": "code",
      "source": [
        "text <-  \"PROF SRV  SEWERS 0604P\"\n",
        "pattern <- \"\\\\d{4}$|\\\\d{4}[A-Z]$\"\n",
        "r1 <- regex(pattern)\n",
        "str_extract(text, r1)"
      ],
      "metadata": {
        "id": "o0obGkly_dgj"
      },
      "execution_count": null,
      "outputs": []
    },
    {
      "cell_type": "code",
      "source": [
        "data <- c('a123','b b','c 123')\n",
        "data"
      ],
      "metadata": {
        "colab": {
          "base_uri": "https://localhost:8080/",
          "height": 34
        },
        "id": "qxv0NkAF_tvS",
        "outputId": "5847e301-7a9e-460a-b57a-9f90705e1376"
      },
      "execution_count": 10,
      "outputs": [
        {
          "output_type": "display_data",
          "data": {
            "text/plain": [
              "[1] \"a123\"  \"b b\"   \"c 123\""
            ],
            "text/latex": "\\begin{enumerate*}\n\\item 'a123'\n\\item 'b b'\n\\item 'c 123'\n\\end{enumerate*}\n",
            "text/markdown": "1. 'a123'\n2. 'b b'\n3. 'c 123'\n\n\n",
            "text/html": [
              "<style>\n",
              ".list-inline {list-style: none; margin:0; padding: 0}\n",
              ".list-inline>li {display: inline-block}\n",
              ".list-inline>li:not(:last-child)::after {content: \"\\00b7\"; padding: 0 .5ex}\n",
              "</style>\n",
              "<ol class=list-inline><li>'a123'</li><li>'b b'</li><li>'c 123'</li></ol>\n"
            ]
          },
          "metadata": {}
        }
      ]
    },
    {
      "cell_type": "code",
      "source": [
        "pattern = \"(\\\\w)\\\\s(\\\\S+)\"\n",
        "r1 <- regex(pattern)\n",
        "str_extract(data, r1)"
      ],
      "metadata": {
        "colab": {
          "base_uri": "https://localhost:8080/",
          "height": 34
        },
        "id": "4RG_klh3_5fy",
        "outputId": "127d36c6-9c71-4f37-e095-6a343b6af1bd"
      },
      "execution_count": 11,
      "outputs": [
        {
          "output_type": "display_data",
          "data": {
            "text/plain": [
              "[1] NA      \"b b\"   \"c 123\""
            ],
            "text/latex": "\\begin{enumerate*}\n\\item NA\n\\item 'b b'\n\\item 'c 123'\n\\end{enumerate*}\n",
            "text/markdown": "1. NA\n2. 'b b'\n3. 'c 123'\n\n\n",
            "text/html": [
              "<style>\n",
              ".list-inline {list-style: none; margin:0; padding: 0}\n",
              ".list-inline>li {display: inline-block}\n",
              ".list-inline>li:not(:last-child)::after {content: \"\\00b7\"; padding: 0 .5ex}\n",
              "</style>\n",
              "<ol class=list-inline><li>NA</li><li>'b b'</li><li>'c 123'</li></ol>\n"
            ]
          },
          "metadata": {}
        }
      ]
    },
    {
      "cell_type": "code",
      "source": [
        "pattern = \"(\\\\w)\\\\s(\\\\S+)\"\n",
        "r1 <- regex(pattern)\n",
        "str_match(data, r1)"
      ],
      "metadata": {
        "colab": {
          "base_uri": "https://localhost:8080/",
          "height": 146
        },
        "id": "6R-9vNwVAOM4",
        "outputId": "b06c3e27-bf7a-417e-ba31-5a295555d863"
      },
      "execution_count": 12,
      "outputs": [
        {
          "output_type": "display_data",
          "data": {
            "text/plain": [
              "     [,1]  [,2] [,3]\n",
              "[1,] NA    NA   NA  \n",
              "[2,] b b   b    b   \n",
              "[3,] c 123 c    123 "
            ],
            "text/latex": "A matrix: 3 × 3 of type chr\n\\begin{tabular}{lll}\n\t NA    & NA & NA \\\\\n\t b b   & b  & b  \\\\\n\t c 123 & c  & 123\\\\\n\\end{tabular}\n",
            "text/markdown": "\nA matrix: 3 × 3 of type chr\n\n| NA    | NA | NA  |\n| b b   | b  | b   |\n| c 123 | c  | 123 |\n\n",
            "text/html": [
              "<table class=\"dataframe\">\n",
              "<caption>A matrix: 3 × 3 of type chr</caption>\n",
              "<tbody>\n",
              "\t<tr><td>NA   </td><td>NA</td><td>NA </td></tr>\n",
              "\t<tr><td>b b  </td><td>b </td><td>b  </td></tr>\n",
              "\t<tr><td>c 123</td><td>c </td><td>123</td></tr>\n",
              "</tbody>\n",
              "</table>\n"
            ]
          },
          "metadata": {}
        }
      ]
    },
    {
      "cell_type": "code",
      "source": [
        "data <- read.csv('/content/lab5.csv')\n",
        "head(data)"
      ],
      "metadata": {
        "colab": {
          "base_uri": "https://localhost:8080/",
          "height": 480
        },
        "id": "d1EMyCESA0TI",
        "outputId": "bd360e61-74fd-42f3-a295-eda3ab60bfca"
      },
      "execution_count": 15,
      "outputs": [
        {
          "output_type": "display_data",
          "data": {
            "text/plain": [
              "  check_date document_no  department_title          character_title          \n",
              "1 4/12/2017  CHEK17119771 42 COMMERCE               02 PURCHASE OF SERVICES  \n",
              "2 6/9/2017   ACHD17177233 26 LICENSES & INSPECTIONS 02 PURCHASE OF SERVICES  \n",
              "3 11/25/2016 CHEK17063736 44 LAW                    02 PURCHASE OF SERVICES  \n",
              "4 7/7/2016   CHEK17000247 11 POLICE                 02 PURCHASE OF SERVICES  \n",
              "5 7/8/2016   ACHD17000233 23 PRISONS                03 MATERIALS AND SUPPLIES\n",
              "6 7/8/2016   ACHD17000235 23 PRISONS                03 MATERIALS AND SUPPLIES\n",
              "  sub_obj_title                       vendor_name                 \n",
              "1 OVERTIME MEALS 0231                 EAT AT JOE'S                \n",
              "2 TRANSPORTATION 0211                 L & I Â TRAVEL IMPREST FUND \n",
              "3 COURT REPORTERS 0258                MARLENE BELL REPORTING, INC.\n",
              "4 REPAIR AND MAINTENANCE CHARGES 0260 RICOH AMERICAS CORPORATION  \n",
              "5 FOOD 0313                           PHILADELPHIA PRISONS        \n",
              "6 FOOD 0313                           PHILADELPHIA PRISONS        \n",
              "  doc_ref_no_prefix_definition transaction_amount\n",
              "1 payment voucher               66.82            \n",
              "2 payment voucher              127.33            \n",
              "3 payment voucher              454.20            \n",
              "4 procurement                   50.00            \n",
              "5 petty cash                    71.92            \n",
              "6 petty cash                   109.61            "
            ],
            "text/latex": "A data.frame: 6 × 8\n\\begin{tabular}{r|llllllll}\n  & check\\_date & document\\_no & department\\_title & character\\_title & sub\\_obj\\_title & vendor\\_name & doc\\_ref\\_no\\_prefix\\_definition & transaction\\_amount\\\\\n  & <chr> & <chr> & <chr> & <chr> & <chr> & <chr> & <chr> & <dbl>\\\\\n\\hline\n\t1 & 4/12/2017  & CHEK17119771 & 42 COMMERCE               & 02 PURCHASE OF SERVICES   & OVERTIME MEALS 0231                 & EAT AT JOE'S                 & payment voucher &  66.82\\\\\n\t2 & 6/9/2017   & ACHD17177233 & 26 LICENSES \\& INSPECTIONS & 02 PURCHASE OF SERVICES   & TRANSPORTATION 0211                 & L \\& I Â TRAVEL IMPREST FUND  & payment voucher & 127.33\\\\\n\t3 & 11/25/2016 & CHEK17063736 & 44 LAW                    & 02 PURCHASE OF SERVICES   & COURT REPORTERS 0258                & MARLENE BELL REPORTING, INC. & payment voucher & 454.20\\\\\n\t4 & 7/7/2016   & CHEK17000247 & 11 POLICE                 & 02 PURCHASE OF SERVICES   & REPAIR AND MAINTENANCE CHARGES 0260 & RICOH AMERICAS CORPORATION   & procurement     &  50.00\\\\\n\t5 & 7/8/2016   & ACHD17000233 & 23 PRISONS                & 03 MATERIALS AND SUPPLIES & FOOD 0313                           & PHILADELPHIA PRISONS         & petty cash      &  71.92\\\\\n\t6 & 7/8/2016   & ACHD17000235 & 23 PRISONS                & 03 MATERIALS AND SUPPLIES & FOOD 0313                           & PHILADELPHIA PRISONS         & petty cash      & 109.61\\\\\n\\end{tabular}\n",
            "text/markdown": "\nA data.frame: 6 × 8\n\n| <!--/--> | check_date &lt;chr&gt; | document_no &lt;chr&gt; | department_title &lt;chr&gt; | character_title &lt;chr&gt; | sub_obj_title &lt;chr&gt; | vendor_name &lt;chr&gt; | doc_ref_no_prefix_definition &lt;chr&gt; | transaction_amount &lt;dbl&gt; |\n|---|---|---|---|---|---|---|---|---|\n| 1 | 4/12/2017  | CHEK17119771 | 42 COMMERCE               | 02 PURCHASE OF SERVICES   | OVERTIME MEALS 0231                 | EAT AT JOE'S                 | payment voucher |  66.82 |\n| 2 | 6/9/2017   | ACHD17177233 | 26 LICENSES &amp; INSPECTIONS | 02 PURCHASE OF SERVICES   | TRANSPORTATION 0211                 | L &amp; I Â TRAVEL IMPREST FUND  | payment voucher | 127.33 |\n| 3 | 11/25/2016 | CHEK17063736 | 44 LAW                    | 02 PURCHASE OF SERVICES   | COURT REPORTERS 0258                | MARLENE BELL REPORTING, INC. | payment voucher | 454.20 |\n| 4 | 7/7/2016   | CHEK17000247 | 11 POLICE                 | 02 PURCHASE OF SERVICES   | REPAIR AND MAINTENANCE CHARGES 0260 | RICOH AMERICAS CORPORATION   | procurement     |  50.00 |\n| 5 | 7/8/2016   | ACHD17000233 | 23 PRISONS                | 03 MATERIALS AND SUPPLIES | FOOD 0313                           | PHILADELPHIA PRISONS         | petty cash      |  71.92 |\n| 6 | 7/8/2016   | ACHD17000235 | 23 PRISONS                | 03 MATERIALS AND SUPPLIES | FOOD 0313                           | PHILADELPHIA PRISONS         | petty cash      | 109.61 |\n\n",
            "text/html": [
              "<table class=\"dataframe\">\n",
              "<caption>A data.frame: 6 × 8</caption>\n",
              "<thead>\n",
              "\t<tr><th></th><th scope=col>check_date</th><th scope=col>document_no</th><th scope=col>department_title</th><th scope=col>character_title</th><th scope=col>sub_obj_title</th><th scope=col>vendor_name</th><th scope=col>doc_ref_no_prefix_definition</th><th scope=col>transaction_amount</th></tr>\n",
              "\t<tr><th></th><th scope=col>&lt;chr&gt;</th><th scope=col>&lt;chr&gt;</th><th scope=col>&lt;chr&gt;</th><th scope=col>&lt;chr&gt;</th><th scope=col>&lt;chr&gt;</th><th scope=col>&lt;chr&gt;</th><th scope=col>&lt;chr&gt;</th><th scope=col>&lt;dbl&gt;</th></tr>\n",
              "</thead>\n",
              "<tbody>\n",
              "\t<tr><th scope=row>1</th><td>4/12/2017 </td><td>CHEK17119771</td><td>42 COMMERCE              </td><td>02 PURCHASE OF SERVICES  </td><td>OVERTIME MEALS 0231                </td><td>EAT AT JOE'S                </td><td>payment voucher</td><td> 66.82</td></tr>\n",
              "\t<tr><th scope=row>2</th><td><span style=white-space:pre-wrap>6/9/2017  </span></td><td>ACHD17177233</td><td>26 LICENSES &amp; INSPECTIONS</td><td><span style=white-space:pre-wrap>02 PURCHASE OF SERVICES  </span></td><td><span style=white-space:pre-wrap>TRANSPORTATION 0211                </span></td><td>L &amp; I Â TRAVEL IMPREST FUND </td><td>payment voucher</td><td>127.33</td></tr>\n",
              "\t<tr><th scope=row>3</th><td>11/25/2016</td><td>CHEK17063736</td><td>44 LAW                   </td><td>02 PURCHASE OF SERVICES  </td><td>COURT REPORTERS 0258               </td><td>MARLENE BELL REPORTING, INC.</td><td>payment voucher</td><td>454.20</td></tr>\n",
              "\t<tr><th scope=row>4</th><td>7/7/2016  </td><td>CHEK17000247</td><td>11 POLICE                </td><td>02 PURCHASE OF SERVICES  </td><td>REPAIR AND MAINTENANCE CHARGES 0260</td><td>RICOH AMERICAS CORPORATION  </td><td>procurement    </td><td> 50.00</td></tr>\n",
              "\t<tr><th scope=row>5</th><td>7/8/2016  </td><td>ACHD17000233</td><td>23 PRISONS               </td><td>03 MATERIALS AND SUPPLIES</td><td>FOOD 0313                          </td><td>PHILADELPHIA PRISONS        </td><td>petty cash     </td><td> 71.92</td></tr>\n",
              "\t<tr><th scope=row>6</th><td>7/8/2016  </td><td>ACHD17000235</td><td>23 PRISONS               </td><td>03 MATERIALS AND SUPPLIES</td><td>FOOD 0313                          </td><td>PHILADELPHIA PRISONS        </td><td>petty cash     </td><td>109.61</td></tr>\n",
              "</tbody>\n",
              "</table>\n"
            ]
          },
          "metadata": {}
        }
      ]
    },
    {
      "cell_type": "code",
      "source": [
        "pattern = \"(\\\\d{2})\\\\s([\\\\s\\\\S]+)\"\n",
        "r1 <- regex(pattern)\n",
        "matches <- str_match(data$character_title, r1)\n",
        "data$character_no <- as.integer(matches[,2])\n",
        "data$character_title <- matches[,3]"
      ],
      "metadata": {
        "id": "LUUzljJrBLme"
      },
      "execution_count": 16,
      "outputs": []
    },
    {
      "cell_type": "code",
      "source": [
        "head(data)"
      ],
      "metadata": {
        "id": "xyVERM5-B2Wh"
      },
      "execution_count": null,
      "outputs": []
    }
  ]
}