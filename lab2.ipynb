{
  "nbformat": 4,
  "nbformat_minor": 0,
  "metadata": {
    "colab": {
      "name": "lab2.ipynb",
      "provenance": [],
      "collapsed_sections": []
    },
    "kernelspec": {
      "name": "python3",
      "display_name": "Python 3"
    },
    "language_info": {
      "name": "python"
    }
  },
  "cells": [
    {
      "cell_type": "code",
      "metadata": {
        "colab": {
          "base_uri": "https://localhost:8080/"
        },
        "id": "HC5W0WUx0qhR",
        "outputId": "be415351-d600-40e4-da0e-05364ea43e73"
      },
      "source": [
        "pip uninstall -y enum34"
      ],
      "execution_count": 17,
      "outputs": [
        {
          "output_type": "stream",
          "name": "stdout",
          "text": [
            "\u001b[33mWARNING: Skipping enum34 as it is not installed.\u001b[0m\n"
          ]
        }
      ]
    },
    {
      "cell_type": "code",
      "metadata": {
        "id": "gQUmoj0P02dc"
      },
      "source": [
        "pip install scikit-learn-extra"
      ],
      "execution_count": null,
      "outputs": []
    },
    {
      "cell_type": "code",
      "metadata": {
        "id": "9CEMaC424uqL"
      },
      "source": [
        "from sklearn_extra.cluster import KMedoids\n",
        "import pandas as pd"
      ],
      "execution_count": 34,
      "outputs": []
    },
    {
      "cell_type": "code",
      "metadata": {
        "id": "7_2-vzoarrTq"
      },
      "source": [
        "dataPath = '/content/drive/MyDrive/ANLY560/hw2.csv'"
      ],
      "execution_count": 35,
      "outputs": []
    },
    {
      "cell_type": "code",
      "metadata": {
        "id": "fFgbW5qer3Xj"
      },
      "source": [
        "def my_pam_Python(dataPath,cl_size):\n",
        "  data = pd.read_csv(dataPath)\n",
        "  kmed = KMedoids(n_clusters=cl_size,random_state = 0).fit(data.values.tolist())\n",
        "  kmed.labels_\n",
        "  if cl_size == 2:\n",
        "    data['cluster_size_2'] = kmed.labels_\n",
        "    kmed = KMedoids( n_clusters=2,random_state=0).fit(data.values.tolist())\n",
        "    data.to_csv('/content/drive/MyDrive/ANLY560/hw2.results_2.csv',index=False)\n",
        "  elif cl_size == 4:\n",
        "    data['cluster_size_4'] = kmed.labels_\n",
        "    kmed = KMedoids( n_clusters=4,random_state=0).fit(data.values.tolist())\n",
        "    data.to_csv('/content/drive/MyDrive/ANLY560/hw2.results_4.csv',index=False)\n",
        "  \n",
        "\n",
        "\n",
        "\n"
      ],
      "execution_count": 57,
      "outputs": []
    },
    {
      "cell_type": "code",
      "metadata": {
        "id": "uE4yKUqo_6F5"
      },
      "source": [
        "my_pam_Python(dataPath,4)"
      ],
      "execution_count": 58,
      "outputs": []
    },
    {
      "cell_type": "code",
      "metadata": {
        "id": "ZZ1HjBZsAW9S"
      },
      "source": [
        "my_pam_Python(dataPath,2)"
      ],
      "execution_count": 60,
      "outputs": []
    }
  ]
}