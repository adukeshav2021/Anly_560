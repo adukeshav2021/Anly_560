{
  "nbformat": 4,
  "nbformat_minor": 0,
  "metadata": {
    "colab": {
      "name": "ExamSolution2.ipynb",
      "provenance": [],
      "collapsed_sections": [],
      "authorship_tag": "ABX9TyM6eeuhIR08pRFelMHDrDIv",
      "include_colab_link": true
    },
    "kernelspec": {
      "name": "ir",
      "display_name": "R"
    },
    "language_info": {
      "name": "R"
    }
  },
  "cells": [
    {
      "cell_type": "markdown",
      "metadata": {
        "id": "view-in-github",
        "colab_type": "text"
      },
      "source": [
        "<a href=\"https://colab.research.google.com/github/adukeshav2021/Anly_560/blob/main/ExamSolution2.ipynb\" target=\"_parent\"><img src=\"https://colab.research.google.com/assets/colab-badge.svg\" alt=\"Open In Colab\"/></a>"
      ]
    },
    {
      "cell_type": "code",
      "execution_count": null,
      "metadata": {
        "id": "q4G8Ku0pvbW1"
      },
      "outputs": [],
      "source": [
        "library(dplyr)"
      ]
    },
    {
      "cell_type": "code",
      "source": [
        "raw_data <- read.csv('/content/wages.csv')"
      ],
      "metadata": {
        "id": "0211PWf15_UT"
      },
      "execution_count": 2,
      "outputs": []
    },
    {
      "cell_type": "code",
      "source": [
        "data <- raw_data\n",
        "\n",
        "data <-\n",
        "  data %>%\n",
        "  select(\n",
        "    County = Area.Name,\n",
        "    Sector = NAICS.Title,\n",
        "    Wages = Weekly.Wages,\n",
        "    Employment)"
      ],
      "metadata": {
        "id": "2w7D6ywL6HC4"
      },
      "execution_count": 6,
      "outputs": []
    },
    {
      "cell_type": "code",
      "source": [
        "head(data)"
      ],
      "metadata": {
        "colab": {
          "base_uri": "https://localhost:8080/",
          "height": 286
        },
        "id": "oFlofkNb6KsC",
        "outputId": "332c5135-c049-4c93-fc3b-35a62a88ebd6"
      },
      "execution_count": 7,
      "outputs": [
        {
          "output_type": "display_data",
          "data": {
            "text/plain": [
              "  County                Sector                             Wages Employment\n",
              "1 Greene County         Educational Services                NA     NA      \n",
              "2 McKean County         Finance and Insurance              795    276      \n",
              "3 Armstrong County      Wholesale Trade                    949    399      \n",
              "4 Warren County         Public Administration              861    587      \n",
              "5 Northumberland County Retail Trade                       502   2794      \n",
              "6 Lebanon County        Real Estate and Rental and Leasing 652    324      "
            ],
            "text/latex": "A data.frame: 6 × 4\n\\begin{tabular}{r|llll}\n  & County & Sector & Wages & Employment\\\\\n  & <chr> & <chr> & <int> & <int>\\\\\n\\hline\n\t1 & Greene County         & Educational Services               &  NA &   NA\\\\\n\t2 & McKean County         & Finance and Insurance              & 795 &  276\\\\\n\t3 & Armstrong County      & Wholesale Trade                    & 949 &  399\\\\\n\t4 & Warren County         & Public Administration              & 861 &  587\\\\\n\t5 & Northumberland County & Retail Trade                       & 502 & 2794\\\\\n\t6 & Lebanon County        & Real Estate and Rental and Leasing & 652 &  324\\\\\n\\end{tabular}\n",
            "text/markdown": "\nA data.frame: 6 × 4\n\n| <!--/--> | County &lt;chr&gt; | Sector &lt;chr&gt; | Wages &lt;int&gt; | Employment &lt;int&gt; |\n|---|---|---|---|---|\n| 1 | Greene County         | Educational Services               |  NA |   NA |\n| 2 | McKean County         | Finance and Insurance              | 795 |  276 |\n| 3 | Armstrong County      | Wholesale Trade                    | 949 |  399 |\n| 4 | Warren County         | Public Administration              | 861 |  587 |\n| 5 | Northumberland County | Retail Trade                       | 502 | 2794 |\n| 6 | Lebanon County        | Real Estate and Rental and Leasing | 652 |  324 |\n\n",
            "text/html": [
              "<table class=\"dataframe\">\n",
              "<caption>A data.frame: 6 × 4</caption>\n",
              "<thead>\n",
              "\t<tr><th></th><th scope=col>County</th><th scope=col>Sector</th><th scope=col>Wages</th><th scope=col>Employment</th></tr>\n",
              "\t<tr><th></th><th scope=col>&lt;chr&gt;</th><th scope=col>&lt;chr&gt;</th><th scope=col>&lt;int&gt;</th><th scope=col>&lt;int&gt;</th></tr>\n",
              "</thead>\n",
              "<tbody>\n",
              "\t<tr><th scope=row>1</th><td>Greene County        </td><td>Educational Services              </td><td> NA</td><td>  NA</td></tr>\n",
              "\t<tr><th scope=row>2</th><td>McKean County        </td><td>Finance and Insurance             </td><td>795</td><td> 276</td></tr>\n",
              "\t<tr><th scope=row>3</th><td>Armstrong County     </td><td>Wholesale Trade                   </td><td>949</td><td> 399</td></tr>\n",
              "\t<tr><th scope=row>4</th><td>Warren County        </td><td>Public Administration             </td><td>861</td><td> 587</td></tr>\n",
              "\t<tr><th scope=row>5</th><td>Northumberland County</td><td>Retail Trade                      </td><td>502</td><td>2794</td></tr>\n",
              "\t<tr><th scope=row>6</th><td>Lebanon County       </td><td>Real Estate and Rental and Leasing</td><td>652</td><td> 324</td></tr>\n",
              "</tbody>\n",
              "</table>\n"
            ]
          },
          "metadata": {}
        }
      ]
    },
    {
      "cell_type": "code",
      "source": [
        "t1 <- xtabs(~data$County)\n",
        "#length(t1)\n",
        "#unique(names(t1))\n",
        "\n",
        "t0 <-\n",
        "  data%>%\n",
        "  filter(County != 'Pennsylvania')\n",
        "t1<-\n",
        "  t0%>%\n",
        "    filter(Sector == 'Total, All Industries') %>%\n",
        "    arrange(-Wages)\n",
        " #   t1[1,]\n",
        "\n",
        "t2<-\n",
        "t0 %>%\n",
        "  filter(Sector == 'Total, All Industries') %>%\n",
        "  filter(!is.na(Wages)) %>%\n",
        "  filter(!is.na(Employment)) %>%\n",
        "  #filter(County == 'Greene County') %>%\n",
        "  mutate(CS_Gross = Wages*Employment) %>%\n",
        "  group_by(County) %>%\n",
        "  summarize(Gross = sum(CS_Gross)/sum(Employment)) %>%\n",
        "  arrange(-Gross)\n",
        "t2[1,]\n"
      ],
      "metadata": {
        "colab": {
          "base_uri": "https://localhost:8080/",
          "height": 129
        },
        "id": "IO5i0VJy6Oh0",
        "outputId": "03d225a0-8bdb-4fc6-b12b-d034547aa6b0"
      },
      "execution_count": 26,
      "outputs": [
        {
          "output_type": "display_data",
          "data": {
            "text/plain": [
              "  County         Gross\n",
              "1 Chester County 1366 "
            ],
            "text/latex": "A tibble: 1 × 2\n\\begin{tabular}{ll}\n County & Gross\\\\\n <chr> & <dbl>\\\\\n\\hline\n\t Chester County & 1366\\\\\n\\end{tabular}\n",
            "text/markdown": "\nA tibble: 1 × 2\n\n| County &lt;chr&gt; | Gross &lt;dbl&gt; |\n|---|---|\n| Chester County | 1366 |\n\n",
            "text/html": [
              "<table class=\"dataframe\">\n",
              "<caption>A tibble: 1 × 2</caption>\n",
              "<thead>\n",
              "\t<tr><th scope=col>County</th><th scope=col>Gross</th></tr>\n",
              "\t<tr><th scope=col>&lt;chr&gt;</th><th scope=col>&lt;dbl&gt;</th></tr>\n",
              "</thead>\n",
              "<tbody>\n",
              "\t<tr><td>Chester County</td><td>1366</td></tr>\n",
              "</tbody>\n",
              "</table>\n"
            ]
          },
          "metadata": {}
        }
      ]
    },
    {
      "cell_type": "code",
      "source": [
        "t0<-\n",
        "  data %>%\n",
        "    filter(Sector == 'Total, All Industries')\n",
        "\n",
        "t1<-\n",
        "  t0 %>%\n",
        "  filter(County != 'Pennsylvania') %>%\n",
        "  arrange(-Wages)\n",
        "\n",
        "\n",
        " t2<-\n",
        "  t0 %>%\n",
        "   filter(County != 'Pennsylvania') %>%\n",
        "   filter(!is.na(Wages)) %>%\n",
        "   filter(!is.na(Employment)) %>%\n",
        "   mutate(CS_Gross = Wages*Employment) %>%\n",
        "   group_by(County) %>%\n",
        "   summarize(Gross = sum(CS_Gross)/sum(Employment)) %>%\n",
        "   arrange(-Gross)\n",
        "   t2[1,]"
      ],
      "metadata": {
        "colab": {
          "base_uri": "https://localhost:8080/",
          "height": 129
        },
        "id": "CkGeoUF_6y4f",
        "outputId": "6d29b469-4a9f-4dbf-f588-29d8fffd256c"
      },
      "execution_count": 30,
      "outputs": [
        {
          "output_type": "display_data",
          "data": {
            "text/plain": [
              "  County         Gross\n",
              "1 Chester County 1366 "
            ],
            "text/latex": "A tibble: 1 × 2\n\\begin{tabular}{ll}\n County & Gross\\\\\n <chr> & <dbl>\\\\\n\\hline\n\t Chester County & 1366\\\\\n\\end{tabular}\n",
            "text/markdown": "\nA tibble: 1 × 2\n\n| County &lt;chr&gt; | Gross &lt;dbl&gt; |\n|---|---|\n| Chester County | 1366 |\n\n",
            "text/html": [
              "<table class=\"dataframe\">\n",
              "<caption>A tibble: 1 × 2</caption>\n",
              "<thead>\n",
              "\t<tr><th scope=col>County</th><th scope=col>Gross</th></tr>\n",
              "\t<tr><th scope=col>&lt;chr&gt;</th><th scope=col>&lt;dbl&gt;</th></tr>\n",
              "</thead>\n",
              "<tbody>\n",
              "\t<tr><td>Chester County</td><td>1366</td></tr>\n",
              "</tbody>\n",
              "</table>\n"
            ]
          },
          "metadata": {}
        }
      ]
    },
    {
      "cell_type": "code",
      "source": [
        "t1<-\n",
        "data %>%\n",
        "  filter(County != 'Pennsylvania') %>%\n",
        "  filter(Sector != 'Total, All Industries') %>%\n",
        "   filter(!is.na(Wages)) %>%\n",
        "   filter(!is.na(Employment)) %>%\n",
        "   group_by(County) %>%\n",
        "   mutate(rank = row_number(-Employment)) %>%\n",
        "   filter(rank==1) %>% \n",
        "   select(County,Sector) %>%\n",
        "   arrange(County)\n",
        "\n",
        "\n",
        "   write.csv(t1,'wages.results.csv',row.names=F)"
      ],
      "metadata": {
        "id": "nGalr0M-_unt"
      },
      "execution_count": 33,
      "outputs": []
    }
  ]
}