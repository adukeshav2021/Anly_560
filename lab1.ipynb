{
  "nbformat": 4,
  "nbformat_minor": 0,
  "metadata": {
    "colab": {
      "name": "lab1.ipynb",
      "provenance": [],
      "collapsed_sections": [],
      "authorship_tag": "ABX9TyNKkuM+tenrTqKcohh9o1Yk",
      "include_colab_link": true
    },
    "kernelspec": {
      "name": "python3",
      "display_name": "Python 3"
    },
    "language_info": {
      "name": "python"
    }
  },
  "cells": [
    {
      "cell_type": "markdown",
      "metadata": {
        "id": "view-in-github",
        "colab_type": "text"
      },
      "source": [
        "<a href=\"https://colab.research.google.com/github/adukeshav2021/Anly_560/blob/main/lab1.ipynb\" target=\"_parent\"><img src=\"https://colab.research.google.com/assets/colab-badge.svg\" alt=\"Open In Colab\"/></a>"
      ]
    },
    {
      "cell_type": "code",
      "metadata": {
        "id": "KMb3YuEcal9t"
      },
      "source": [
        "import numpy as np"
      ],
      "execution_count": null,
      "outputs": []
    },
    {
      "cell_type": "code",
      "metadata": {
        "id": "bgz0792289Cw"
      },
      "source": [
        " def chisq(data):\n",
        "    #get rows n columns\n",
        "    row_count = len(data)\n",
        "    col_count = len(data[0])\n",
        "\n",
        "    # convert to np table\n",
        "    data_table = np.array(data)\n",
        "\n",
        "    data_table_sum = sum(sum(data_table))\n",
        "\n",
        "    row_sums = []\n",
        "    col_sums = []\n",
        "\n",
        "    # get sums of each row and each column, these are used to calc the expected values\n",
        "    for row in data_table:\n",
        "        row_sums.append(sum(row))\n",
        "  \n",
        "\n",
        "    for col in data_table.T:\n",
        "        col_sums.append(sum(col))\n",
        "\n",
        "\n",
        "    expected_values = []\n",
        "\n",
        "    # Find expected values for each cell in the table\n",
        "    for i in range(row_count):\n",
        "        _row = []\n",
        "        for j in range(col_count):\n",
        "            _row.append(row_sums[i] * col_sums[j] / data_table_sum)\n",
        "        expected_values.append(_row)\n",
        "\n",
        "    # calculate the Chi Squared test\n",
        "    chi_squared = 0\n",
        "    for row in range(row_count):\n",
        "        for col in range(col_count):\n",
        "            chi_squared += (data_table[row][col] - expected_values[row][col]) ** 2 / expected_values[row][col]\n",
        "    print(round(chi_squared,5))"
      ],
      "execution_count": null,
      "outputs": []
    },
    {
      "cell_type": "code",
      "metadata": {
        "id": "OokkkhF52Ld1",
        "colab": {
          "base_uri": "https://localhost:8080/"
        },
        "outputId": "14abe0aa-f48e-4768-d4af-e3492e0e6a3c"
      },
      "source": [
        "a = [[2, 3], [2, 3]]\n",
        "b = [[0, 5, 10], [1, 2, 4]]\n",
        "c = [[90, 60, 104, 95], [90, 60, 104, 95], [30, 50, 51, 20], [30, 40, 45, 35]]\n",
        "\n",
        "data_set = [a, b, c]\n",
        "for i in data_set:\n",
        "    chisq(i)"
      ],
      "execution_count": null,
      "outputs": [
        {
          "output_type": "stream",
          "name": "stdout",
          "text": [
            "0.0\n",
            "2.2449\n",
            "31.29067\n"
          ]
        }
      ]
    }
  ]
}