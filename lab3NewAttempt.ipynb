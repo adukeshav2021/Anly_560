{
  "nbformat": 4,
  "nbformat_minor": 0,
  "metadata": {
    "colab": {
      "name": "lab3NewAttempt.ipynb",
      "provenance": [],
      "collapsed_sections": [],
      "mount_file_id": "153RFFJnlYL4Y9ThLLbnFuSTlujswvW0n",
      "authorship_tag": "ABX9TyNaRG2VNROmOo1RAOgnNF9o",
      "include_colab_link": true
    },
    "kernelspec": {
      "name": "python3",
      "display_name": "Python 3"
    },
    "language_info": {
      "name": "python"
    }
  },
  "cells": [
    {
      "cell_type": "markdown",
      "metadata": {
        "id": "view-in-github",
        "colab_type": "text"
      },
      "source": [
        "<a href=\"https://colab.research.google.com/github/adukeshav2021/Anly_560/blob/main/lab3NewAttempt.ipynb\" target=\"_parent\"><img src=\"https://colab.research.google.com/assets/colab-badge.svg\" alt=\"Open In Colab\"/></a>"
      ]
    },
    {
      "cell_type": "code",
      "metadata": {
        "id": "ghcF6x-MhUYM"
      },
      "source": [
        "%load_ext rpy2.ipython"
      ],
      "execution_count": null,
      "outputs": []
    },
    {
      "cell_type": "code",
      "metadata": {
        "id": "SSpdZyQghipF"
      },
      "source": [
        "%%R\n",
        "library(dplyr)\n",
        "library(lubridate)\n",
        "library(stringr)"
      ],
      "execution_count": null,
      "outputs": []
    },
    {
      "cell_type": "code",
      "metadata": {
        "id": "U4d_qIh_hmPH"
      },
      "source": [
        "%%R\n",
        "df <- read.csv('/content/drive/MyDrive/ANLY560/lab3.csv')"
      ],
      "execution_count": null,
      "outputs": []
    },
    {
      "cell_type": "code",
      "metadata": {
        "id": "UT1KGvdThsFm"
      },
      "source": [
        "%%R\n",
        "\n",
        "df2 <- \n",
        "  df %>%\n",
        "  select(\n",
        "      County = County.Name,\n",
        "      Party = Applicant.Party.Designation,\n",
        "      DoB = Date.of.Birth,\n",
        "      Type = Mail.Application.Type,\n",
        "      RequestDate = Application.Request.Date,\n",
        "      ApprovedDate = Application.Approved.Date,\n",
        "      MailedDate = Ballot.Mailed.Date,\n",
        "      ReturnedDate = Ballot.Returned.Date,\n",
        "      House = State.House.District,\n",
        "      Senate = State.Senate.District,\n",
        "      Congress = Congressional.District)\n",
        "  \n",
        "df2 <- \n",
        "  df2 %>%\n",
        "  mutate(DoB = mdy(DoB),\n",
        "         RequestDate = mdy(RequestDate),\n",
        "         ApprovedDate = mdy(ApprovedDate),\n",
        "         MailedDate = mdy(MailedDate),\n",
        "         ReturnedDate = mdy(ReturnedDate),\n",
        "         Age = (ymd('2020-11-03') - DoB)/dyears(1))"
      ],
      "execution_count": null,
      "outputs": []
    },
    {
      "cell_type": "code",
      "metadata": {
        "colab": {
          "base_uri": "https://localhost:8080/"
        },
        "id": "K6MjLCPCh3MA",
        "outputId": "a153f3d1-582d-474c-dc94-aa3fe9a92dc0"
      },
      "source": [
        "%%R\n",
        "indx <- is.na(df2$ReturnedDate)\n",
        "non_vote <- df2[indx,]\n",
        "normal <- df2[!indx,]\n",
        "weird <- df2[F,]\n",
        "print(nrow(df2) == nrow(non_vote) + nrow(normal) + nrow(weird))\n",
        "print(nrow(non_vote))\n",
        "print(nrow(normal))"
      ],
      "execution_count": null,
      "outputs": [
        {
          "output_type": "stream",
          "name": "stdout",
          "text": [
            "[1] TRUE\n",
            "[1] 360846\n",
            "[1] 1462302\n"
          ]
        }
      ]
    },
    {
      "cell_type": "code",
      "metadata": {
        "colab": {
          "base_uri": "https://localhost:8080/"
        },
        "id": "AavdFWt_h6Nz",
        "outputId": "d871de48-c85c-45fb-f801-e013628808a4"
      },
      "source": [
        "%%R\n",
        "\n",
        "indx <- str_trim(normal$Party) == ''\n",
        "weird <- rbind(weird, normal[indx,])\n",
        "normal <- normal[!indx,]\n",
        "indx <- is.na(normal$Party)\n",
        "weird <- rbind(weird, normal[indx,])\n",
        "normal <- normal[!indx,]\n",
        "\n",
        "indx <- str_trim(normal$Type) == ''\n",
        "weird <- rbind(weird, normal[indx,])\n",
        "normal <- normal[!indx,]\n",
        "indx <- is.na(normal$Type)\n",
        "weird <- rbind(weird, normal[indx,])\n",
        "normal <- normal[!indx,]\n",
        "\n",
        "indx <- str_trim(normal$House) == ''\n",
        "weird <- rbind(weird, normal[indx,])\n",
        "normal <- normal[!indx,]\n",
        "indx <- is.na(normal$House)\n",
        "weird <- rbind(weird, normal[indx,])\n",
        "normal <- normal[!indx,]\n",
        "\n",
        "indx <- str_trim(normal$Senate) == ''\n",
        "weird <- rbind(weird, normal[indx,])\n",
        "normal <- normal[!indx,]\n",
        "indx <- is.na(normal$Senate)\n",
        "weird <- rbind(weird, normal[indx,])\n",
        "normal <- normal[!indx,]\n",
        "\n",
        "indx <- str_trim(normal$Congress) == ''\n",
        "weird <- rbind(weird, normal[indx,])\n",
        "normal <- normal[!indx,]\n",
        "indx <- is.na(normal$Congress)\n",
        "weird <- rbind(weird, normal[indx,])\n",
        "normal <- normal[!indx,]\n",
        "\n",
        "indx <- str_trim(normal$County) == ''\n",
        "weird <- rbind(weird, normal[indx,])\n",
        "normal <- normal[!indx,]\n",
        "indx <- is.na(normal$County)\n",
        "weird <- rbind(weird, normal[indx,])\n",
        "normal <- normal[!indx,]\n",
        "\n",
        "indx <- is.na(normal$DoB)\n",
        "weird <- rbind(weird, normal[indx,])\n",
        "normal <- normal[!indx,]\n",
        "\n",
        "indx <- is.na(normal$RequestDate)\n",
        "weird <- rbind(weird, normal[indx,])\n",
        "normal <- normal[!indx,]\n",
        "indx <- is.na(normal$ApprovedDate)\n",
        "weird <- rbind(weird, normal[indx,])\n",
        "normal <- normal[!indx,]\n",
        "indx <- is.na(normal$MailedDate)\n",
        "weird <- rbind(weird, normal[indx,])\n",
        "normal <- normal[!indx,]\n",
        "indx <- is.na(normal$ReturnedDate)\n",
        "weird <- rbind(weird, normal[indx,])\n",
        "normal <- normal[!indx,]\n",
        "\n",
        "print(nrow(df2) == nrow(non_vote) + nrow(normal) + nrow(weird))\n",
        "print(nrow(normal))\n",
        "print(nrow(weird))"
      ],
      "execution_count": null,
      "outputs": [
        {
          "output_type": "stream",
          "name": "stdout",
          "text": [
            "[1] TRUE\n",
            "[1] 1461160\n",
            "[1] 1142\n"
          ]
        }
      ]
    },
    {
      "cell_type": "code",
      "metadata": {
        "colab": {
          "base_uri": "https://localhost:8080/"
        },
        "id": "D6atcZ-eijLt",
        "outputId": "24b5aa6a-623f-43f9-a9dc-0da11151eb56"
      },
      "source": [
        "%%R\n",
        "indx <- normal$Age < 18 | 118 <= normal$Age\n",
        "weird <- rbind(weird, normal[indx,])\n",
        "normal <- normal[!indx,]\n",
        "\n",
        "print(nrow(df2) == nrow(non_vote) + nrow(normal) + nrow(weird))\n",
        "print(nrow(non_vote))\n",
        "print(nrow(normal))\n",
        "print(nrow(weird))"
      ],
      "execution_count": null,
      "outputs": [
        {
          "output_type": "stream",
          "name": "stdout",
          "text": [
            "[1] TRUE\n",
            "[1] 360846\n",
            "[1] 1461073\n",
            "[1] 1229\n"
          ]
        }
      ]
    },
    {
      "cell_type": "code",
      "metadata": {
        "colab": {
          "base_uri": "https://localhost:8080/"
        },
        "id": "B7A_1vJEim9a",
        "outputId": "c0aa9b1a-99d1-4766-f29b-601229745258"
      },
      "source": [
        "%%R\n",
        "\n",
        "indx <- \n",
        "    normal$RequestDate <= normal$ApprovedDate & \n",
        "    normal$ApprovedDate <= normal$MailedDate & \n",
        "    normal$MailedDate <= normal$ReturnedDate \n",
        "\n",
        "\n",
        "weird <- rbind(weird, normal[!indx,])\n",
        "normal <- normal[indx,]\n",
        "\n",
        "print(nrow(df2) == nrow(non_vote) + nrow(normal) + nrow(weird))\n",
        "print(nrow(non_vote))\n",
        "print(nrow(normal))\n",
        "print(nrow(weird))"
      ],
      "execution_count": null,
      "outputs": [
        {
          "output_type": "stream",
          "name": "stdout",
          "text": [
            "[1] TRUE\n",
            "[1] 360846\n",
            "[1] 1460888\n",
            "[1] 1414\n"
          ]
        }
      ]
    },
    {
      "cell_type": "code",
      "metadata": {
        "id": "-6uEwymuruj-"
      },
      "source": [
        "%%R\n",
        "normal$label <- \"normal voter\""
      ],
      "execution_count": null,
      "outputs": []
    },
    {
      "cell_type": "code",
      "metadata": {
        "id": "CM_aT-dUx-nJ"
      },
      "source": [
        "%%R\n",
        "normal$row_number <- rownames(normal)"
      ],
      "execution_count": null,
      "outputs": []
    },
    {
      "cell_type": "code",
      "metadata": {
        "id": "PMk4XdXUu5J-"
      },
      "source": [
        "%%R\n",
        "non_vote$label = \"non voter\""
      ],
      "execution_count": null,
      "outputs": []
    },
    {
      "cell_type": "code",
      "metadata": {
        "id": "XPhkN-0J1rqX"
      },
      "source": [
        "%%R\n",
        "non_vote$row_number <- rownames(non_vote)\n"
      ],
      "execution_count": null,
      "outputs": []
    },
    {
      "cell_type": "code",
      "metadata": {
        "id": "db5-ZDTpvFGr"
      },
      "source": [
        "%%R\n",
        "weird$label = \"voting irregularity\""
      ],
      "execution_count": null,
      "outputs": []
    },
    {
      "cell_type": "code",
      "metadata": {
        "id": "uaIYPMK5z-Xi"
      },
      "source": [
        "%%R\n",
        "weird$row_number <- rownames(weird)"
      ],
      "execution_count": null,
      "outputs": []
    },
    {
      "cell_type": "code",
      "metadata": {
        "id": "NgP0a9I14Hwv"
      },
      "source": [
        "%%R\n",
        "result <-rbind(head(normal), head(non_vote), head(weird))"
      ],
      "execution_count": null,
      "outputs": []
    },
    {
      "cell_type": "code",
      "metadata": {
        "colab": {
          "base_uri": "https://localhost:8080/"
        },
        "id": "j-nBcVXC4UwR",
        "outputId": "cc77f2d4-db57-4cad-f613-13bcde614936"
      },
      "source": [
        "%%R\n",
        "result[,c(\"row_number\",\"label\")]"
      ],
      "execution_count": null,
      "outputs": [
        {
          "output_type": "stream",
          "name": "stdout",
          "text": [
            "      row_number               label\n",
            "1              1        normal voter\n",
            "2              2        normal voter\n",
            "6              6        normal voter\n",
            "7              7        normal voter\n",
            "8              8        normal voter\n",
            "9              9        normal voter\n",
            "3              3           non voter\n",
            "4              4           non voter\n",
            "5              5           non voter\n",
            "16            16           non voter\n",
            "19            19           non voter\n",
            "20            20           non voter\n",
            "1039        1039 voting irregularity\n",
            "12083      12083 voting irregularity\n",
            "30593      30593 voting irregularity\n",
            "34067      34067 voting irregularity\n",
            "72172      72172 voting irregularity\n",
            "78253      78253 voting irregularity\n"
          ]
        }
      ]
    },
    {
      "cell_type": "code",
      "metadata": {
        "id": "PzF1fxsurzbU"
      },
      "source": [
        "%%R\n",
        "write.csv(result[,c(\"row_number\",\"label\")], '/content/drive/MyDrive/ANLY560/results.csv')"
      ],
      "execution_count": null,
      "outputs": []
    }
  ]
}