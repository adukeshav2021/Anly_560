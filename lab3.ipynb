{
  "nbformat": 4,
  "nbformat_minor": 0,
  "metadata": {
    "colab": {
      "name": "lab3.ipynb",
      "provenance": [],
      "collapsed_sections": [],
      "mount_file_id": "138qSWD7B81CUbOB3w7adXsKNxz6j_ujy",
      "authorship_tag": "ABX9TyOkUWueRM67/Z1wu/cXjTfc",
      "include_colab_link": true
    },
    "kernelspec": {
      "name": "python3",
      "display_name": "Python 3"
    },
    "language_info": {
      "name": "python"
    }
  },
  "cells": [
    {
      "cell_type": "markdown",
      "metadata": {
        "id": "view-in-github",
        "colab_type": "text"
      },
      "source": [
        "<a href=\"https://colab.research.google.com/github/adukeshav2021/Anly_560/blob/main/lab3.ipynb\" target=\"_parent\"><img src=\"https://colab.research.google.com/assets/colab-badge.svg\" alt=\"Open In Colab\"/></a>"
      ]
    },
    {
      "cell_type": "code",
      "metadata": {
        "id": "fZ90FFEDGM3Y"
      },
      "source": [
        "import pandas as pd\n",
        "import datetime as dt\n",
        "import dateutil as dtu\n",
        "import numpy as np\n",
        "\n"
      ],
      "execution_count": null,
      "outputs": []
    },
    {
      "cell_type": "code",
      "metadata": {
        "id": "xTYOUHTqGeLc"
      },
      "source": [
        "\n",
        "df = pd.read_csv('/content/drive/MyDrive/ANLY560/lab3.csv')"
      ],
      "execution_count": null,
      "outputs": []
    },
    {
      "cell_type": "code",
      "metadata": {
        "colab": {
          "base_uri": "https://localhost:8080/"
        },
        "id": "HrXcPMGHiNBs",
        "outputId": "adb8eef7-8c1f-49bb-c984-bd65acec1f28"
      },
      "source": [
        "from google.colab import drive\n",
        "drive.mount('/content/drive')"
      ],
      "execution_count": null,
      "outputs": [
        {
          "output_type": "stream",
          "name": "stdout",
          "text": [
            "Mounted at /content/drive\n"
          ]
        }
      ]
    },
    {
      "cell_type": "code",
      "metadata": {
        "colab": {
          "base_uri": "https://localhost:8080/"
        },
        "id": "eLEVTdUhjpCI",
        "outputId": "573d2c5d-c21d-4d7e-d418-7015a42d6d1a"
      },
      "source": [
        "df.columns"
      ],
      "execution_count": null,
      "outputs": [
        {
          "output_type": "execute_result",
          "data": {
            "text/plain": [
              "Index(['County', 'Applicant Party Designation', 'Date of Birth',\n",
              "       'Mail Application Type', 'Application Request Date',\n",
              "       'Application Approved Date', 'Ballot Mailed Date',\n",
              "       'Ballot Returned Date', 'State House District', 'State Senate District',\n",
              "       'Congressional District'],\n",
              "      dtype='object')"
            ]
          },
          "metadata": {},
          "execution_count": 10
        }
      ]
    },
    {
      "cell_type": "code",
      "metadata": {
        "id": "heQTnd0KivZ6"
      },
      "source": [
        "dict = {\n",
        "    'County Name': 'County',\n",
        "    'Applicant Party Designation': 'Party',\n",
        "    'Date of Birth': 'DoB',\n",
        "    'Mail Application Type': 'Type',\n",
        "    'Application Request Date': 'RequestDate',\n",
        "    'Application Approved Date': 'ApprovedDate',\n",
        "    'Ballot Mailed Date': 'MailedDate',\n",
        "    'Ballot Returned Date': 'ReturnedDate',\n",
        "    'State House District': 'House',\n",
        "    'State Senate District': 'Senate',\n",
        "    'Congressional District': 'Congress'\n",
        "    }\n",
        "df.rename(columns = dict, inplace = True)"
      ],
      "execution_count": null,
      "outputs": []
    },
    {
      "cell_type": "code",
      "metadata": {
        "id": "O3wVYEbalSz3"
      },
      "source": [
        "df.DoB = pd.to_datetime(df.DoB, format = '%m/%d/%Y')\n",
        "df.RequestDate = pd.to_datetime(df.RequestDate, format = '%m/%d/%Y')\n",
        "df.ApprovedDate = pd.to_datetime(df.ApprovedDate, format = '%m/%d/%Y')\n",
        "df.MailedDate = pd.to_datetime(df.MailedDate, format = '%m/%d/%Y')\n",
        "df.ReturnedDate = pd.to_datetime(df.ReturnedDate, format = '%m/%d/%Y')\n",
        "\n"
      ],
      "execution_count": null,
      "outputs": []
    },
    {
      "cell_type": "code",
      "metadata": {
        "id": "VYY_XGYlmDsq"
      },
      "source": [
        "electionday = dt.datetime.strptime('2020-11-03', '%Y-%m-%d')\n",
        "df['age'] = (electionday - df.DoB) / np.timedelta64(1,'Y')"
      ],
      "execution_count": null,
      "outputs": []
    },
    {
      "cell_type": "code",
      "metadata": {
        "id": "fPeaUVncjHB5"
      },
      "source": [
        "df"
      ],
      "execution_count": null,
      "outputs": []
    },
    {
      "cell_type": "code",
      "metadata": {
        "id": "KHGvsIZpHRTn"
      },
      "source": [
        "  \n",
        "df2 <- \n",
        "  df2 %>%\n",
        "  mutate(DoB = mdy(DoB),\n",
        "         RequestDate = mdy(RequestDate),\n",
        "         ApprovedDate = mdy(ApprovedDate),\n",
        "         MailedDate = mdy(MailedDate),\n",
        "         ReturnedDate = mdy(ReturnedDate),\n",
        "         Age = (ymd('2020-11-03') - DoB)/dyears(1))"
      ],
      "execution_count": null,
      "outputs": []
    },
    {
      "cell_type": "code",
      "metadata": {
        "colab": {
          "base_uri": "https://localhost:8080/"
        },
        "id": "4qgcdXx2Kq4v",
        "outputId": "9212c174-2c2f-46a4-d6b3-ab6a3a2c1773"
      },
      "source": [
        "%%R\n",
        "\n",
        "head(df2)"
      ],
      "execution_count": null,
      "outputs": [
        {
          "output_type": "stream",
          "name": "stdout",
          "text": [
            "      County Party        DoB    Type RequestDate ApprovedDate MailedDate\n",
            "1   DELAWARE     D 1958-09-04 OLMAILV  2020-05-06   2020-05-06 2020-05-11\n",
            "2  ALLEGHENY     D 1945-01-17  OLREGV  2020-05-04   2020-05-04 2020-05-05\n",
            "3  ALLEGHENY     D 1965-11-20 OLMAILV  2020-05-14   2020-05-14 2020-05-19\n",
            "4  ALLEGHENY     R 1996-05-07 OLMAILV  2020-05-20   2020-05-20 2020-05-21\n",
            "5  ALLEGHENY     D 1984-01-15 OLMAILV  2020-04-24   2020-04-24 2020-05-01\n",
            "6 MONTGOMERY     D 2000-06-16 OLMAILV  2020-05-09   2020-05-09 2020-05-12\n",
            "  ReturnedDate                      House                   Senate\n",
            "1   2020-06-01 159TH LEGISLATIVE DISTRICT  9TH SENATORIAL DISTRICT\n",
            "2   2020-05-20  38TH LEGISLATIVE DISTRICT 37TH SENATORIAL DISTRICT\n",
            "3         <NA>  40TH LEGISLATIVE DISTRICT 37TH SENATORIAL DISTRICT\n",
            "4         <NA>  40TH LEGISLATIVE DISTRICT 37TH SENATORIAL DISTRICT\n",
            "5         <NA>  34TH LEGISLATIVE DISTRICT 43RD SENATORIAL DISTRICT\n",
            "6   2020-06-04 148TH LEGISLATIVE DISTRICT 12TH SENATORIAL DISTRICT\n",
            "                     Congress      Age\n",
            "1  5TH CONGRESSIONAL DISTRICT 62.16564\n",
            "2 18TH CONGRESSIONAL DISTRICT 75.79466\n",
            "3 18TH CONGRESSIONAL DISTRICT 54.95414\n",
            "4 18TH CONGRESSIONAL DISTRICT 24.49281\n",
            "5 18TH CONGRESSIONAL DISTRICT 36.80219\n",
            "6  4TH CONGRESSIONAL DISTRICT 20.38330\n"
          ]
        }
      ]
    },
    {
      "cell_type": "code",
      "metadata": {
        "colab": {
          "base_uri": "https://localhost:8080/"
        },
        "id": "_hcDGjs7LaUD",
        "outputId": "887e4a47-b519-4c36-9101-04a8a5f0b62b"
      },
      "source": [
        "%%R\n",
        "\n",
        "indx <- is.na(df2$ReturnedDate)\n",
        "non_vote <- df2[indx,]\n",
        "normal <- df2[!indx,]\n",
        "weird <- df2[F,]\n",
        "print(nrow(df2) == nrow(non_vote) + nrow(normal) + nrow(weird))\n",
        "print(nrow(non_vote))\n",
        "print(nrow(normal))\n",
        "print(nrow(weird))"
      ],
      "execution_count": null,
      "outputs": [
        {
          "output_type": "stream",
          "name": "stdout",
          "text": [
            "[1] TRUE\n",
            "[1] 360846\n",
            "[1] 1462302\n",
            "[1] 0\n"
          ]
        }
      ]
    },
    {
      "cell_type": "code",
      "metadata": {
        "colab": {
          "base_uri": "https://localhost:8080/"
        },
        "id": "vIdpsHHyZY7Q",
        "outputId": "70b1b732-cff5-47a9-f19c-af5a57148c27"
      },
      "source": [
        "%%R\n",
        "\n",
        "indx <- str_trim(normal$Party) == ''\n",
        "weird <- rbind(weird, normal[indx,])\n",
        "normal <- normal[!indx,]\n",
        "indx <- is.na(normal$Party)\n",
        "weird <- rbind(weird, normal[indx,])\n",
        "normal <- normal[!indx,]\n",
        "\n",
        "indx <- str_trim(normal$Type) == ''\n",
        "weird <- rbind(weird, normal[indx,])\n",
        "normal <- normal[!indx,]\n",
        "indx <- is.na(normal$Type)\n",
        "weird <- rbind(weird, normal[indx,])\n",
        "normal <- normal[!indx,]\n",
        "\n",
        "indx <- str_trim(normal$House) == ''\n",
        "weird <- rbind(weird, normal[indx,])\n",
        "normal <- normal[!indx,]\n",
        "indx <- is.na(normal$House)\n",
        "weird <- rbind(weird, normal[indx,])\n",
        "normal <- normal[!indx,]\n",
        "\n",
        "indx <- str_trim(normal$Senate) == ''\n",
        "weird <- rbind(weird, normal[indx,])\n",
        "normal <- normal[!indx,]\n",
        "indx <- is.na(normal$Senate)\n",
        "weird <- rbind(weird, normal[indx,])\n",
        "normal <- normal[!indx,]\n",
        "\n",
        "indx <- str_trim(normal$Congress) == ''\n",
        "weird <- rbind(weird, normal[indx,])\n",
        "normal <- normal[!indx,]\n",
        "indx <- is.na(normal$Congress)\n",
        "weird <- rbind(weird, normal[indx,])\n",
        "normal <- normal[!indx,]\n",
        "\n",
        "indx <- str_trim(normal$County) == ''\n",
        "weird <- rbind(weird, normal[indx,])\n",
        "normal <- normal[!indx,]\n",
        "indx <- is.na(normal$County)\n",
        "weird <- rbind(weird, normal[indx,])\n",
        "normal <- normal[!indx,]\n",
        "\n",
        "indx <- is.na(normal$DoB)\n",
        "weird <- rbind(weird, normal[indx,])\n",
        "normal <- normal[!indx,]\n",
        "\n",
        "print(nrow(df2) == nrow(non_vote) + nrow(normal) + nrow(weird))\n",
        "print(nrow(normal))\n",
        "print(nrow(weird))"
      ],
      "execution_count": null,
      "outputs": [
        {
          "output_type": "stream",
          "name": "stdout",
          "text": [
            "[1] TRUE\n",
            "[1] 1462098\n",
            "[1] 204\n"
          ]
        }
      ]
    },
    {
      "cell_type": "code",
      "metadata": {
        "colab": {
          "base_uri": "https://localhost:8080/"
        },
        "id": "pUY4yK3fc55s",
        "outputId": "c8ea1ecf-861b-404c-d48f-fcbfaad74250"
      },
      "source": [
        "%%R\n",
        "indx <- normal$Age < 18 | 118 <= normal$Age\n",
        "weird <- rbind(weird, normal[indx,])\n",
        "normal <- normal[!indx,]\n",
        "\n",
        "print(nrow(df2) == nrow(non_vote) + nrow(normal) + nrow(weird))\n",
        "print(nrow(normal))\n",
        "print(nrow(weird))"
      ],
      "execution_count": null,
      "outputs": [
        {
          "output_type": "stream",
          "name": "stdout",
          "text": [
            "[1] TRUE\n",
            "[1] 1462011\n",
            "[1] 291\n"
          ]
        }
      ]
    },
    {
      "cell_type": "code",
      "metadata": {
        "colab": {
          "base_uri": "https://localhost:8080/"
        },
        "id": "yaQ8SFv8fXxg",
        "outputId": "0bf49339-e375-4d8f-b12d-c2df8221225e"
      },
      "source": [
        "%%R\n",
        "\n",
        "indx <- \n",
        "    normal$RequestDate <= normal$ApprovedDate & \n",
        "    normal$ApprovedDate <= normal$MailedDate & \n",
        "    normal$MailedDate <= normal$ReturnedDate \n",
        "\n",
        "\n",
        "weird <- rbind(weird, normal[!indx,])\n",
        "normal <- normal[indx,]\n",
        "\n",
        "print(nrow(df2) == nrow(non_vote) + nrow(normal) + nrow(weird))\n",
        "print(nrow(normal))\n",
        "print(nrow(weird))\n"
      ],
      "execution_count": null,
      "outputs": [
        {
          "output_type": "stream",
          "name": "stdout",
          "text": [
            "[1] FALSE\n",
            "[1] 1461826\n",
            "[1] 1414\n"
          ]
        }
      ]
    }
  ]
}